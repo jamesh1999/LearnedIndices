{
 "cells": [
  {
   "cell_type": "code",
   "execution_count": 1,
   "metadata": {},
   "outputs": [],
   "source": [
    "import time, pickle, os\n",
    "\n",
    "import torch\n",
    "from torchvision import datasets\n",
    "import pytorch_lightning as pl\n",
    "\n",
    "import numpy as np\n",
    "import matplotlib.pyplot as plt\n",
    "\n",
    "from scipy import stats\n",
    "\n",
    "from sklearn.decomposition import PCA\n",
    "from sklearn.neighbors import KDTree, NeighborhoodComponentsAnalysis\n",
    "from sklearn.manifold import TSNE\n",
    "\n",
    "import pandas as pd\n",
    "\n",
    "import models, utils, analysis_utils\n",
    "\n",
    "utils.init()"
   ]
  },
  {
   "attachments": {},
   "cell_type": "markdown",
   "metadata": {},
   "source": [
    "### Display  Parameters"
   ]
  },
  {
   "cell_type": "code",
   "execution_count": 5,
   "metadata": {},
   "outputs": [
    {
     "name": "stdout",
     "output_type": "stream",
     "text": [
      "     dimensions       dataset    model        type  crecon  calpha  clambda  \\\n",
      "0           400  fashionmnist  basicnn       basic       1     1.0   3000.0   \n",
      "1           400  fashionmnist  basicnn       basic       1     1.0   3000.0   \n",
      "2           400  fashionmnist  basicnn       basic       1     1.0   3000.0   \n",
      "3           400  fashionmnist  basicnn       basic       1     1.0   3000.0   \n",
      "4           400  fashionmnist  basicnn       basic       1     1.0   3000.0   \n",
      "5           400  fashionmnist  basicnn       basic       1     1.0   3000.0   \n",
      "6           400  fashionmnist  basicnn       basic       1     1.0   3000.0   \n",
      "7            48  fashionmnist  basicnn       basic       1     1.0   3000.0   \n",
      "8            48  fashionmnist  basicnn       basic       1     1.0   3000.0   \n",
      "9            48  fashionmnist  basicnn       basic       1     1.0   3000.0   \n",
      "10           48  fashionmnist  basicnn       basic       1     1.0   3000.0   \n",
      "11           48  fashionmnist  basicnn       basic       1     1.0   3000.0   \n",
      "12           48  fashionmnist  basicnn       basic       1     1.0   3000.0   \n",
      "13           48  fashionmnist  basicnn       basic       1     1.0   3000.0   \n",
      "14           80     sifttrunc  basicnn       basic       1     1.0   3000.0   \n",
      "15           80     sifttrunc  basicnn       basic       1     1.0   3000.0   \n",
      "16           80     sifttrunc  basicnn       basic       1     1.0   3000.0   \n",
      "17           80     sifttrunc  basicnn       basic       1     1.0   3000.0   \n",
      "18           80     sifttrunc  basicnn       basic       1     1.0   3000.0   \n",
      "19           80     sifttrunc  basicnn       basic       1     1.0   3000.0   \n",
      "20           80     sifttrunc  basicnn       basic       1     1.0   3000.0   \n",
      "21           20     sifttrunc  basicnn       basic       1     1.0   3000.0   \n",
      "22           20     sifttrunc  basicnn       basic       1     1.0   3000.0   \n",
      "23           20     sifttrunc  basicnn       basic       1     1.0   3000.0   \n",
      "24           20     sifttrunc  basicnn       basic       1     1.0   3000.0   \n",
      "25           20     sifttrunc  basicnn       basic       1     1.0   3000.0   \n",
      "26           80     sifttrunc  basicnn       basic       1     1.0   3000.0   \n",
      "27           80     sifttrunc  basicnn       basic       1     1.0   3000.0   \n",
      "28           80     sifttrunc  basicnn       basic       1     1.0   3000.0   \n",
      "29           80     sifttrunc  basicnn       basic       1     1.0   3000.0   \n",
      "30           80     sifttrunc  basicnn       basic       1     1.0   3000.0   \n",
      "31           80     sifttrunc  basicnn       basic       1     1.0   3000.0   \n",
      "32           80     sifttrunc  basicnn       basic       1     1.0   3000.0   \n",
      "33           20     sifttrunc  basicnn       basic       1     1.0   3000.0   \n",
      "34           20     sifttrunc  basicnn       basic       1     1.0   3000.0   \n",
      "35           20     sifttrunc  basicnn       basic       1     1.0   3000.0   \n",
      "36           20     sifttrunc  basicnn       basic       1     1.0   3000.0   \n",
      "37           20     sifttrunc  basicnn       basic       1     1.0   3000.0   \n",
      "38           20     sifttrunc  basicnn       basic       1     1.0   3000.0   \n",
      "39           20     sifttrunc  basicnn       basic       1     1.0   3000.0   \n",
      "40          400  fashionmnist  basicnn     relaxed       1     1.0   3000.0   \n",
      "41           48  fashionmnist  basicnn     relaxed       1     1.0   3000.0   \n",
      "42           80     sifttrunc  basicnn     relaxed       1     1.0   3000.0   \n",
      "43           80     sifttrunc  basicnn     relaxed       1     1.0   3000.0   \n",
      "44           20     sifttrunc  basicnn     relaxed       1     1.0   3000.0   \n",
      "45           20     sifttrunc  basicnn     relaxed       1     1.0   3000.0   \n",
      "46          400  fashionmnist  basicnn     relaxed       1     1.0   3000.0   \n",
      "47           48  fashionmnist  basicnn     relaxed       1     1.0   3000.0   \n",
      "48           80     sifttrunc  basicnn     relaxed       1     1.0   3000.0   \n",
      "49           80     sifttrunc  basicnn     relaxed       1     1.0   3000.0   \n",
      "50           20     sifttrunc  basicnn     relaxed       1     1.0   3000.0   \n",
      "51           20     sifttrunc  basicnn     relaxed       1     1.0   3000.0   \n",
      "52          400  fashionmnist  basicnn     relaxed       1     1.0   3000.0   \n",
      "53          400  fashionmnist  basicnn     relaxed       1     1.0   3000.0   \n",
      "54           48  fashionmnist  basicnn     relaxed       1     1.0   3000.0   \n",
      "55           48  fashionmnist  basicnn     relaxed       1     1.0   3000.0   \n",
      "56           80     sifttrunc  basicnn     relaxed       1     1.0   3000.0   \n",
      "57           80     sifttrunc  basicnn     relaxed       1     1.0   3000.0   \n",
      "58           20     sifttrunc  basicnn     relaxed       1     1.0   3000.0   \n",
      "59           20     sifttrunc  basicnn     relaxed       1     1.0   3000.0   \n",
      "60          400  fashionmnist  basicnn       basic       1     1.0   3000.0   \n",
      "61          400  fashionmnist  basicnn       basic       1     1.0   3000.0   \n",
      "62           48  fashionmnist  basicnn       basic       1     1.0   3000.0   \n",
      "63           48  fashionmnist  basicnn       basic       1     1.0   3000.0   \n",
      "64           80     sifttrunc  basicnn       basic       1     1.0   3000.0   \n",
      "65           80     sifttrunc  basicnn       basic       1     1.0   3000.0   \n",
      "66           20     sifttrunc  basicnn       basic       1     1.0   3000.0   \n",
      "67           20     sifttrunc  basicnn       basic       1     1.0   3000.0   \n",
      "68          128     nytimesl2  basicnn       basic       1     1.0   3000.0   \n",
      "69          128     nytimesl2  basicnn       basic       1     1.0   3000.0   \n",
      "70           32     nytimesl2  basicnn       basic       1     1.0   3000.0   \n",
      "71           32     nytimesl2  basicnn       basic       1     1.0   3000.0   \n",
      "72          400  fashionmnist  basicnn       basic       1     1.0   3000.0   \n",
      "73          400  fashionmnist  basicnn       basic       1     1.0   3000.0   \n",
      "74           48  fashionmnist  basicnn       basic       1     1.0   3000.0   \n",
      "75           48  fashionmnist  basicnn       basic       1     1.0   3000.0   \n",
      "76           80     sifttrunc  basicnn       basic       1     1.0   3000.0   \n",
      "77           80     sifttrunc  basicnn       basic       1     1.0   3000.0   \n",
      "78           20     sifttrunc  basicnn       basic       1     1.0   3000.0   \n",
      "79           20     sifttrunc  basicnn       basic       1     1.0   3000.0   \n",
      "80          128     nytimesl2  basicnn       basic       1     1.0   3000.0   \n",
      "81          128     nytimesl2  basicnn       basic       1     1.0   3000.0   \n",
      "82           32     nytimesl2  basicnn       basic       1     1.0   3000.0   \n",
      "83           32     nytimesl2  basicnn       basic       1     1.0   3000.0   \n",
      "84          400  fashionmnist  basicnn  relaxedold       1     1.0   3000.0   \n",
      "85          400  fashionmnist  basicnn  relaxedold       1     1.0   3000.0   \n",
      "86           48  fashionmnist  basicnn  relaxedold       1     1.0   3000.0   \n",
      "87           48  fashionmnist  basicnn  relaxedold       1     1.0   3000.0   \n",
      "88           80     sifttrunc  basicnn  relaxedold       1     1.0   3000.0   \n",
      "89           80     sifttrunc  basicnn  relaxedold       1     1.0   3000.0   \n",
      "90           20     sifttrunc  basicnn  relaxedold       1     1.0   3000.0   \n",
      "91           20     sifttrunc  basicnn  relaxedold       1     1.0   3000.0   \n",
      "92          128     nytimesl2  basicnn  relaxedold       1     1.0   3000.0   \n",
      "93          128     nytimesl2  basicnn  relaxedold       1     1.0   3000.0   \n",
      "94           32     nytimesl2  basicnn  relaxedold       1     1.0   3000.0   \n",
      "95           32     nytimesl2  basicnn  relaxedold       1     1.0   3000.0   \n",
      "96          400  fashionmnist  basicnn     relaxed       1     1.0   3000.0   \n",
      "97          400  fashionmnist  basicnn     relaxed       1     1.0   3000.0   \n",
      "98           48  fashionmnist  basicnn     relaxed       1     1.0   3000.0   \n",
      "99           48  fashionmnist  basicnn     relaxed       1     1.0   3000.0   \n",
      "100          80     sifttrunc  basicnn     relaxed       1     1.0   3000.0   \n",
      "101          80     sifttrunc  basicnn     relaxed       1     1.0   3000.0   \n",
      "102          20     sifttrunc  basicnn     relaxed       1     1.0   3000.0   \n",
      "103          20     sifttrunc  basicnn     relaxed       1     1.0   3000.0   \n",
      "104         128     nytimesl2  basicnn     relaxed       1     1.0   3000.0   \n",
      "105         128     nytimesl2  basicnn     relaxed       1     1.0   3000.0   \n",
      "106          32     nytimesl2  basicnn     relaxed       1     1.0   3000.0   \n",
      "107          32     nytimesl2  basicnn     relaxed       1     1.0   3000.0   \n",
      "108         400  fashionmnist  basicnn     relaxed       1     1.0   3000.0   \n",
      "109         400  fashionmnist  basicnn     relaxed       1     1.0   3000.0   \n",
      "110          48  fashionmnist  basicnn     relaxed       1     1.0   3000.0   \n",
      "111          48  fashionmnist  basicnn     relaxed       1     1.0   3000.0   \n",
      "112          80     sifttrunc  basicnn     relaxed       1     1.0   3000.0   \n",
      "113          80     sifttrunc  basicnn     relaxed       1     1.0   3000.0   \n",
      "114          20     sifttrunc  basicnn     relaxed       1     1.0   3000.0   \n",
      "115          20     sifttrunc  basicnn     relaxed       1     1.0   3000.0   \n",
      "116         128     nytimesl2  basicnn     relaxed       1     1.0   3000.0   \n",
      "117         128     nytimesl2  basicnn     relaxed       1     1.0   3000.0   \n",
      "118          32     nytimesl2  basicnn     relaxed       1     1.0   3000.0   \n",
      "119          32     nytimesl2  basicnn     relaxed       1     1.0   3000.0   \n",
      "120         400  fashionmnist  basicnn         vae       1     1.0      0.0   \n",
      "121         400  fashionmnist  basicnn         vae       1     1.0      0.0   \n",
      "122          48  fashionmnist  basicnn         vae       1     1.0      0.0   \n",
      "123          48  fashionmnist  basicnn         vae       1     1.0      0.0   \n",
      "124          80     sifttrunc  basicnn         vae       1     1.0      0.0   \n",
      "125          80     sifttrunc  basicnn         vae       1     1.0      0.0   \n",
      "126          20     sifttrunc  basicnn         vae       1     1.0      0.0   \n",
      "127          20     sifttrunc  basicnn         vae       1     1.0      0.0   \n",
      "128         128     nytimesl2  basicnn         vae       1     1.0      0.0   \n",
      "129         128     nytimesl2  basicnn         vae       1     1.0      0.0   \n",
      "130          32     nytimesl2  basicnn         vae       1     1.0      0.0   \n",
      "131          32     nytimesl2  basicnn         vae       1     1.0      0.0   \n",
      "132         400  fashionmnist  basicnn         vae       1     0.0      1.0   \n",
      "133         400  fashionmnist  basicnn         vae       1     0.0      1.0   \n",
      "134          48  fashionmnist  basicnn         vae       1     0.0      1.0   \n",
      "135          48  fashionmnist  basicnn         vae       1     0.0      1.0   \n",
      "136          80     sifttrunc  basicnn         vae       1     0.0      1.0   \n",
      "137          80     sifttrunc  basicnn         vae       1     0.0      1.0   \n",
      "138          20     sifttrunc  basicnn         vae       1     0.0      1.0   \n",
      "139          20     sifttrunc  basicnn         vae       1     0.0      1.0   \n",
      "140         128     nytimesl2  basicnn         vae       1     0.0      1.0   \n",
      "141         128     nytimesl2  basicnn         vae       1     0.0      1.0   \n",
      "142          32     nytimesl2  basicnn         vae       1     0.0      1.0   \n",
      "143          32     nytimesl2  basicnn         vae       1     0.0      1.0   \n",
      "144         400  fashionmnist  basicnn     triplet       1     1.0   3000.0   \n",
      "145         400  fashionmnist  basicnn     triplet       1     1.0   3000.0   \n",
      "146          48  fashionmnist  basicnn     triplet       1     1.0   3000.0   \n",
      "147          48  fashionmnist  basicnn     triplet       1     1.0   3000.0   \n",
      "148          80     sifttrunc  basicnn     triplet       1     1.0   3000.0   \n",
      "149          80     sifttrunc  basicnn     triplet       1     1.0   3000.0   \n",
      "150          20     sifttrunc  basicnn     triplet       1     1.0   3000.0   \n",
      "151          20     sifttrunc  basicnn     triplet       1     1.0   3000.0   \n",
      "152         128     nytimesl2  basicnn     triplet       1     1.0   3000.0   \n",
      "153         128     nytimesl2  basicnn     triplet       1     1.0   3000.0   \n",
      "154          32     nytimesl2  basicnn     triplet       1     1.0   3000.0   \n",
      "155          32     nytimesl2  basicnn     triplet       1     1.0   3000.0   \n",
      "\n",
      "      cortho  cspace  ctriplet  triplet_reps  encoder_wd  decoder_wd  \\\n",
      "0    0.00001       1         1             1           0           0   \n",
      "1    0.00001       1         1             2           0           0   \n",
      "2    0.00001       1         1             4           0           0   \n",
      "3    0.00001       1         1             8           0           0   \n",
      "4    0.00001       1         1            16           0           0   \n",
      "5    0.00001       1         1            28           0           0   \n",
      "6    0.00001       1         1            50           0           0   \n",
      "7    0.00001       1         1             1           0           0   \n",
      "8    0.00001       1         1             2           0           0   \n",
      "9    0.00001       1         1             4           0           0   \n",
      "10   0.00001       1         1             8           0           0   \n",
      "11   0.00001       1         1            16           0           0   \n",
      "12   0.00001       1         1            28           0           0   \n",
      "13   0.00001       1         1            50           0           0   \n",
      "14   0.00001       1         1             1           0           0   \n",
      "15   0.00001       1         1             2           0           0   \n",
      "16   0.00001       1         1             4           0           0   \n",
      "17   0.00001       1         1             8           0           0   \n",
      "18   0.00001       1         1            16           0           0   \n",
      "19   0.00001       1         1            28           0           0   \n",
      "20   0.00001       1         1            50           0           0   \n",
      "21   0.00001       1         1             1           0           0   \n",
      "22   0.00001       1         1             2           0           0   \n",
      "23   0.00001       1         1             4           0           0   \n",
      "24   0.00001       1         1             8           0           0   \n",
      "25   0.00001       1         1            16           0           0   \n",
      "26   0.00001       1         1             1           0           0   \n",
      "27   0.00001       1         1             2           0           0   \n",
      "28   0.00001       1         1             4           0           0   \n",
      "29   0.00001       1         1             8           0           0   \n",
      "30   0.00001       1         1            16           0           0   \n",
      "31   0.00001       1         1            28           0           0   \n",
      "32   0.00001       1         1            50           0           0   \n",
      "33   0.00001       1         1             1           0           0   \n",
      "34   0.00001       1         1             2           0           0   \n",
      "35   0.00001       1         1             4           0           0   \n",
      "36   0.00001       1         1             8           0           0   \n",
      "37   0.00001       1         1            16           0           0   \n",
      "38   0.00001       1         1            28           0           0   \n",
      "39   0.00001       1         1            50           0           0   \n",
      "40   0.00001       1         1            50           0           0   \n",
      "41   0.00001       1         1            50           0           0   \n",
      "42   0.00001       1         1             1           0           0   \n",
      "43   0.00001       1         1            50           0           0   \n",
      "44   0.00001       1         1             1           0           0   \n",
      "45   0.00001       1         1            50           0           0   \n",
      "46   0.00001       1         1            50           0           0   \n",
      "47   0.00001       1         1            50           0           0   \n",
      "48   0.00001       1         1             1           0           0   \n",
      "49   0.00001       1         1            50           0           0   \n",
      "50   0.00001       1         1             1           0           0   \n",
      "51   0.00001       1         1            50           0           0   \n",
      "52   0.00001       1         1             1           0           0   \n",
      "53   0.00001       1         1            50           0           0   \n",
      "54   0.00001       1         1             1           0           0   \n",
      "55   0.00001       1         1            50           0           0   \n",
      "56   0.00001       1         1             1           0           0   \n",
      "57   0.00001       1         1            50           0           0   \n",
      "58   0.00001       1         1             1           0           0   \n",
      "59   0.00001       1         1            50           0           0   \n",
      "60   0.00001       1         1             1           0           0   \n",
      "61   0.00001       1         1            50           0           0   \n",
      "62   0.00001       1         1             1           0           0   \n",
      "63   0.00001       1         1            50           0           0   \n",
      "64   0.00001       1         1             1           0           0   \n",
      "65   0.00001       1         1            50           0           0   \n",
      "66   0.00001       1         1             1           0           0   \n",
      "67   0.00001       1         1            50           0           0   \n",
      "68   0.00001       1         1             1           0           0   \n",
      "69   0.00001       1         1            50           0           0   \n",
      "70   0.00001       1         1             1           0           0   \n",
      "71   0.00001       1         1            50           0           0   \n",
      "72   0.00001       1         1             1           0           0   \n",
      "73   0.00001       1         1            50           0           0   \n",
      "74   0.00001       1         1             1           0           0   \n",
      "75   0.00001       1         1            50           0           0   \n",
      "76   0.00001       1         1             1           0           0   \n",
      "77   0.00001       1         1            50           0           0   \n",
      "78   0.00001       1         1             1           0           0   \n",
      "79   0.00001       1         1            50           0           0   \n",
      "80   0.00001       1         1             1           0           0   \n",
      "81   0.00001       1         1            50           0           0   \n",
      "82   0.00001       1         1             1           0           0   \n",
      "83   0.00001       1         1            50           0           0   \n",
      "84   0.00001       1         1             1           0           0   \n",
      "85   0.00001       1         1            50           0           0   \n",
      "86   0.00001       1         1             1           0           0   \n",
      "87   0.00001       1         1            50           0           0   \n",
      "88   0.00001       1         1             1           0           0   \n",
      "89   0.00001       1         1            50           0           0   \n",
      "90   0.00001       1         1             1           0           0   \n",
      "91   0.00001       1         1            50           0           0   \n",
      "92   0.00001       1         1             1           0           0   \n",
      "93   0.00001       1         1            50           0           0   \n",
      "94   0.00001       1         1             1           0           0   \n",
      "95   0.00001       1         1            50           0           0   \n",
      "96   0.00001       1         1             1           0           0   \n",
      "97   0.00001       1         1            50           0           0   \n",
      "98   0.00001       1         1             1           0           0   \n",
      "99   0.00001       1         1            50           0           0   \n",
      "100  0.00001       1         1             1           0           0   \n",
      "101  0.00001       1         1            50           0           0   \n",
      "102  0.00001       1         1             1           0           0   \n",
      "103  0.00001       1         1            50           0           0   \n",
      "104  0.00001       1         1             1           0           0   \n",
      "105  0.00001       1         1            50           0           0   \n",
      "106  0.00001       1         1             1           0           0   \n",
      "107  0.00001       1         1            50           0           0   \n",
      "108  0.00001       1         1             1           0           0   \n",
      "109  0.00001       1         1            50           0           0   \n",
      "110  0.00001       1         1             1           0           0   \n",
      "111  0.00001       1         1            50           0           0   \n",
      "112  0.00001       1         1             1           0           0   \n",
      "113  0.00001       1         1            50           0           0   \n",
      "114  0.00001       1         1             1           0           0   \n",
      "115  0.00001       1         1            50           0           0   \n",
      "116  0.00001       1         1             1           0           0   \n",
      "117  0.00001       1         1            50           0           0   \n",
      "118  0.00001       1         1             1           0           0   \n",
      "119  0.00001       1         1            50           0           0   \n",
      "120  0.00001       1         1             1           0           0   \n",
      "121  0.00001       1         1            50           0           0   \n",
      "122  0.00001       1         1             1           0           0   \n",
      "123  0.00001       1         1            50           0           0   \n",
      "124  0.00001       1         1             1           0           0   \n",
      "125  0.00001       1         1            50           0           0   \n",
      "126  0.00001       1         1             1           0           0   \n",
      "127  0.00001       1         1            50           0           0   \n",
      "128  0.00001       1         1             1           0           0   \n",
      "129  0.00001       1         1            50           0           0   \n",
      "130  0.00001       1         1             1           0           0   \n",
      "131  0.00001       1         1            50           0           0   \n",
      "132  0.00001       1         1             1           0           0   \n",
      "133  0.00001       1         1            50           0           0   \n",
      "134  0.00001       1         1             1           0           0   \n",
      "135  0.00001       1         1            50           0           0   \n",
      "136  0.00001       1         1             1           0           0   \n",
      "137  0.00001       1         1            50           0           0   \n",
      "138  0.00001       1         1             1           0           0   \n",
      "139  0.00001       1         1            50           0           0   \n",
      "140  0.00001       1         1             1           0           0   \n",
      "141  0.00001       1         1            50           0           0   \n",
      "142  0.00001       1         1             1           0           0   \n",
      "143  0.00001       1         1            50           0           0   \n",
      "144  0.00001       1         1             1           0           0   \n",
      "145  0.00001       1         1            50           0           0   \n",
      "146  0.00001       1         1             1           0           0   \n",
      "147  0.00001       1         1            50           0           0   \n",
      "148  0.00001       1         1             1           0           0   \n",
      "149  0.00001       1         1            50           0           0   \n",
      "150  0.00001       1         1             1           0           0   \n",
      "151  0.00001       1         1            50           0           0   \n",
      "152  0.00001       1         1             1           0           0   \n",
      "153  0.00001       1         1            50           0           0   \n",
      "154  0.00001       1         1             1           0           0   \n",
      "155  0.00001       1         1            50           0           0   \n",
      "\n",
      "    optimiser                       time  power  \n",
      "0        adam 2023-05-08 20:06:26.121420    NaN  \n",
      "1        adam 2023-05-08 20:08:43.103200    NaN  \n",
      "2        adam 2023-05-08 20:10:59.918798    NaN  \n",
      "3        adam 2023-05-08 20:13:27.236535    NaN  \n",
      "4        adam 2023-05-08 20:15:51.550633    NaN  \n",
      "5        adam 2023-05-08 20:19:32.696081    NaN  \n",
      "6        adam 2023-05-08 20:24:46.666897    NaN  \n",
      "7        adam 2023-05-08 20:31:59.099123    NaN  \n",
      "8        adam 2023-05-08 20:34:09.606416    NaN  \n",
      "9        adam 2023-05-08 20:36:21.786286    NaN  \n",
      "10       adam 2023-05-08 20:38:56.335810    NaN  \n",
      "11       adam 2023-05-08 20:41:45.319397    NaN  \n",
      "12       adam 2023-05-08 20:45:27.578728    NaN  \n",
      "13       adam 2023-05-08 20:50:09.875468    NaN  \n",
      "14       adam 2023-05-08 21:39:35.352769    NaN  \n",
      "15       adam 2023-05-08 21:42:50.215578    NaN  \n",
      "16       adam 2023-05-08 21:46:14.911725    NaN  \n",
      "17       adam 2023-05-08 21:50:00.280679    NaN  \n",
      "18       adam 2023-05-08 21:54:22.228199    NaN  \n",
      "19       adam 2023-05-08 22:00:22.971353    NaN  \n",
      "20       adam 2023-05-08 22:08:26.176732    NaN  \n",
      "21       adam 2023-05-08 22:18:46.565720    NaN  \n",
      "22       adam 2023-05-08 22:22:09.776212    NaN  \n",
      "23       adam 2023-05-08 22:25:41.499112    NaN  \n",
      "24       adam 2023-05-08 22:28:13.546273    NaN  \n",
      "25       adam 2023-05-08 22:32:29.009046    NaN  \n",
      "26       adam 2023-05-08 22:40:31.589454    NaN  \n",
      "27       adam 2023-05-08 22:43:46.850449    NaN  \n",
      "28       adam 2023-05-08 22:47:26.795087    NaN  \n",
      "29       adam 2023-05-08 22:51:21.091461    NaN  \n",
      "30       adam 2023-05-08 22:55:51.339744    NaN  \n",
      "31       adam 2023-05-08 23:01:50.367329    NaN  \n",
      "32       adam 2023-05-08 23:09:47.205949    NaN  \n",
      "33       adam 2023-05-08 23:16:40.948334    NaN  \n",
      "34       adam 2023-05-08 23:20:16.773271    NaN  \n",
      "35       adam 2023-05-08 23:21:39.164196    NaN  \n",
      "36       adam 2023-05-08 23:23:23.355136    NaN  \n",
      "37       adam 2023-05-08 23:26:39.032457    NaN  \n",
      "38       adam 2023-05-08 23:30:24.886468    NaN  \n",
      "39       adam 2023-05-08 23:35:34.232980    NaN  \n",
      "40       adam 2023-05-10 18:36:33.351067    NaN  \n",
      "41       adam 2023-05-10 18:45:10.354599    NaN  \n",
      "42       adam 2023-05-10 18:53:22.311938    NaN  \n",
      "43       adam 2023-05-10 18:56:52.324165    NaN  \n",
      "44       adam 2023-05-10 19:02:48.891009    NaN  \n",
      "45       adam 2023-05-10 19:06:02.865381    NaN  \n",
      "46       adam 2023-05-10 19:24:58.376411    NaN  \n",
      "47       adam 2023-05-10 19:33:57.274441    NaN  \n",
      "48       adam 2023-05-10 19:42:58.188455    NaN  \n",
      "49       adam 2023-05-10 19:46:17.671784    NaN  \n",
      "50       adam 2023-05-10 20:00:29.766275    NaN  \n",
      "51       adam 2023-05-10 20:04:15.661334    NaN  \n",
      "52       adam 2023-05-10 20:16:13.184498    NaN  \n",
      "53       adam 2023-05-10 20:18:20.992436    NaN  \n",
      "54       adam 2023-05-10 20:18:38.983522    NaN  \n",
      "55       adam 2023-05-10 20:20:45.080366    NaN  \n",
      "56       adam 2023-05-10 20:21:03.403815    NaN  \n",
      "57       adam 2023-05-10 20:24:23.242442    NaN  \n",
      "58       adam 2023-05-10 20:24:48.534820    NaN  \n",
      "59       adam 2023-05-10 20:28:46.005536    NaN  \n",
      "60       adam 2023-05-11 00:11:29.359630    2.0  \n",
      "61       adam 2023-05-11 00:13:48.562682    2.0  \n",
      "62       adam 2023-05-11 00:19:18.502778    2.0  \n",
      "63       adam 2023-05-11 00:21:28.937765    2.0  \n",
      "64       adam 2023-05-11 00:28:52.193672    2.0  \n",
      "65       adam 2023-05-11 00:32:06.208188    2.0  \n",
      "66       adam 2023-05-11 00:39:43.138615    2.0  \n",
      "67       adam 2023-05-11 00:43:23.273566    2.0  \n",
      "68       adam 2023-05-11 00:53:48.870904    2.0  \n",
      "69       adam 2023-05-11 00:57:09.580818    2.0  \n",
      "70       adam 2023-05-11 01:00:08.651987    2.0  \n",
      "71       adam 2023-05-11 01:03:14.261322    2.0  \n",
      "72       adam 2023-05-11 01:06:13.996278    1.0  \n",
      "73       adam 2023-05-11 01:08:16.298592    1.0  \n",
      "74       adam 2023-05-11 01:11:46.861492    1.0  \n",
      "75       adam 2023-05-11 01:13:46.956795    1.0  \n",
      "76       adam 2023-05-11 01:19:20.755708    1.0  \n",
      "77       adam 2023-05-11 01:22:55.721411    1.0  \n",
      "78       adam 2023-05-11 01:34:36.491065    1.0  \n",
      "79       adam 2023-05-11 01:37:43.202005    1.0  \n",
      "80       adam 2023-05-11 01:48:28.948067    1.0  \n",
      "81       adam 2023-05-11 01:51:49.042259    1.0  \n",
      "82       adam 2023-05-11 01:54:31.890965    1.0  \n",
      "83       adam 2023-05-11 01:57:57.469612    1.0  \n",
      "84       adam 2023-05-11 02:00:40.300221    2.0  \n",
      "85       adam 2023-05-11 02:02:43.185291    2.0  \n",
      "86       adam 2023-05-11 02:03:01.706196    2.0  \n",
      "87       adam 2023-05-11 02:05:03.059561    2.0  \n",
      "88       adam 2023-05-11 02:05:21.467998    2.0  \n",
      "89       adam 2023-05-11 02:08:49.515174    2.0  \n",
      "90       adam 2023-05-11 02:09:15.115887    2.0  \n",
      "91       adam 2023-05-11 02:12:53.588572    2.0  \n",
      "92       adam 2023-05-11 02:13:19.210014    2.0  \n",
      "93       adam 2023-05-11 02:16:41.936168    2.0  \n",
      "94       adam 2023-05-11 02:17:07.740852    2.0  \n",
      "95       adam 2023-05-11 02:20:35.377086    2.0  \n",
      "96       adam 2023-05-11 02:21:01.107558    2.0  \n",
      "97       adam 2023-05-11 02:23:04.619843    2.0  \n",
      "98       adam 2023-05-11 02:32:16.248293    2.0  \n",
      "99       adam 2023-05-11 02:34:18.427556    2.0  \n",
      "100      adam 2023-05-11 02:43:28.867837    2.0  \n",
      "101      adam 2023-05-11 02:49:05.306018    2.0  \n",
      "102      adam 2023-05-11 03:03:24.091135    2.0  \n",
      "103      adam 2023-05-11 03:07:07.431969    2.0  \n",
      "104      adam 2023-05-11 03:15:20.370047    2.0  \n",
      "105      adam 2023-05-11 03:18:47.793366    2.0  \n",
      "106      adam 2023-05-11 03:21:57.113433    2.0  \n",
      "107      adam 2023-05-11 03:25:29.110141    2.0  \n",
      "108      adam 2023-05-11 03:28:38.806946    1.0  \n",
      "109      adam 2023-05-11 03:30:25.811908    1.0  \n",
      "110      adam 2023-05-11 03:39:33.226135    1.0  \n",
      "111      adam 2023-05-11 03:41:34.957428    1.0  \n",
      "112      adam 2023-05-11 03:50:33.229771    1.0  \n",
      "113      adam 2023-05-11 03:54:10.946615    1.0  \n",
      "114      adam 2023-05-11 04:07:57.113191    1.0  \n",
      "115      adam 2023-05-11 04:11:27.929802    1.0  \n",
      "116      adam 2023-05-11 04:20:26.068811    1.0  \n",
      "117      adam 2023-05-11 04:23:35.707466    1.0  \n",
      "118      adam 2023-05-11 04:26:47.000519    1.0  \n",
      "119      adam 2023-05-11 04:30:21.992448    1.0  \n",
      "120      adam 2023-05-11 04:34:33.157922    2.0  \n",
      "121      adam 2023-05-11 04:38:51.463791    2.0  \n",
      "122      adam 2023-05-11 04:43:09.537016    2.0  \n",
      "123      adam 2023-05-11 04:45:46.477966    2.0  \n",
      "124      adam 2023-05-11 04:48:24.453081    2.0  \n",
      "125      adam 2023-05-11 04:52:30.750758    2.0  \n",
      "126      adam 2023-05-11 04:56:39.257897    2.0  \n",
      "127      adam 2023-05-11 05:00:35.744064    2.0  \n",
      "128      adam 2023-05-11 05:04:31.863915    2.0  \n",
      "129      adam 2023-05-11 05:08:54.132590    2.0  \n",
      "130      adam 2023-05-11 05:13:17.507653    2.0  \n",
      "131      adam 2023-05-11 05:15:25.691017    2.0  \n",
      "132      adam 2023-05-11 05:17:34.244873    2.0  \n",
      "133      adam 2023-05-11 05:21:53.434723    2.0  \n",
      "134      adam 2023-05-11 05:26:11.728502    2.0  \n",
      "135      adam 2023-05-11 05:28:48.174609    2.0  \n",
      "136      adam 2023-05-11 05:31:24.029157    2.0  \n",
      "137      adam 2023-05-11 05:34:00.309229    2.0  \n",
      "138      adam 2023-05-11 05:37:06.255338    2.0  \n",
      "139      adam 2023-05-11 05:40:39.237454    2.0  \n",
      "140      adam 2023-05-11 05:44:29.289563    2.0  \n",
      "141      adam 2023-05-11 05:47:15.382079    2.0  \n",
      "142      adam 2023-05-11 05:49:22.765498    2.0  \n",
      "143      adam 2023-05-11 05:51:07.367821    2.0  \n",
      "144      adam 2023-05-11 13:50:13.032478    2.0  \n",
      "145      adam 2023-05-11 13:51:40.741769    2.0  \n",
      "146      adam 2023-05-11 14:06:05.467812    2.0  \n",
      "147      adam 2023-05-11 14:08:10.838399    2.0  \n",
      "148      adam 2023-05-11 14:19:11.805739    2.0  \n",
      "149      adam 2023-05-11 14:21:54.777006    2.0  \n",
      "150      adam 2023-05-11 14:39:55.911963    2.0  \n",
      "151      adam 2023-05-11 14:43:35.031268    2.0  \n",
      "152      adam 2023-05-11 15:00:39.676926    2.0  \n",
      "153      adam 2023-05-11 15:03:57.368394    2.0  \n",
      "154      adam 2023-05-11 15:21:55.917415    2.0  \n",
      "155      adam 2023-05-11 15:25:01.363127    2.0  \n"
     ]
    }
   ],
   "source": [
    "df = pd.read_pickle(\"hyperparameters.pkl\")\n",
    "print(df)"
   ]
  },
  {
   "cell_type": "code",
   "execution_count": 14,
   "metadata": {},
   "outputs": [
    {
     "name": "stdout",
     "output_type": "stream",
     "text": [
      "     index  index_param  reduction_model                       time\n",
      "0   kdtree           -1                7 2023-04-25 04:19:37.172964\n",
      "1     pynn            5                7 2023-04-25 04:19:59.489945\n",
      "2     pynn           10                7 2023-04-25 04:20:30.324162\n",
      "3     pynn           25                7 2023-04-25 04:21:02.891798\n",
      "4     pynn           50                7 2023-04-25 04:21:40.618108\n",
      "5     hnsw            5                7 2023-04-25 04:22:24.425375\n",
      "6     hnsw           10                7 2023-04-25 04:22:57.641592\n",
      "7     hnsw           25                7 2023-04-25 04:23:31.262171\n",
      "8     hnsw           50                7 2023-04-25 04:24:04.715073\n",
      "9   kdtree           -1                9 2023-04-25 04:24:16.523735\n",
      "10    pynn            5                9 2023-04-25 04:24:37.658273\n",
      "11    pynn           10                9 2023-04-25 04:25:08.766737\n",
      "12    pynn           25                9 2023-04-25 04:25:40.391001\n",
      "13    pynn           50                9 2023-04-25 04:26:16.033556\n",
      "14    hnsw            5                9 2023-04-25 04:26:40.014881\n",
      "15    hnsw           10                9 2023-04-25 04:26:53.237781\n",
      "16    hnsw           25                9 2023-04-25 04:27:06.191443\n",
      "17    hnsw           50                9 2023-04-25 04:27:19.252722\n",
      "18  kdtree           -1               11 2023-04-25 04:27:30.255508\n",
      "19    pynn            5               11 2023-04-25 04:27:51.788277\n",
      "20    pynn           10               11 2023-04-25 04:28:22.376692\n",
      "21    pynn           25               11 2023-04-25 04:28:54.216830\n",
      "22    pynn           50               11 2023-04-25 04:29:30.647329\n",
      "23    hnsw            5               11 2023-04-25 04:29:52.811406\n",
      "24    hnsw           10               11 2023-04-25 04:30:04.192006\n",
      "25    hnsw           25               11 2023-04-25 04:30:15.581578\n",
      "26    hnsw           50               11 2023-04-25 04:30:26.964515\n",
      "27  kdtree           -1               19 2023-04-25 04:31:19.122652\n",
      "28    pynn            5               19 2023-04-25 04:32:19.011646\n",
      "29    pynn           10               19 2023-04-25 04:34:03.155230\n"
     ]
    }
   ],
   "source": [
    "df = pd.read_pickle(\"indices.pkl\")\n",
    "print(df)"
   ]
  },
  {
   "attachments": {},
   "cell_type": "markdown",
   "metadata": {},
   "source": [
    "### Benchmark Models"
   ]
  },
  {
   "cell_type": "code",
   "execution_count": 2,
   "metadata": {},
   "outputs": [],
   "source": [
    "def benchmarkModel(df, idx, dataset=None, query_count=4000):\n",
    "    if dataset == None:\n",
    "        dataset = utils.loadH5Dataset(utils.DATASETS[df.iloc[idx][\"dataset\"]])\n",
    "\n",
    "    # Try to use pre-computed results\n",
    "    precomputed = utils.tryLoadPickle(\"model_results.pkl\", {})\n",
    "    if idx in precomputed:\n",
    "        if precomputed[idx] == False:\n",
    "            nearest = []\n",
    "            query_idxs = []\n",
    "        else:\n",
    "            nearest = np.array(precomputed[idx])\n",
    "            query_idxs = np.arange(len(nearest))\n",
    "\n",
    "    else: # Fallback\n",
    "        query_idxs, nearest = analysis_utils.benchmarkModel(df, idx, dataset, query_count, shuffle=True)\n",
    "        \n",
    "    return analysis_utils.analyseResults(dataset, query_idxs, nearest)\n",
    "\n",
    "def printResults(results):\n",
    "    print(\"Ave.: \", results[\"mean\"])\n",
    "    print(\"Dev.: \", results[\"std\"])\n",
    "    print(\"Acc.: \", results[\"acc\"], \"%\")\n",
    "    print(\"Fail.:\", results[\"fail\"], \"%\")"
   ]
  },
  {
   "cell_type": "code",
   "execution_count": 3,
   "metadata": {},
   "outputs": [
    {
     "data": {
      "image/png": "[encoded data removed]",
      "text/plain": [
       "<Figure size 1200x500 with 1 Axes>"
      ]
     },
     "metadata": {},
     "output_type": "display_data"
    }
   ],
   "source": [
    "# TYPES = [\n",
    "#     (\"Space Conserving (MSE)\", range(60,72)),\n",
    "#     (\"Space Conserving (MAE)\", range(72,84)),\n",
    "#     (\"Old Weighted\", range(84,96)),\n",
    "#     (\"Weighted (MSE)\", range(96,108)),\n",
    "#     (\"Weighted (MAE)\", range(108,120)),\n",
    "#     (\"AE\", range(120,132)),\n",
    "#     (\"VAE\", range(132,144)),\n",
    "#     (\"Triplet\", range(144,156)),\n",
    "# ]\n",
    "\n",
    "TYPES = [\n",
    "    (\"Space Conserving (MSE)\", range(60,68,2)),\n",
    "    (\"Space Conserving (MAE)\", range(72,80,2)),\n",
    "    (\"Old Weighted\", range(84,92,2)),\n",
    "    (\"Weighted (MSE)\", range(96,104,2)),\n",
    "    (\"Weighted (MAE)\", range(108,116,2)),\n",
    "    (\"AE\", range(120,128,2)),\n",
    "    (\"VAE\", range(132,140,2)),\n",
    "    (\"Triplet\", range(144,152,2)),\n",
    "]\n",
    "WIDTH = 0.1\n",
    "\n",
    "def plotTypeAccsPerDataset(types, width, pca=True, geom_mean=True, metric=\"acc\"):\n",
    "    ndatasets = len(types[0][1])\n",
    "    df = pd.read_pickle(\"hyperparameters.pkl\")\n",
    "    if pca:\n",
    "        pca_results = utils.tryLoadPickle(\"classical_results.pkl\", {})\n",
    "        \n",
    "\n",
    "    fig, ax = plt.subplots(layout=\"constrained\")\n",
    "    fig.set_size_inches(12, 5)\n",
    "\n",
    "    ticks = []\n",
    "    tick_loc = np.arange(ndatasets+1 if geom_mean else ndatasets)\n",
    "    pca_accs = []\n",
    "    for i, (name, idxs) in enumerate(types):\n",
    "\n",
    "        if ticks == []:\n",
    "            for idx in idxs:\n",
    "                row = df.iloc[idx]\n",
    "                dname = f\"{row['dataset']}\\n{row['dimensions']}D (x{row['triplet_reps']})\"\n",
    "                ticks.append(dname)\n",
    "                if pca:\n",
    "                    pcaname = f\"{row['dataset']}-{row['dimensions']}\"\n",
    "                    pca_accs.append(pca_results[pcaname][\"pca\"][metric])\n",
    "\n",
    "        # Gather results\n",
    "        accs = []\n",
    "        for idx in idxs:\n",
    "            results = benchmarkModel(df, idx)\n",
    "            accs.append(results[metric])\n",
    "        \n",
    "        # Add geometric mean\n",
    "        if geom_mean:\n",
    "            gmean = stats.mstats.gmean(accs)\n",
    "            accs.append(gmean)\n",
    "\n",
    "        offset = width * i\n",
    "        rects = ax.bar(tick_loc + offset, accs, width, label=name)\n",
    "        #ax.bar_label(rects, padding=3)\n",
    "\n",
    "    if pca:\n",
    "        if geom_mean:\n",
    "            gmean = stats.mstats.gmean(pca_accs)\n",
    "            pca_accs.append(gmean)\n",
    "        rects = ax.bar(tick_loc + width*len(types), pca_accs, width, label=\"PCA\")\n",
    "        #ax.bar_label(rects, padding=3)\n",
    "\n",
    "    if geom_mean:\n",
    "        ticks.append(\"Geometric\\nMean\")\n",
    "    ax.set_title(\"Accuracy Of Model Types\")\n",
    "    ax.set_ylabel(\"Accuracy (%)\")\n",
    "    ax.set_ylim(0, 100)\n",
    "    ax.set_xlabel(\"Model\")\n",
    "    ax.set_xticks(tick_loc + width*(len(types)-1)/2.0, ticks, rotation=0)\n",
    "    ax.legend(loc=\"upper left\")\n",
    "\n",
    "    plt.show()\n",
    "\n",
    "plotTypeAccsPerDataset(TYPES, WIDTH)"
   ]
  },
  {
   "cell_type": "code",
   "execution_count": 4,
   "metadata": {},
   "outputs": [
    {
     "data": {
      "image/png": "[encoded data removed]",
      "text/plain": [
       "<Figure size 1200x500 with 1 Axes>"
      ]
     },
     "metadata": {},
     "output_type": "display_data"
    }
   ],
   "source": [
    "TYPES = [\n",
    "    (\"Space Conserving (MSE)\", range(61,68,2)),\n",
    "    (\"Space Conserving (MAE)\", range(73,80,2)),\n",
    "    (\"Old Weighted\", range(85,92,2)),\n",
    "    (\"Weighted (MSE)\", range(97,104,2)),\n",
    "    (\"Weighted (MAE)\", range(109,116,2)),\n",
    "    (\"AE\", range(121,128,2)),\n",
    "    (\"VAE\", range(133,140,2)),\n",
    "    (\"Triplet\", range(145,152,2)),\n",
    "]\n",
    "plotTypeAccsPerDataset(TYPES, WIDTH)"
   ]
  },
  {
   "cell_type": "code",
   "execution_count": 15,
   "metadata": {},
   "outputs": [],
   "source": [
    "def getModelLoss(idx, losses=\"train_loss\"):\n",
    "    path = os.path.join(\"logging\", f\"version_{idx}\", \"metrics.csv\")\n",
    "    df = pd.read_csv(path)\n",
    "    xs = df[\"step\"].to_numpy()\n",
    "\n",
    "    if isinstance(losses, str):\n",
    "        return xs, df[losses].to_numpy()\n",
    "    \n",
    "    results = {}\n",
    "    for loss in losses:\n",
    "        results[loss] = df[loss].to_numpy()\n",
    "    return xs, results\n",
    "\n",
    "def getFinalModelLoss(idx, loss):\n",
    "    _, loss = getModelLoss(idx, loss)\n",
    "    return loss[-1]\n",
    "\n",
    "def plotModelLoss(idx, losses=\"train_loss\"):\n",
    "    xs, results = getModelLoss(idx, losses)\n",
    "    fig, ax = plt.subplots(layout=\"constrained\")\n",
    "\n",
    "    if isinstance(losses, str):\n",
    "        mask = np.isfinite(results)\n",
    "        ax.plot(xs[mask], results[mask], label=losses)\n",
    "    else:\n",
    "        for loss in losses:\n",
    "            mask = np.isfinite(losses[loss])\n",
    "            ax.plot(xs[mask], losses[loss][mask], label=loss)\n",
    "\n",
    "    ax.set_xlabel(\"Training Step\")\n",
    "    ax.set_ylabel(\"Loss\")\n",
    "    ax.legend()\n",
    "    plt.show()"
   ]
  },
  {
   "cell_type": "code",
   "execution_count": 16,
   "metadata": {},
   "outputs": [
    {
     "data": {
      "image/png": "[encoded data removed]",
      "text/plain": [
       "<Figure size 640x480 with 1 Axes>"
      ]
     },
     "metadata": {},
     "output_type": "display_data"
    }
   ],
   "source": [
    "plotModelLoss(111)"
   ]
  },
  {
   "cell_type": "code",
   "execution_count": 7,
   "metadata": {},
   "outputs": [
    {
     "name": "stdout",
     "output_type": "stream",
     "text": [
      "{'fashionmnist-32': {'pca': {'mean': 6.621354166666666, 'std': 14.26016677670938, 'acc': 38.322916666666664, 'fail': 4.0, 'raw': array([ 0,  1,  0, ...,  3,  0, 12], dtype=int64)}}, 'fashionmnist-truncated10-32': {'pca': {'mean': 2.1990896282648746, 'std': 3.6604451968309326, 'acc': 47.09006177522488, 'fail': 7.7299999999999995, 'raw': array([0, 4, 0, ..., 0, 2, 3], dtype=int64)}, 'nca': {'mean': 2.2144327662802037, 'std': 3.680851246131254, 'acc': 47.12319861306751, 'fail': 7.71, 'raw': array([0, 4, 0, ..., 0, 2, 3], dtype=int64)}}, 'fashionmnist-48': {'pca': {'mean': 4.41054345613678, 'std': 11.14097380589204, 'acc': 46.11235497659271, 'fail': 1.7399999999999998, 'raw': array([ 0,  1,  0, ...,  0,  2, 12], dtype=int64)}}, 'fashionmnist-truncated10-48': {'pca': {'mean': 1.6706029888180582, 'std': 3.096756156991915, 'acc': 53.60016720660467, 'fail': 4.31, 'raw': array([0, 4, 0, ..., 0, 2, 3], dtype=int64)}, 'nca': {'mean': 1.6667014395994157, 'std': 3.093678078562545, 'acc': 53.640726058835796, 'fail': 4.14, 'raw': array([0, 4, 0, ..., 0, 2, 3], dtype=int64)}}, 'fashionmnist-20': {'pca': {'mean': 9.870132719096194, 'std': 17.623922279632506, 'acc': 30.119556871778, 'fail': 8.83, 'raw': array([ 0, 17, 13, ..., 92,  3,  2], dtype=int64)}}, 'fashionmnist-truncated10-20': {'pca': {'mean': 3.0223560755241516, 'std': 4.336221059299204, 'acc': 38.49183366153133, 'fail': 13.669999999999998, 'raw': array([5, 6, 0, ..., 0, 2, 3], dtype=int64)}, 'nca': {'mean': 3.0173792144595066, 'std': 4.338095203422308, 'acc': 38.61661452902329, 'fail': 13.69, 'raw': array([5, 6, 0, ..., 0, 2, 3], dtype=int64)}}, 'fashionmnist-100': {'pca': {'mean': 1.9278391959798995, 'std': 6.661493551445585, 'acc': 61.85929648241206, 'fail': 0.5, 'raw': array([ 0,  1,  0, ...,  0,  0, 15], dtype=int64)}}, 'fashionmnist-truncated10-100': {'pca': {'mean': 0.9103615922212094, 'std': 2.155310444562351, 'acc': 66.6261521320774, 'fail': 1.27, 'raw': array([0, 0, 0, ..., 0, 2, 3], dtype=int64)}, 'nca': {'mean': 0.9184024266936299, 'std': 2.2007249186753537, 'acc': 66.93629929221436, 'fail': 1.0999999999999999, 'raw': array([0, 0, 0, ..., 0, 2, 3], dtype=int64)}}, 'fashionmnist-80': {'pca': {'mean': 2.557527478067964, 'std': 7.77971671673041, 'acc': 56.54935968538872, 'fail': 0.83, 'raw': array([0, 1, 0, ..., 0, 0, 0], dtype=int64)}}, 'fashionmnist-truncated10-80': {'pca': {'mean': 1.1402364451691807, 'std': 2.5249879345561674, 'acc': 62.54586220953934, 'fail': 1.8800000000000001, 'raw': array([0, 4, 0, ..., 0, 2, 3], dtype=int64)}, 'nca': {'mean': 1.1431630468033038, 'std': 2.520053133706753, 'acc': 62.526766595289075, 'fail': 1.9300000000000002, 'raw': array([1, 4, 0, ..., 0, 2, 3], dtype=int64)}}, 'fashionmnist-64': {'pca': {'mean': 3.2675642842680706, 'std': 9.217753517784384, 'acc': 51.70074913950192, 'fail': 1.22, 'raw': array([0, 1, 0, ..., 0, 0, 0], dtype=int64)}}, 'fashionmnist-truncated10-64': {'pca': {'mean': 1.3582365635597575, 'std': 2.7488880486481597, 'acc': 58.462645154660365, 'fail': 2.69, 'raw': array([1, 4, 0, ..., 0, 2, 3], dtype=int64)}, 'nca': {'mean': 1.351381896640296, 'std': 2.7431630246093484, 'acc': 58.43008322202815, 'fail': 2.67, 'raw': array([1, 4, 0, ..., 0, 2, 3], dtype=int64)}}, 'fashionmnist-200': {'pca': {'mean': 0.6236118059029515, 'std': 3.059032788673861, 'acc': 77.20860430215107, 'fail': 0.05, 'raw': array([ 0,  1,  0, ...,  0,  0, 15], dtype=int64)}}, 'fashionmnist-truncated10-200': {'pca': {'mean': 0.3844767150726089, 'std': 1.1881148152872614, 'acc': 80.08012018027041, 'fail': 0.15, 'raw': array([1, 0, 0, ..., 0, 1, 3], dtype=int64)}, 'nca': {'mean': 0.3839527196233597, 'std': 1.1880785009669808, 'acc': 80.29650405689672, 'fail': 0.16999999999999998, 'raw': array([1, 0, 0, ..., 0, 1, 3], dtype=int64)}}, 'fashionmnist-400': {'pca': {'mean': 0.1241, 'std': 0.6345858413169962, 'acc': 91.07, 'fail': 0.0, 'raw': array([0, 0, 0, ..., 0, 0, 0], dtype=int64)}}, 'fashionmnist-truncated10-400': {'pca': {'mean': 0.0852, 'std': 0.35459971799199164, 'acc': 93.13, 'fail': 0.0, 'raw': array([0, 0, 0, ..., 0, 0, 2], dtype=int64)}, 'nca': {'mean': 0.0864, 'std': 0.3900449204899354, 'acc': 93.24, 'fail': 0.0, 'raw': array([0, 0, 0, ..., 0, 0, 2], dtype=int64)}}, 'sift-12': {'pca': {'mean': 21.441837968561064, 'std': 26.855985495982917, 'acc': 22.58766626360339, 'fail': 58.650000000000006, 'raw': array([15, 62, 57, ...,  0,  4, 54], dtype=int64)}}, 'sift-truncated10-12': {'pca': {'mean': 4.62993762993763, 'std': 5.2541035472108915, 'acc': 27.52945252945253, 'fail': 42.28, 'raw': array([ 4, 10,  0, ..., 13,  0,  2], dtype=int64)}, 'nca': {'mean': 4.63368566972795, 'std': 5.25634027307332, 'acc': 27.482238780107433, 'fail': 42.29, 'raw': array([ 4, 10,  0, ..., 13,  0,  2], dtype=int64)}}, 'fashionmnist-600': {'pca': {'mean': 0.0266, 'std': 0.17347172680295775, 'acc': 97.53, 'fail': 0.0, 'raw': array([0, 0, 0, ..., 0, 0, 0], dtype=int64)}}, 'fashionmnist-truncated10-600': {'pca': {'mean': 0.0202, 'std': 0.15030622076281475, 'acc': 98.11, 'fail': 0.0, 'raw': array([0, 0, 0, ..., 0, 0, 0], dtype=int64)}, 'nca': {'mean': 0.0194, 'std': 0.1477282640526179, 'acc': 98.19, 'fail': 0.0, 'raw': array([0, 0, 0, ..., 0, 0, 0], dtype=int64)}}, 'sift-18': {'pca': {'mean': 16.621978347916357, 'std': 24.044527822929265, 'acc': 27.51001038113599, 'fail': 32.57, 'raw': array([ 4,  1, 24, ...,  0, 53,  0], dtype=int64)}}, 'sift-truncated10-18': {'pca': {'mean': 3.6611773858921164, 'std': 4.7090346492094755, 'acc': 34.128630705394194, 'fail': 22.88, 'raw': array([ 4,  2, 13, ...,  5,  0,  2], dtype=int64)}, 'nca': {'mean': 3.66757457846952, 'std': 4.686556561620498, 'acc': 33.74837872892348, 'fail': 22.900000000000002, 'raw': array([ 4,  2, 13, ...,  5,  0,  2], dtype=int64)}}, 'sift-20': {'pca': {'mean': 15.121488861214889, 'std': 22.841962908522138, 'acc': 29.52815829528158, 'fail': 27.73, 'raw': array([11,  4,  1, ...,  0, 53,  0], dtype=int64)}}, 'sift-truncated10-20': {'pca': {'mean': 3.463034055727554, 'std': 4.646483615547598, 'acc': 36.27244582043343, 'fail': 19.25, 'raw': array([ 4,  2, 13, ...,  5,  0,  2], dtype=int64)}, 'nca': {'mean': 3.44851939041011, 'std': 4.6130449107525955, 'acc': 36.36476273076447, 'fail': 19.29, 'raw': array([4, 3, 2, ..., 5, 0, 2], dtype=int64)}}, 'sift-24': {'pca': {'mean': 12.559072239671417, 'std': 20.717926957682582, 'acc': 32.737376177820735, 'fail': 17.22, 'raw': array([76, 20, 37, ...,  0,  0,  0], dtype=int64)}}, 'sift-truncated10-24': {'pca': {'mean': 2.933507318733689, 'std': 4.286926805709454, 'acc': 41.27992738000681, 'fail': 11.87, 'raw': array([4, 3, 0, ..., 5, 0, 2], dtype=int64)}, 'nca': {'mean': 2.912050644359032, 'std': 4.277582693678298, 'acc': 41.385937146732985, 'fail': 11.540000000000001, 'raw': array([4, 3, 0, ..., 5, 0, 0], dtype=int64)}}, 'sift-32': {'pca': {'mean': 8.359151928404007, 'std': 16.584159256764057, 'acc': 40.368634135947154, 'fail': 6.140000000000001, 'raw': array([ 1, 75,  1, ...,  0,  5,  0], dtype=int64)}}, 'sift-truncated10-32': {'pca': {'mean': 1.9697064661025803, 'std': 3.355175718602882, 'acc': 49.83808628434138, 'fail': 4.2700000000000005, 'raw': array([0, 3, 2, ..., 0, 0, 0], dtype=int64)}, 'nca': {'mean': 2.0231316725978647, 'std': 3.4508403211326324, 'acc': 49.51852627171865, 'fail': 4.46, 'raw': array([0, 3, 2, ..., 0, 0, 0], dtype=int64)}}, 'sift-48': {'pca': {'mean': 2.9788987138263665, 'std': 8.273069960330279, 'acc': 55.18488745980707, 'fail': 0.48, 'raw': array([1, 2, 3, ..., 0, 0, 0], dtype=int64)}}, 'sift-truncated10-48': {'pca': {'mean': 0.9662786029706945, 'std': 2.127996496656664, 'acc': 64.3014853472501, 'fail': 0.36, 'raw': array([0, 2, 0, ..., 0, 0, 0], dtype=int64)}, 'nca': {'mean': 0.9685932169375878, 'std': 2.1045131228711527, 'acc': 64.14810355207706, 'fail': 0.33999999999999997, 'raw': array([0, 3, 0, ..., 0, 0, 0], dtype=int64)}}, 'sift-64': {'pca': {'mean': 1.0921276382914875, 'std': 3.2698658460720904, 'acc': 67.5402620786236, 'fail': 0.03, 'raw': array([1, 2, 1, ..., 0, 0, 0], dtype=int64)}}, 'sift-truncated10-64': {'pca': {'mean': 0.4898979795959192, 'std': 1.21677610036095, 'acc': 74.78495699139827, 'fail': 0.02, 'raw': array([0, 0, 0, ..., 0, 0, 0], dtype=int64)}, 'nca': {'mean': 0.48189637927585516, 'std': 1.1900023300708313, 'acc': 74.75495099019804, 'fail': 0.02, 'raw': array([0, 0, 0, ..., 0, 0, 0], dtype=int64)}}, 'sift-80': {'pca': {'mean': 0.5022, 'std': 1.5458315432154954, 'acc': 76.92999999999999, 'fail': 0.0, 'raw': array([1, 2, 1, ..., 0, 0, 0], dtype=int64)}}, 'sift-truncated10-80': {'pca': {'mean': 0.2582, 'std': 0.7341203988447672, 'acc': 83.32000000000001, 'fail': 0.0, 'raw': array([0, 0, 2, ..., 0, 0, 0], dtype=int64)}, 'nca': {'mean': 0.2533, 'std': 0.7230069916674389, 'acc': 83.50999999999999, 'fail': 0.0, 'raw': array([0, 0, 0, ..., 0, 0, 0], dtype=int64)}}, 'sift-100': {'pca': {'mean': 0.1904, 'std': 0.6180192877249059, 'acc': 86.89, 'fail': 0.0, 'raw': array([0, 0, 1, ..., 0, 0, 0], dtype=int64)}}, 'sift-truncated10-100': {'pca': {'mean': 0.1159, 'std': 0.40083311988906306, 'acc': 90.59, 'fail': 0.0, 'raw': array([0, 0, 0, ..., 0, 0, 0], dtype=int64)}, 'nca': {'mean': 0.1158, 'std': 0.4034728739333042, 'acc': 90.61, 'fail': 0.0, 'raw': array([0, 0, 0, ..., 0, 0, 0], dtype=int64)}}, 'nytimesl2-16': {'pca': {'mean': 10.30449565545901, 'std': 26.05054933592235, 'acc': 60.71023800528901, 'fail': 73.53, 'raw': array([0, 0, 0, ..., 1, 2, 0], dtype=int64)}}, 'nytimesl2-truncated10-16': {'pca': {'mean': 6.286890871654084, 'std': 6.657627803677909, 'acc': 39.94509265614276, 'fail': 85.42999999999999, 'raw': array([10, 18,  0, ...,  0,  0,  0], dtype=int64)}, 'nca': {'mean': 6.219101123595506, 'std': 6.523490421692121, 'acc': 39.46629213483146, 'fail': 85.76, 'raw': array([10,  1,  2, ...,  0,  0,  0], dtype=int64)}}, 'nytimesl2-20': {'pca': {'mean': 12.218528082633958, 'std': 28.598120632450957, 'acc': 59.32859909619109, 'fail': 69.02000000000001, 'raw': array([0, 0, 0, ..., 1, 0, 0], dtype=int64)}}, 'nytimesl2-truncated10-20': {'pca': {'mean': 6.333138173302108, 'std': 6.678263719794159, 'acc': 40.16393442622951, 'fail': 82.92, 'raw': array([18, 17,  8, ...,  1, 13,  0], dtype=int64)}, 'nca': {'mean': 6.43757225433526, 'std': 6.642991778618341, 'acc': 38.554913294797686, 'fail': 82.69999999999999, 'raw': array([18, 17,  0, ...,  0, 13, 11], dtype=int64)}}, 'nytimesl2-26': {'pca': {'mean': 12.955665024630543, 'std': 29.46060805306966, 'acc': 57.77230432402847, 'fail': 63.46000000000001, 'raw': array([0, 0, 0, ..., 1, 0, 0], dtype=int64)}}, 'nytimesl2-truncated10-26': {'pca': {'mean': 6.728633510381458, 'std': 7.328054478495923, 'acc': 41.96040560115886, 'fail': 79.29, 'raw': array([15,  0,  0, ...,  0, 14,  0], dtype=int64)}, 'nca': {'mean': 6.7810253953042645, 'std': 7.375249944378017, 'acc': 42.40536655486344, 'fail': 79.13, 'raw': array([17,  0,  0, ...,  0, 15,  0], dtype=int64)}}, 'nytimesl2-32': {'pca': {'mean': 15.254558370826427, 'std': 31.868050796308335, 'acc': 57.28155339805825, 'fail': 57.769999999999996, 'raw': array([ 0,  0,  0, ..., 97,  0,  0], dtype=int64)}}, 'nytimesl2-truncated10-32': {'pca': {'mean': 5.957705038617139, 'std': 6.119688172766795, 'acc': 38.32291283560132, 'fail': 72.81, 'raw': array([10,  0,  0, ..., 18,  0, 12], dtype=int64)}, 'nca': {'mean': 6.025207057976234, 'std': 6.193443729525894, 'acc': 38.2787180410515, 'fail': 72.23, 'raw': array([10, 11, 17, ...,  0, 12, 15], dtype=int64)}}, 'nytimesl2-48': {'pca': {'mean': 18.696568004358088, 'std': 34.471832544748054, 'acc': 54.639549664063914, 'fail': 44.93, 'raw': array([0, 0, 0, ..., 0, 0, 0], dtype=int64)}}, 'nytimesl2-truncated10-48': {'pca': {'mean': 4.083558471632574, 'std': 4.510351300088388, 'acc': 30.702431493631803, 'fail': 48.18, 'raw': array([2, 0, 6, ..., 0, 3, 2], dtype=int64)}, 'nca': {'mean': 4.078037473440216, 'std': 4.567576284199518, 'acc': 30.886613869036122, 'fail': 48.230000000000004, 'raw': array([ 6,  7, 15, ..., 13,  3,  1], dtype=int64)}}, 'nytimesl2-64': {'pca': {'mean': 22.24586006265851, 'std': 35.765945643351884, 'acc': 50.305833209010885, 'fail': 32.97, 'raw': array([0, 0, 0, ..., 0, 0, 0], dtype=int64)}}, 'nytimesl2-truncated10-64': {'pca': {'mean': 5.041160949868074, 'std': 4.686914892715907, 'acc': 25.408970976253297, 'fail': 24.2, 'raw': array([4, 0, 1, ..., 0, 1, 7], dtype=int64)}, 'nca': {'mean': 5.070792986129286, 'std': 4.6792807997873815, 'acc': 24.95420047108087, 'fail': 23.580000000000002, 'raw': array([5, 0, 0, ..., 0, 0, 1], dtype=int64)}}, 'nytimesl2-96': {'pca': {'mean': 26.382317540212277, 'std': 34.57679389187774, 'acc': 42.51012145748988, 'fail': 8.61, 'raw': array([ 0,  0,  0, ...,  0,  0, 79], dtype=int64)}}, 'nytimesl2-truncated10-96': {'pca': {'mean': 4.261126990608411, 'std': 3.840028438878392, 'acc': 24.652919559003674, 'fail': 2.04, 'raw': array([0, 1, 0, ..., 6, 4, 9], dtype=int64)}, 'nca': {'mean': 4.329314396648615, 'std': 3.8045862911487403, 'acc': 23.2246858077041, 'fail': 2.13, 'raw': array([ 0,  1, 16, ...,  3,  3,  4], dtype=int64)}}, 'nytimesl2-128': {'pca': {'mean': 24.95843841420357, 'std': 32.31165208635184, 'acc': 42.5300110965399, 'fail': 0.8699999999999999, 'raw': array([ 0, 85,  0, ...,  0,  0, 82], dtype=int64)}}, 'nytimesl2-truncated10-128': {'pca': {'mean': 3.3453799179097006, 'std': 3.0649922550631525, 'acc': 27.49023926318951, 'fail': 0.11, 'raw': array([ 0, 11, 12, ...,  5,  3,  1], dtype=int64)}, 'nca': {'mean': 3.421374198717949, 'std': 3.013994448345054, 'acc': 25.811298076923077, 'fail': 0.16, 'raw': array([ 2, 11,  9, ...,  0,  1,  0], dtype=int64)}}, 'nytimesl2-192': {'pca': {'mean': 20.743974397439743, 'std': 28.423828891453553, 'acc': 46.77467746774677, 'fail': 0.01, 'raw': array([ 0, 85,  0, ...,  0,  0, 82], dtype=int64)}}, 'nytimesl2-truncated10-192': {'pca': {'mean': 2.1069, 'std': 1.9659278699891305, 'acc': 32.34, 'fail': 0.0, 'raw': array([0, 1, 6, ..., 2, 2, 5], dtype=int64)}, 'nca': {'mean': 2.1572, 'std': 1.9827980633438194, 'acc': 31.369999999999997, 'fail': 0.0, 'raw': array([1, 4, 2, ..., 1, 1, 1], dtype=int64)}}}\n"
     ]
    }
   ],
   "source": [
    "print(utils.tryLoadPickle(\"classical_results.pkl\", {}))"
   ]
  },
  {
   "cell_type": "code",
   "execution_count": 10,
   "metadata": {},
   "outputs": [
    {
     "name": "stdout",
     "output_type": "stream",
     "text": [
      "Ave.:  0.9337\n",
      "Dev.:  2.4164652511468065\n",
      "Acc.:  65.53 %\n",
      "Fail.: 0.0 %\n",
      "Ave.:  0.5112\n",
      "Dev.:  1.3359919760238081\n",
      "Acc.:  74.74 %\n",
      "Fail.: 0.0 %\n",
      "Ave.:  11.842035251080812\n",
      "Dev.:  19.48434547170032\n",
      "Acc.:  27.846136791929943 %\n",
      "Fail.: 9.790000000000001 %\n",
      "Ave.:  11.098695652173912\n",
      "Dev.:  18.949963818790245\n",
      "Acc.:  29.532608695652172 %\n",
      "Fail.: 8.0 %\n",
      "Ave.:  1.2888\n",
      "Dev.:  3.483072574609952\n",
      "Acc.:  62.12 %\n",
      "Fail.: 0.0 %\n",
      "Ave.:  0.3616\n",
      "Dev.:  1.0180596446181334\n",
      "Acc.:  79.21000000000001 %\n",
      "Fail.: 0.0 %\n",
      "Ave.:  11.752101769911505\n",
      "Dev.:  19.35250967028089\n",
      "Acc.:  28.097345132743364 %\n",
      "Fail.: 9.6 %\n",
      "Ave.:  10.496482303279576\n",
      "Dev.:  18.3382891624979\n",
      "Acc.:  30.501136486632753 %\n",
      "Fail.: 7.61 %\n"
     ]
    }
   ],
   "source": [
    "df = pd.read_pickle(\"hyperparameters.pkl\")\n",
    "\n",
    "printResults(benchmarkModel(df, 26))\n",
    "printResults(benchmarkModel(df, 32))\n",
    "printResults(benchmarkModel(df, 33))\n",
    "printResults(benchmarkModel(df, 39))\n",
    "printResults(benchmarkModel(df, 48))\n",
    "printResults(benchmarkModel(df, 49))\n",
    "printResults(benchmarkModel(df, 50))\n",
    "printResults(benchmarkModel(df, 51))"
   ]
  },
  {
   "cell_type": "code",
   "execution_count": 17,
   "metadata": {},
   "outputs": [
    {
     "name": "stderr",
     "output_type": "stream",
     "text": [
      "Using 16bit native Automatic Mixed Precision (AMP)\n",
      "Trainer already configured with model summary callbacks: [<class 'pytorch_lightning.callbacks.model_summary.ModelSummary'>]. Skipping setting a default `ModelSummary` callback.\n",
      "GPU available: True (cuda), used: True\n",
      "TPU available: False, using: 0 TPU cores\n",
      "IPU available: False, using: 0 IPUs\n",
      "HPU available: False, using: 0 HPUs\n",
      "LOCAL_RANK: 0 - CUDA_VISIBLE_DEVICES: [0]\n"
     ]
    },
    {
     "data": {
      "application/vnd.jupyter.widget-view+json": {
       "model_id": "fe8eea0ee4424384b91adbe4aa5b08c7",
       "version_major": 2,
       "version_minor": 0
      },
      "text/plain": [
       "Predicting: 0it [00:00, ?it/s]"
      ]
     },
     "metadata": {},
     "output_type": "display_data"
    },
    {
     "name": "stderr",
     "output_type": "stream",
     "text": [
      "LOCAL_RANK: 0 - CUDA_VISIBLE_DEVICES: [0]\n"
     ]
    },
    {
     "data": {
      "application/vnd.jupyter.widget-view+json": {
       "model_id": "6146066fffc24ed883f3c1cd2c124d48",
       "version_major": 2,
       "version_minor": 0
      },
      "text/plain": [
       "Predicting: 0it [00:00, ?it/s]"
      ]
     },
     "metadata": {},
     "output_type": "display_data"
    },
    {
     "name": "stdout",
     "output_type": "stream",
     "text": [
      "Ave.:  3.2849872773536894\n",
      "Dev.:  9.759223656310164\n",
      "Acc.:  53.791348600508904 %\n",
      "Fail.: 1.7500000000000002 %\n"
     ]
    }
   ],
   "source": [
    "df = pd.read_pickle(\"hyperparameters.pkl\")\n",
    "printResults(benchmarkModel(df, 234))"
   ]
  },
  {
   "cell_type": "code",
   "execution_count": 18,
   "metadata": {},
   "outputs": [
    {
     "name": "stderr",
     "output_type": "stream",
     "text": [
      "Using 16bit native Automatic Mixed Precision (AMP)\n",
      "Trainer already configured with model summary callbacks: [<class 'pytorch_lightning.callbacks.model_summary.ModelSummary'>]. Skipping setting a default `ModelSummary` callback.\n",
      "GPU available: True (cuda), used: True\n",
      "TPU available: False, using: 0 TPU cores\n",
      "IPU available: False, using: 0 IPUs\n",
      "HPU available: False, using: 0 HPUs\n",
      "LOCAL_RANK: 0 - CUDA_VISIBLE_DEVICES: [0]\n"
     ]
    },
    {
     "data": {
      "application/vnd.jupyter.widget-view+json": {
       "model_id": "b71f0029cd364586a03b08665bc9531e",
       "version_major": 2,
       "version_minor": 0
      },
      "text/plain": [
       "Predicting: 0it [00:00, ?it/s]"
      ]
     },
     "metadata": {},
     "output_type": "display_data"
    },
    {
     "name": "stderr",
     "output_type": "stream",
     "text": [
      "LOCAL_RANK: 0 - CUDA_VISIBLE_DEVICES: [0]\n"
     ]
    },
    {
     "data": {
      "application/vnd.jupyter.widget-view+json": {
       "model_id": "cad83708fc6f42ed8c936fc6ed3b11e1",
       "version_major": 2,
       "version_minor": 0
      },
      "text/plain": [
       "Predicting: 0it [00:00, ?it/s]"
      ]
     },
     "metadata": {},
     "output_type": "display_data"
    },
    {
     "name": "stdout",
     "output_type": "stream",
     "text": [
      "Ave.:  2.9436834094368343\n",
      "Dev.:  8.951324169804215\n",
      "Acc.:  56.519533231862 %\n",
      "Fail.: 1.4500000000000002 %\n"
     ]
    }
   ],
   "source": [
    "df = pd.read_pickle(\"hyperparameters.pkl\")\n",
    "printResults(benchmarkModel(df, 235))"
   ]
  },
  {
   "cell_type": "code",
   "execution_count": 14,
   "metadata": {},
   "outputs": [
    {
     "name": "stdout",
     "output_type": "stream",
     "text": [
      "fashionmnist-32 {'pca': {'mean': 6.621354166666666, 'std': 14.26016677670938, 'acc': 38.322916666666664, 'fail': 4.0, 'raw': array([ 0,  1,  0, ...,  3,  0, 12], dtype=int64)}}\n",
      "fashionmnist-truncated10-32 {'pca': {'mean': 2.1990896282648746, 'std': 3.6604451968309326, 'acc': 47.09006177522488, 'fail': 7.7299999999999995, 'raw': array([0, 4, 0, ..., 0, 2, 3], dtype=int64)}, 'nca': {'mean': 2.2144327662802037, 'std': 3.680851246131254, 'acc': 47.12319861306751, 'fail': 7.71, 'raw': array([0, 4, 0, ..., 0, 2, 3], dtype=int64)}}\n",
      "fashionmnist-48 {'pca': {'mean': 4.41054345613678, 'std': 11.14097380589204, 'acc': 46.11235497659271, 'fail': 1.7399999999999998, 'raw': array([ 0,  1,  0, ...,  0,  2, 12], dtype=int64)}}\n",
      "fashionmnist-truncated10-48 {'pca': {'mean': 1.6706029888180582, 'std': 3.096756156991915, 'acc': 53.60016720660467, 'fail': 4.31, 'raw': array([0, 4, 0, ..., 0, 2, 3], dtype=int64)}, 'nca': {'mean': 1.6667014395994157, 'std': 3.093678078562545, 'acc': 53.640726058835796, 'fail': 4.14, 'raw': array([0, 4, 0, ..., 0, 2, 3], dtype=int64)}}\n",
      "fashionmnist-20 {'pca': {'mean': 9.870132719096194, 'std': 17.623922279632506, 'acc': 30.119556871778, 'fail': 8.83, 'raw': array([ 0, 17, 13, ..., 92,  3,  2], dtype=int64)}}\n",
      "fashionmnist-truncated10-20 {'pca': {'mean': 3.0223560755241516, 'std': 4.336221059299204, 'acc': 38.49183366153133, 'fail': 13.669999999999998, 'raw': array([5, 6, 0, ..., 0, 2, 3], dtype=int64)}, 'nca': {'mean': 3.0173792144595066, 'std': 4.338095203422308, 'acc': 38.61661452902329, 'fail': 13.69, 'raw': array([5, 6, 0, ..., 0, 2, 3], dtype=int64)}}\n",
      "fashionmnist-100 {'pca': {'mean': 1.9278391959798995, 'std': 6.661493551445585, 'acc': 61.85929648241206, 'fail': 0.5, 'raw': array([ 0,  1,  0, ...,  0,  0, 15], dtype=int64)}}\n",
      "fashionmnist-truncated10-100 {'pca': {'mean': 0.9103615922212094, 'std': 2.155310444562351, 'acc': 66.6261521320774, 'fail': 1.27, 'raw': array([0, 0, 0, ..., 0, 2, 3], dtype=int64)}, 'nca': {'mean': 0.9184024266936299, 'std': 2.2007249186753537, 'acc': 66.93629929221436, 'fail': 1.0999999999999999, 'raw': array([0, 0, 0, ..., 0, 2, 3], dtype=int64)}}\n",
      "fashionmnist-80 {'pca': {'mean': 2.557527478067964, 'std': 7.77971671673041, 'acc': 56.54935968538872, 'fail': 0.83, 'raw': array([0, 1, 0, ..., 0, 0, 0], dtype=int64)}}\n",
      "fashionmnist-truncated10-80 {'pca': {'mean': 1.1402364451691807, 'std': 2.5249879345561674, 'acc': 62.54586220953934, 'fail': 1.8800000000000001, 'raw': array([0, 4, 0, ..., 0, 2, 3], dtype=int64)}, 'nca': {'mean': 1.1431630468033038, 'std': 2.520053133706753, 'acc': 62.526766595289075, 'fail': 1.9300000000000002, 'raw': array([1, 4, 0, ..., 0, 2, 3], dtype=int64)}}\n",
      "fashionmnist-64 {'pca': {'mean': 3.2675642842680706, 'std': 9.217753517784384, 'acc': 51.70074913950192, 'fail': 1.22, 'raw': array([0, 1, 0, ..., 0, 0, 0], dtype=int64)}}\n",
      "fashionmnist-truncated10-64 {'pca': {'mean': 1.3582365635597575, 'std': 2.7488880486481597, 'acc': 58.462645154660365, 'fail': 2.69, 'raw': array([1, 4, 0, ..., 0, 2, 3], dtype=int64)}, 'nca': {'mean': 1.351381896640296, 'std': 2.7431630246093484, 'acc': 58.43008322202815, 'fail': 2.67, 'raw': array([1, 4, 0, ..., 0, 2, 3], dtype=int64)}}\n",
      "fashionmnist-200 {'pca': {'mean': 0.6236118059029515, 'std': 3.059032788673861, 'acc': 77.20860430215107, 'fail': 0.05, 'raw': array([ 0,  1,  0, ...,  0,  0, 15], dtype=int64)}}\n",
      "fashionmnist-truncated10-200 {'pca': {'mean': 0.3844767150726089, 'std': 1.1881148152872614, 'acc': 80.08012018027041, 'fail': 0.15, 'raw': array([1, 0, 0, ..., 0, 1, 3], dtype=int64)}, 'nca': {'mean': 0.3839527196233597, 'std': 1.1880785009669808, 'acc': 80.29650405689672, 'fail': 0.16999999999999998, 'raw': array([1, 0, 0, ..., 0, 1, 3], dtype=int64)}}\n",
      "fashionmnist-400 {'pca': {'mean': 0.1241, 'std': 0.6345858413169962, 'acc': 91.07, 'fail': 0.0, 'raw': array([0, 0, 0, ..., 0, 0, 0], dtype=int64)}}\n",
      "fashionmnist-truncated10-400 {'pca': {'mean': 0.0852, 'std': 0.35459971799199164, 'acc': 93.13, 'fail': 0.0, 'raw': array([0, 0, 0, ..., 0, 0, 2], dtype=int64)}, 'nca': {'mean': 0.0864, 'std': 0.3900449204899354, 'acc': 93.24, 'fail': 0.0, 'raw': array([0, 0, 0, ..., 0, 0, 2], dtype=int64)}}\n",
      "sift-12 {'pca': {'mean': 21.441837968561064, 'std': 26.855985495982917, 'acc': 22.58766626360339, 'fail': 58.650000000000006, 'raw': array([15, 62, 57, ...,  0,  4, 54], dtype=int64)}}\n",
      "sift-truncated10-12 {'pca': {'mean': 4.62993762993763, 'std': 5.2541035472108915, 'acc': 27.52945252945253, 'fail': 42.28, 'raw': array([ 4, 10,  0, ..., 13,  0,  2], dtype=int64)}, 'nca': {'mean': 4.63368566972795, 'std': 5.25634027307332, 'acc': 27.482238780107433, 'fail': 42.29, 'raw': array([ 4, 10,  0, ..., 13,  0,  2], dtype=int64)}}\n",
      "fashionmnist-600 {'pca': {'mean': 0.0266, 'std': 0.17347172680295775, 'acc': 97.53, 'fail': 0.0, 'raw': array([0, 0, 0, ..., 0, 0, 0], dtype=int64)}}\n",
      "fashionmnist-truncated10-600 {'pca': {'mean': 0.0202, 'std': 0.15030622076281475, 'acc': 98.11, 'fail': 0.0, 'raw': array([0, 0, 0, ..., 0, 0, 0], dtype=int64)}, 'nca': {'mean': 0.0194, 'std': 0.1477282640526179, 'acc': 98.19, 'fail': 0.0, 'raw': array([0, 0, 0, ..., 0, 0, 0], dtype=int64)}}\n",
      "sift-18 {'pca': {'mean': 16.621978347916357, 'std': 24.044527822929265, 'acc': 27.51001038113599, 'fail': 32.57, 'raw': array([ 4,  1, 24, ...,  0, 53,  0], dtype=int64)}}\n",
      "sift-truncated10-18 {'pca': {'mean': 3.6611773858921164, 'std': 4.7090346492094755, 'acc': 34.128630705394194, 'fail': 22.88, 'raw': array([ 4,  2, 13, ...,  5,  0,  2], dtype=int64)}, 'nca': {'mean': 3.66757457846952, 'std': 4.686556561620498, 'acc': 33.74837872892348, 'fail': 22.900000000000002, 'raw': array([ 4,  2, 13, ...,  5,  0,  2], dtype=int64)}}\n",
      "sift-20 {'pca': {'mean': 15.121488861214889, 'std': 22.841962908522138, 'acc': 29.52815829528158, 'fail': 27.73, 'raw': array([11,  4,  1, ...,  0, 53,  0], dtype=int64)}}\n",
      "sift-truncated10-20 {'pca': {'mean': 3.463034055727554, 'std': 4.646483615547598, 'acc': 36.27244582043343, 'fail': 19.25, 'raw': array([ 4,  2, 13, ...,  5,  0,  2], dtype=int64)}, 'nca': {'mean': 3.44851939041011, 'std': 4.6130449107525955, 'acc': 36.36476273076447, 'fail': 19.29, 'raw': array([4, 3, 2, ..., 5, 0, 2], dtype=int64)}}\n",
      "sift-24 {'pca': {'mean': 12.559072239671417, 'std': 20.717926957682582, 'acc': 32.737376177820735, 'fail': 17.22, 'raw': array([76, 20, 37, ...,  0,  0,  0], dtype=int64)}}\n",
      "sift-truncated10-24 {'pca': {'mean': 2.933507318733689, 'std': 4.286926805709454, 'acc': 41.27992738000681, 'fail': 11.87, 'raw': array([4, 3, 0, ..., 5, 0, 2], dtype=int64)}, 'nca': {'mean': 2.912050644359032, 'std': 4.277582693678298, 'acc': 41.385937146732985, 'fail': 11.540000000000001, 'raw': array([4, 3, 0, ..., 5, 0, 0], dtype=int64)}}\n",
      "sift-32 {'pca': {'mean': 8.359151928404007, 'std': 16.584159256764057, 'acc': 40.368634135947154, 'fail': 6.140000000000001, 'raw': array([ 1, 75,  1, ...,  0,  5,  0], dtype=int64)}}\n",
      "sift-truncated10-32 {'pca': {'mean': 1.9697064661025803, 'std': 3.355175718602882, 'acc': 49.83808628434138, 'fail': 4.2700000000000005, 'raw': array([0, 3, 2, ..., 0, 0, 0], dtype=int64)}, 'nca': {'mean': 2.0231316725978647, 'std': 3.4508403211326324, 'acc': 49.51852627171865, 'fail': 4.46, 'raw': array([0, 3, 2, ..., 0, 0, 0], dtype=int64)}}\n",
      "sift-48 {'pca': {'mean': 2.9788987138263665, 'std': 8.273069960330279, 'acc': 55.18488745980707, 'fail': 0.48, 'raw': array([1, 2, 3, ..., 0, 0, 0], dtype=int64)}}\n",
      "sift-truncated10-48 {'pca': {'mean': 0.9662786029706945, 'std': 2.127996496656664, 'acc': 64.3014853472501, 'fail': 0.36, 'raw': array([0, 2, 0, ..., 0, 0, 0], dtype=int64)}, 'nca': {'mean': 0.9685932169375878, 'std': 2.1045131228711527, 'acc': 64.14810355207706, 'fail': 0.33999999999999997, 'raw': array([0, 3, 0, ..., 0, 0, 0], dtype=int64)}}\n",
      "sift-64 {'pca': {'mean': 1.0921276382914875, 'std': 3.2698658460720904, 'acc': 67.5402620786236, 'fail': 0.03, 'raw': array([1, 2, 1, ..., 0, 0, 0], dtype=int64)}}\n",
      "sift-truncated10-64 {'pca': {'mean': 0.4898979795959192, 'std': 1.21677610036095, 'acc': 74.78495699139827, 'fail': 0.02, 'raw': array([0, 0, 0, ..., 0, 0, 0], dtype=int64)}, 'nca': {'mean': 0.48189637927585516, 'std': 1.1900023300708313, 'acc': 74.75495099019804, 'fail': 0.02, 'raw': array([0, 0, 0, ..., 0, 0, 0], dtype=int64)}}\n",
      "sift-80 {'pca': {'mean': 0.5022, 'std': 1.5458315432154954, 'acc': 76.92999999999999, 'fail': 0.0, 'raw': array([1, 2, 1, ..., 0, 0, 0], dtype=int64)}}\n",
      "sift-truncated10-80 {'pca': {'mean': 0.2582, 'std': 0.7341203988447672, 'acc': 83.32000000000001, 'fail': 0.0, 'raw': array([0, 0, 2, ..., 0, 0, 0], dtype=int64)}, 'nca': {'mean': 0.2533, 'std': 0.7230069916674389, 'acc': 83.50999999999999, 'fail': 0.0, 'raw': array([0, 0, 0, ..., 0, 0, 0], dtype=int64)}}\n",
      "sift-100 {'pca': {'mean': 0.1904, 'std': 0.6180192877249059, 'acc': 86.89, 'fail': 0.0, 'raw': array([0, 0, 1, ..., 0, 0, 0], dtype=int64)}}\n",
      "sift-truncated10-100 {'pca': {'mean': 0.1159, 'std': 0.40083311988906306, 'acc': 90.59, 'fail': 0.0, 'raw': array([0, 0, 0, ..., 0, 0, 0], dtype=int64)}, 'nca': {'mean': 0.1158, 'std': 0.4034728739333042, 'acc': 90.61, 'fail': 0.0, 'raw': array([0, 0, 0, ..., 0, 0, 0], dtype=int64)}}\n"
     ]
    }
   ],
   "source": [
    "results = utils.tryLoadPickle(\"classical_results.pkl\", {})\n",
    "for k in results:\n",
    "    print(k, results[k])"
   ]
  },
  {
   "cell_type": "code",
   "execution_count": 6,
   "metadata": {},
   "outputs": [
    {
     "name": "stderr",
     "output_type": "stream",
     "text": [
      "Using 16bit native Automatic Mixed Precision (AMP)\n",
      "GPU available: True (cuda), used: True\n",
      "TPU available: False, using: 0 TPU cores\n",
      "IPU available: False, using: 0 IPUs\n",
      "HPU available: False, using: 0 HPUs\n"
     ]
    }
   ],
   "source": [
    "logger = pl.loggers.CSVLogger(\"\")\n",
    "\n",
    "# path=\"reduce.ckpt\"\n",
    "# model = models.ReductionSpaceConserving.load_from_checkpoint(path, model=models.BasicConv)\n",
    "# dimensions=model.dimensions\n",
    "# print(f\"Loaded model {path} with {dimensions}D\")\n",
    "\n",
    "trainer = pl.Trainer(logger=logger, **utils.TRAINER_ARGS)\n",
    "# train_encodings = torch.cat(trainer.predict(model, train_loader))\n",
    "# test_encodings = torch.cat(trainer.predict(model, test_loader))\n",
    "\n",
    "train_npdata = utils.numpyConvert(train_data.data)\n",
    "test_npdata = utils.numpyConvert(test_data.data)\n",
    "# train_encodings = utils.numpyConvert(train_encodings)\n",
    "# test_encodings = utils.numpyConvert(test_encodings)"
   ]
  },
  {
   "cell_type": "code",
   "execution_count": 51,
   "metadata": {},
   "outputs": [
    {
     "data": {
      "image/png": "[encoded data removed]",
      "text/plain": [
       "<Figure size 640x480 with 1 Axes>"
      ]
     },
     "metadata": {},
     "output_type": "display_data"
    }
   ],
   "source": [
    "# Visualise a random 2D slice\n",
    "num_points = 2000\n",
    "idxs = np.random.randint(0, len(train_encodings), num_points)\n",
    "\n",
    "ax0 = np.random.normal(0, 1, dimensions)\n",
    "ax0 /= np.linalg.norm(ax0)\n",
    "\n",
    "ax1 = np.random.normal(0, 1, dimensions)\n",
    "ax1 = ax1 - ax0 * np.dot(ax0, ax1) # Perpendicular\n",
    "ax1 /= np.linalg.norm(ax1)\n",
    "\n",
    "\n",
    "points = train_encodings[idxs]\n",
    "plt.scatter(np.dot(points, ax0), np.dot(points, ax1))\n",
    "plt.show()"
   ]
  },
  {
   "cell_type": "code",
   "execution_count": 16,
   "metadata": {},
   "outputs": [],
   "source": [
    "# Evaluate accuracy of NNs in reduced dimensional space\n",
    "def evalModel(test_enc, train_enc):\n",
    "    num_queries = 700\n",
    "    num_points = 14000\n",
    "    idxs = np.random.randint(0, len(test_npdata), num_queries)\n",
    "\n",
    "    errors = []\n",
    "    for idx in idxs:\n",
    "        query = test_npdata[idx]\n",
    "        query_enc = test_enc[idx]\n",
    "\n",
    "        deltas = train_npdata[:num_points] - query\n",
    "        deltas_enc = train_enc[:num_points] - query_enc\n",
    "\n",
    "        deltas = np.sum(np.square(deltas), 1)\n",
    "        deltas_enc = np.sum(np.square(deltas_enc), 1)\n",
    "\n",
    "        nn = np.argmin(deltas)\n",
    "        sort_enc = np.argsort(deltas_enc)\n",
    "\n",
    "        error = np.argmax(sort_enc == nn)\n",
    "        errors.append(error)\n",
    "\n",
    "    return np.array(errors)\n",
    "\n",
    "# errors = evalModel(test_encodings, train_encodings)\n",
    "# print(\"Raw: \", errors[:20])\n",
    "# print(\"Ave.:\", np.mean(errors))\n",
    "# print(\"Dev.:\", np.std(errors))\n",
    "# print(\"Acc.:\", 100 * np.mean(errors == 0), \"%\")\n",
    "# print(\"Max.:\", np.max(errors))"
   ]
  },
  {
   "cell_type": "code",
   "execution_count": 13,
   "metadata": {},
   "outputs": [],
   "source": [
    "uniform_data = utils.UniformDataset(2, 50_000)\n",
    "args = utils.LOADER_ARGS\n",
    "args[\"batch_size\"] = 16\n",
    "uniform_loader = torch.utils.data.DataLoader(uniform_data, **args)"
   ]
  },
  {
   "cell_type": "code",
   "execution_count": 16,
   "metadata": {},
   "outputs": [
    {
     "name": "stderr",
     "output_type": "stream",
     "text": [
      "Using 16bit native Automatic Mixed Precision (AMP)\n",
      "GPU available: True (cuda), used: True\n",
      "TPU available: False, using: 0 TPU cores\n",
      "IPU available: False, using: 0 IPUs\n",
      "HPU available: False, using: 0 HPUs\n",
      "LOCAL_RANK: 0 - CUDA_VISIBLE_DEVICES: [0]\n",
      "\n",
      "  | Name  | Type    | Params\n",
      "----------------------------------\n",
      "0 | model | BasicNN | 25.0 M\n",
      "----------------------------------\n",
      "25.0 M    Trainable params\n",
      "0         Non-trainable params\n",
      "25.0 M    Total params\n",
      "50.050    Total estimated model params size (MB)\n"
     ]
    },
    {
     "data": {
      "application/vnd.jupyter.widget-view+json": {
       "model_id": "49d688c2bc1f4438b3e7dc03db0efa0a",
       "version_major": 2,
       "version_minor": 0
      },
      "text/plain": [
       "Training: 0it [00:00, ?it/s]"
      ]
     },
     "metadata": {},
     "output_type": "display_data"
    },
    {
     "name": "stderr",
     "output_type": "stream",
     "text": [
      "`Trainer.fit` stopped: `max_epochs=2` reached.\n"
     ]
    }
   ],
   "source": [
    "# Train a space-filling curve\n",
    "sfc = models.SFCModel(models.BasicNN, inputs=2, width=5000, p=2.0)\n",
    "args = utils.TRAINER_ARGS\n",
    "args[\"max_epochs\"] = 2\n",
    "trainer = pl.Trainer(logger=logger, **args)\n",
    "trainer.fit(sfc, uniform_loader)"
   ]
  },
  {
   "cell_type": "code",
   "execution_count": 18,
   "metadata": {},
   "outputs": [
    {
     "name": "stderr",
     "output_type": "stream",
     "text": [
      "LOCAL_RANK: 0 - CUDA_VISIBLE_DEVICES: [0]\n"
     ]
    },
    {
     "data": {
      "application/vnd.jupyter.widget-view+json": {
       "model_id": "89e6da48a82b4fe1b09ca988a2eac93c",
       "version_major": 2,
       "version_minor": 0
      },
      "text/plain": [
       "Predicting: 3125it [00:00, ?it/s]"
      ]
     },
     "metadata": {},
     "output_type": "display_data"
    },
    {
     "data": {
      "image/png": "[encoded data removed]",
      "text/plain": [
       "<Figure size 640x480 with 1 Axes>"
      ]
     },
     "metadata": {},
     "output_type": "display_data"
    }
   ],
   "source": [
    "zero_data = utils.UniformDataset(1, 1)\n",
    "d = np.copy(uniform_data.data.detach().cpu().numpy())\n",
    "#d[:,2] = 0.0\n",
    "zero_data.data = torch.from_numpy(d)\n",
    "zero_loader = utils.createDataLoader(zero_data)\n",
    "\n",
    "uniform_encodings = torch.cat(trainer.predict(sfc, zero_loader))\n",
    "uniform_encodings = utils.numpyConvert(uniform_encodings).flatten()\n",
    "uniform_npdata = utils.numpyConvert(zero_data.data)\n",
    "\n",
    "order = np.argsort(uniform_encodings)\n",
    "uniform_sorted = uniform_npdata[order]\n",
    "\n",
    "samples = 100\n",
    "xs = []\n",
    "ys = []\n",
    "for i in range(samples):\n",
    "    idx = int(i/samples * len(uniform_data))\n",
    "    xs.append(uniform_sorted[idx][0])\n",
    "    ys.append(uniform_sorted[idx][1])\n",
    "\n",
    "plt.plot(xs, ys)\n",
    "plt.show()"
   ]
  },
  {
   "cell_type": "code",
   "execution_count": 17,
   "metadata": {},
   "outputs": [
    {
     "name": "stderr",
     "output_type": "stream",
     "text": [
      "Using 16bit native Automatic Mixed Precision (AMP)\n",
      "GPU available: True (cuda), used: True\n",
      "TPU available: False, using: 0 TPU cores\n",
      "IPU available: False, using: 0 IPUs\n",
      "HPU available: False, using: 0 HPUs\n",
      "LOCAL_RANK: 0 - CUDA_VISIBLE_DEVICES: [0]\n",
      "c:\\Users\\James\\anaconda3\\lib\\site-packages\\pytorch_lightning\\trainer\\connectors\\data_connector.py:224: PossibleUserWarning: The dataloader, predict_dataloader 0, does not have many workers which may be a bottleneck. Consider increasing the value of the `num_workers` argument` (try 16 which is the number of cpus on this machine) in the `DataLoader` init to improve performance.\n",
      "  rank_zero_warn(\n"
     ]
    },
    {
     "data": {
      "application/vnd.jupyter.widget-view+json": {
       "model_id": "3e12971936ef488a82f78bece359e1e8",
       "version_major": 2,
       "version_minor": 0
      },
      "text/plain": [
       "Predicting: 0it [00:00, ?it/s]"
      ]
     },
     "metadata": {},
     "output_type": "display_data"
    },
    {
     "name": "stderr",
     "output_type": "stream",
     "text": [
      "LOCAL_RANK: 0 - CUDA_VISIBLE_DEVICES: [0]\n"
     ]
    },
    {
     "data": {
      "application/vnd.jupyter.widget-view+json": {
       "model_id": "3bf510dd04d64fa9b4efa004efaf94aa",
       "version_major": 2,
       "version_minor": 0
      },
      "text/plain": [
       "Predicting: 0it [00:00, ?it/s]"
      ]
     },
     "metadata": {},
     "output_type": "display_data"
    },
    {
     "name": "stderr",
     "output_type": "stream",
     "text": [
      "Using 16bit native Automatic Mixed Precision (AMP)\n",
      "GPU available: True (cuda), used: True\n",
      "TPU available: False, using: 0 TPU cores\n",
      "IPU available: False, using: 0 IPUs\n",
      "HPU available: False, using: 0 HPUs\n",
      "LOCAL_RANK: 0 - CUDA_VISIBLE_DEVICES: [0]\n"
     ]
    },
    {
     "name": "stdout",
     "output_type": "stream",
     "text": [
      "Done 0!\n"
     ]
    },
    {
     "data": {
      "application/vnd.jupyter.widget-view+json": {
       "model_id": "84e4175823d3487f859f4dfb5e53a747",
       "version_major": 2,
       "version_minor": 0
      },
      "text/plain": [
       "Predicting: 0it [00:00, ?it/s]"
      ]
     },
     "metadata": {},
     "output_type": "display_data"
    },
    {
     "name": "stderr",
     "output_type": "stream",
     "text": [
      "LOCAL_RANK: 0 - CUDA_VISIBLE_DEVICES: [0]\n"
     ]
    },
    {
     "data": {
      "application/vnd.jupyter.widget-view+json": {
       "model_id": "8eda1dc961444147be32a62a6d6dbdab",
       "version_major": 2,
       "version_minor": 0
      },
      "text/plain": [
       "Predicting: 0it [00:00, ?it/s]"
      ]
     },
     "metadata": {},
     "output_type": "display_data"
    },
    {
     "name": "stderr",
     "output_type": "stream",
     "text": [
      "Using 16bit native Automatic Mixed Precision (AMP)\n",
      "GPU available: True (cuda), used: True\n",
      "TPU available: False, using: 0 TPU cores\n",
      "IPU available: False, using: 0 IPUs\n",
      "HPU available: False, using: 0 HPUs\n",
      "LOCAL_RANK: 0 - CUDA_VISIBLE_DEVICES: [0]\n"
     ]
    },
    {
     "name": "stdout",
     "output_type": "stream",
     "text": [
      "Done 1!\n"
     ]
    },
    {
     "data": {
      "application/vnd.jupyter.widget-view+json": {
       "model_id": "26ed9c6409de47779a2904727d7ae0f0",
       "version_major": 2,
       "version_minor": 0
      },
      "text/plain": [
       "Predicting: 0it [00:00, ?it/s]"
      ]
     },
     "metadata": {},
     "output_type": "display_data"
    },
    {
     "name": "stderr",
     "output_type": "stream",
     "text": [
      "LOCAL_RANK: 0 - CUDA_VISIBLE_DEVICES: [0]\n"
     ]
    },
    {
     "data": {
      "application/vnd.jupyter.widget-view+json": {
       "model_id": "4a800a8ea6d24e319efb5fa16347c018",
       "version_major": 2,
       "version_minor": 0
      },
      "text/plain": [
       "Predicting: 0it [00:00, ?it/s]"
      ]
     },
     "metadata": {},
     "output_type": "display_data"
    },
    {
     "name": "stderr",
     "output_type": "stream",
     "text": [
      "Using 16bit native Automatic Mixed Precision (AMP)\n",
      "GPU available: True (cuda), used: True\n",
      "TPU available: False, using: 0 TPU cores\n",
      "IPU available: False, using: 0 IPUs\n",
      "HPU available: False, using: 0 HPUs\n",
      "LOCAL_RANK: 0 - CUDA_VISIBLE_DEVICES: [0]\n"
     ]
    },
    {
     "name": "stdout",
     "output_type": "stream",
     "text": [
      "Done 2!\n"
     ]
    },
    {
     "data": {
      "application/vnd.jupyter.widget-view+json": {
       "model_id": "2eec81c2e3744981afb805472c0e965e",
       "version_major": 2,
       "version_minor": 0
      },
      "text/plain": [
       "Predicting: 0it [00:00, ?it/s]"
      ]
     },
     "metadata": {},
     "output_type": "display_data"
    },
    {
     "name": "stderr",
     "output_type": "stream",
     "text": [
      "LOCAL_RANK: 0 - CUDA_VISIBLE_DEVICES: [0]\n"
     ]
    },
    {
     "data": {
      "application/vnd.jupyter.widget-view+json": {
       "model_id": "6ea3b03f80ba4a9d9882ee40206fbc45",
       "version_major": 2,
       "version_minor": 0
      },
      "text/plain": [
       "Predicting: 0it [00:00, ?it/s]"
      ]
     },
     "metadata": {},
     "output_type": "display_data"
    },
    {
     "name": "stderr",
     "output_type": "stream",
     "text": [
      "Using 16bit native Automatic Mixed Precision (AMP)\n",
      "GPU available: True (cuda), used: True\n",
      "TPU available: False, using: 0 TPU cores\n",
      "IPU available: False, using: 0 IPUs\n",
      "HPU available: False, using: 0 HPUs\n",
      "LOCAL_RANK: 0 - CUDA_VISIBLE_DEVICES: [0]\n"
     ]
    },
    {
     "name": "stdout",
     "output_type": "stream",
     "text": [
      "Done 3!\n"
     ]
    },
    {
     "data": {
      "application/vnd.jupyter.widget-view+json": {
       "model_id": "f43a6b2e007a44fba24991645e4666d0",
       "version_major": 2,
       "version_minor": 0
      },
      "text/plain": [
       "Predicting: 0it [00:00, ?it/s]"
      ]
     },
     "metadata": {},
     "output_type": "display_data"
    },
    {
     "name": "stderr",
     "output_type": "stream",
     "text": [
      "LOCAL_RANK: 0 - CUDA_VISIBLE_DEVICES: [0]\n"
     ]
    },
    {
     "data": {
      "application/vnd.jupyter.widget-view+json": {
       "model_id": "2809e6ab82cf444aaf6ed1c94f9532c0",
       "version_major": 2,
       "version_minor": 0
      },
      "text/plain": [
       "Predicting: 0it [00:00, ?it/s]"
      ]
     },
     "metadata": {},
     "output_type": "display_data"
    },
    {
     "name": "stderr",
     "output_type": "stream",
     "text": [
      "Using 16bit native Automatic Mixed Precision (AMP)\n",
      "GPU available: True (cuda), used: True\n",
      "TPU available: False, using: 0 TPU cores\n",
      "IPU available: False, using: 0 IPUs\n",
      "HPU available: False, using: 0 HPUs\n",
      "LOCAL_RANK: 0 - CUDA_VISIBLE_DEVICES: [0]\n"
     ]
    },
    {
     "name": "stdout",
     "output_type": "stream",
     "text": [
      "Done 4!\n"
     ]
    },
    {
     "data": {
      "application/vnd.jupyter.widget-view+json": {
       "model_id": "f38e1ed1a71544dd80ff2f78fbeb2ff1",
       "version_major": 2,
       "version_minor": 0
      },
      "text/plain": [
       "Predicting: 0it [00:00, ?it/s]"
      ]
     },
     "metadata": {},
     "output_type": "display_data"
    },
    {
     "name": "stderr",
     "output_type": "stream",
     "text": [
      "LOCAL_RANK: 0 - CUDA_VISIBLE_DEVICES: [0]\n"
     ]
    },
    {
     "data": {
      "application/vnd.jupyter.widget-view+json": {
       "model_id": "90e91ffe093747b28b753cef8d1424bc",
       "version_major": 2,
       "version_minor": 0
      },
      "text/plain": [
       "Predicting: 0it [00:00, ?it/s]"
      ]
     },
     "metadata": {},
     "output_type": "display_data"
    },
    {
     "name": "stderr",
     "output_type": "stream",
     "text": [
      "Using 16bit native Automatic Mixed Precision (AMP)\n",
      "GPU available: True (cuda), used: True\n",
      "TPU available: False, using: 0 TPU cores\n",
      "IPU available: False, using: 0 IPUs\n",
      "HPU available: False, using: 0 HPUs\n",
      "LOCAL_RANK: 0 - CUDA_VISIBLE_DEVICES: [0]\n"
     ]
    },
    {
     "name": "stdout",
     "output_type": "stream",
     "text": [
      "Done 5!\n"
     ]
    },
    {
     "data": {
      "application/vnd.jupyter.widget-view+json": {
       "model_id": "520ca2cdfae64153bc579349491494a4",
       "version_major": 2,
       "version_minor": 0
      },
      "text/plain": [
       "Predicting: 0it [00:00, ?it/s]"
      ]
     },
     "metadata": {},
     "output_type": "display_data"
    },
    {
     "name": "stderr",
     "output_type": "stream",
     "text": [
      "LOCAL_RANK: 0 - CUDA_VISIBLE_DEVICES: [0]\n"
     ]
    },
    {
     "data": {
      "application/vnd.jupyter.widget-view+json": {
       "model_id": "1ef0de3a79b14029ad6b858f9e6f0168",
       "version_major": 2,
       "version_minor": 0
      },
      "text/plain": [
       "Predicting: 0it [00:00, ?it/s]"
      ]
     },
     "metadata": {},
     "output_type": "display_data"
    },
    {
     "name": "stderr",
     "output_type": "stream",
     "text": [
      "Using 16bit native Automatic Mixed Precision (AMP)\n",
      "GPU available: True (cuda), used: True\n",
      "TPU available: False, using: 0 TPU cores\n",
      "IPU available: False, using: 0 IPUs\n",
      "HPU available: False, using: 0 HPUs\n",
      "LOCAL_RANK: 0 - CUDA_VISIBLE_DEVICES: [0]\n"
     ]
    },
    {
     "name": "stdout",
     "output_type": "stream",
     "text": [
      "Done 6!\n"
     ]
    },
    {
     "data": {
      "application/vnd.jupyter.widget-view+json": {
       "model_id": "fe478a91930e4c5cb08b4ccbf631eda2",
       "version_major": 2,
       "version_minor": 0
      },
      "text/plain": [
       "Predicting: 0it [00:00, ?it/s]"
      ]
     },
     "metadata": {},
     "output_type": "display_data"
    },
    {
     "name": "stderr",
     "output_type": "stream",
     "text": [
      "LOCAL_RANK: 0 - CUDA_VISIBLE_DEVICES: [0]\n"
     ]
    },
    {
     "data": {
      "application/vnd.jupyter.widget-view+json": {
       "model_id": "dba914a9a5974184824eff961a3251cf",
       "version_major": 2,
       "version_minor": 0
      },
      "text/plain": [
       "Predicting: 0it [00:00, ?it/s]"
      ]
     },
     "metadata": {},
     "output_type": "display_data"
    },
    {
     "name": "stderr",
     "output_type": "stream",
     "text": [
      "Using 16bit native Automatic Mixed Precision (AMP)\n",
      "GPU available: True (cuda), used: True\n",
      "TPU available: False, using: 0 TPU cores\n",
      "IPU available: False, using: 0 IPUs\n",
      "HPU available: False, using: 0 HPUs\n",
      "LOCAL_RANK: 0 - CUDA_VISIBLE_DEVICES: [0]\n"
     ]
    },
    {
     "name": "stdout",
     "output_type": "stream",
     "text": [
      "Done 7!\n"
     ]
    },
    {
     "data": {
      "application/vnd.jupyter.widget-view+json": {
       "model_id": "289a1813ab8846eaaf4a1108c21cd89c",
       "version_major": 2,
       "version_minor": 0
      },
      "text/plain": [
       "Predicting: 0it [00:00, ?it/s]"
      ]
     },
     "metadata": {},
     "output_type": "display_data"
    },
    {
     "name": "stderr",
     "output_type": "stream",
     "text": [
      "LOCAL_RANK: 0 - CUDA_VISIBLE_DEVICES: [0]\n"
     ]
    },
    {
     "data": {
      "application/vnd.jupyter.widget-view+json": {
       "model_id": "2336cf8dda924f1481dc1438f8fc5682",
       "version_major": 2,
       "version_minor": 0
      },
      "text/plain": [
       "Predicting: 0it [00:00, ?it/s]"
      ]
     },
     "metadata": {},
     "output_type": "display_data"
    },
    {
     "name": "stderr",
     "output_type": "stream",
     "text": [
      "Using 16bit native Automatic Mixed Precision (AMP)\n",
      "GPU available: True (cuda), used: True\n",
      "TPU available: False, using: 0 TPU cores\n",
      "IPU available: False, using: 0 IPUs\n",
      "HPU available: False, using: 0 HPUs\n",
      "LOCAL_RANK: 0 - CUDA_VISIBLE_DEVICES: [0]\n"
     ]
    },
    {
     "name": "stdout",
     "output_type": "stream",
     "text": [
      "Done 8!\n"
     ]
    },
    {
     "data": {
      "application/vnd.jupyter.widget-view+json": {
       "model_id": "978bd2efa24a4173b6530acd38214e79",
       "version_major": 2,
       "version_minor": 0
      },
      "text/plain": [
       "Predicting: 0it [00:00, ?it/s]"
      ]
     },
     "metadata": {},
     "output_type": "display_data"
    },
    {
     "name": "stderr",
     "output_type": "stream",
     "text": [
      "LOCAL_RANK: 0 - CUDA_VISIBLE_DEVICES: [0]\n"
     ]
    },
    {
     "data": {
      "application/vnd.jupyter.widget-view+json": {
       "model_id": "23d345db3a7946c192e2dc4132319706",
       "version_major": 2,
       "version_minor": 0
      },
      "text/plain": [
       "Predicting: 0it [00:00, ?it/s]"
      ]
     },
     "metadata": {},
     "output_type": "display_data"
    },
    {
     "name": "stderr",
     "output_type": "stream",
     "text": [
      "Using 16bit native Automatic Mixed Precision (AMP)\n",
      "GPU available: True (cuda), used: True\n",
      "TPU available: False, using: 0 TPU cores\n",
      "IPU available: False, using: 0 IPUs\n",
      "HPU available: False, using: 0 HPUs\n",
      "LOCAL_RANK: 0 - CUDA_VISIBLE_DEVICES: [0]\n"
     ]
    },
    {
     "name": "stdout",
     "output_type": "stream",
     "text": [
      "Done 9!\n"
     ]
    },
    {
     "data": {
      "application/vnd.jupyter.widget-view+json": {
       "model_id": "7a98867faa234421b34271e904a9c04d",
       "version_major": 2,
       "version_minor": 0
      },
      "text/plain": [
       "Predicting: 0it [00:00, ?it/s]"
      ]
     },
     "metadata": {},
     "output_type": "display_data"
    },
    {
     "name": "stderr",
     "output_type": "stream",
     "text": [
      "LOCAL_RANK: 0 - CUDA_VISIBLE_DEVICES: [0]\n"
     ]
    },
    {
     "data": {
      "application/vnd.jupyter.widget-view+json": {
       "model_id": "e3593ccafa764526b321155e18039dfe",
       "version_major": 2,
       "version_minor": 0
      },
      "text/plain": [
       "Predicting: 0it [00:00, ?it/s]"
      ]
     },
     "metadata": {},
     "output_type": "display_data"
    },
    {
     "name": "stderr",
     "output_type": "stream",
     "text": [
      "Using 16bit native Automatic Mixed Precision (AMP)\n",
      "GPU available: True (cuda), used: True\n",
      "TPU available: False, using: 0 TPU cores\n",
      "IPU available: False, using: 0 IPUs\n",
      "HPU available: False, using: 0 HPUs\n",
      "LOCAL_RANK: 0 - CUDA_VISIBLE_DEVICES: [0]\n"
     ]
    },
    {
     "name": "stdout",
     "output_type": "stream",
     "text": [
      "Done 10!\n"
     ]
    },
    {
     "data": {
      "application/vnd.jupyter.widget-view+json": {
       "model_id": "b71053b449414838a60db19d9539c4dc",
       "version_major": 2,
       "version_minor": 0
      },
      "text/plain": [
       "Predicting: 0it [00:00, ?it/s]"
      ]
     },
     "metadata": {},
     "output_type": "display_data"
    },
    {
     "name": "stderr",
     "output_type": "stream",
     "text": [
      "LOCAL_RANK: 0 - CUDA_VISIBLE_DEVICES: [0]\n"
     ]
    },
    {
     "data": {
      "application/vnd.jupyter.widget-view+json": {
       "model_id": "784d34af1d704186a005219ba215aba5",
       "version_major": 2,
       "version_minor": 0
      },
      "text/plain": [
       "Predicting: 0it [00:00, ?it/s]"
      ]
     },
     "metadata": {},
     "output_type": "display_data"
    },
    {
     "name": "stderr",
     "output_type": "stream",
     "text": [
      "Using 16bit native Automatic Mixed Precision (AMP)\n",
      "GPU available: True (cuda), used: True\n",
      "TPU available: False, using: 0 TPU cores\n",
      "IPU available: False, using: 0 IPUs\n",
      "HPU available: False, using: 0 HPUs\n",
      "LOCAL_RANK: 0 - CUDA_VISIBLE_DEVICES: [0]\n"
     ]
    },
    {
     "name": "stdout",
     "output_type": "stream",
     "text": [
      "Done 11!\n"
     ]
    },
    {
     "data": {
      "application/vnd.jupyter.widget-view+json": {
       "model_id": "34153cc0f7224a3e9d938739a534af81",
       "version_major": 2,
       "version_minor": 0
      },
      "text/plain": [
       "Predicting: 0it [00:00, ?it/s]"
      ]
     },
     "metadata": {},
     "output_type": "display_data"
    },
    {
     "name": "stderr",
     "output_type": "stream",
     "text": [
      "LOCAL_RANK: 0 - CUDA_VISIBLE_DEVICES: [0]\n"
     ]
    },
    {
     "data": {
      "application/vnd.jupyter.widget-view+json": {
       "model_id": "9de20d4669d04fb9987121cb2e787c42",
       "version_major": 2,
       "version_minor": 0
      },
      "text/plain": [
       "Predicting: 0it [00:00, ?it/s]"
      ]
     },
     "metadata": {},
     "output_type": "display_data"
    },
    {
     "name": "stderr",
     "output_type": "stream",
     "text": [
      "Using 16bit native Automatic Mixed Precision (AMP)\n",
      "GPU available: True (cuda), used: True\n",
      "TPU available: False, using: 0 TPU cores\n",
      "IPU available: False, using: 0 IPUs\n",
      "HPU available: False, using: 0 HPUs\n",
      "LOCAL_RANK: 0 - CUDA_VISIBLE_DEVICES: [0]\n"
     ]
    },
    {
     "name": "stdout",
     "output_type": "stream",
     "text": [
      "Done 12!\n"
     ]
    },
    {
     "data": {
      "application/vnd.jupyter.widget-view+json": {
       "model_id": "18e5c8d0d4b44e6d93369fce9430d1a6",
       "version_major": 2,
       "version_minor": 0
      },
      "text/plain": [
       "Predicting: 0it [00:00, ?it/s]"
      ]
     },
     "metadata": {},
     "output_type": "display_data"
    },
    {
     "name": "stderr",
     "output_type": "stream",
     "text": [
      "LOCAL_RANK: 0 - CUDA_VISIBLE_DEVICES: [0]\n"
     ]
    },
    {
     "data": {
      "application/vnd.jupyter.widget-view+json": {
       "model_id": "1268d9bb03c64693933968e56bb7761c",
       "version_major": 2,
       "version_minor": 0
      },
      "text/plain": [
       "Predicting: 0it [00:00, ?it/s]"
      ]
     },
     "metadata": {},
     "output_type": "display_data"
    },
    {
     "name": "stderr",
     "output_type": "stream",
     "text": [
      "Using 16bit native Automatic Mixed Precision (AMP)\n",
      "GPU available: True (cuda), used: True\n",
      "TPU available: False, using: 0 TPU cores\n",
      "IPU available: False, using: 0 IPUs\n",
      "HPU available: False, using: 0 HPUs\n",
      "LOCAL_RANK: 0 - CUDA_VISIBLE_DEVICES: [0]\n"
     ]
    },
    {
     "name": "stdout",
     "output_type": "stream",
     "text": [
      "Done 13!\n"
     ]
    },
    {
     "data": {
      "application/vnd.jupyter.widget-view+json": {
       "model_id": "b0bb4db2095d4cca8cf51823d6af3602",
       "version_major": 2,
       "version_minor": 0
      },
      "text/plain": [
       "Predicting: 0it [00:00, ?it/s]"
      ]
     },
     "metadata": {},
     "output_type": "display_data"
    },
    {
     "name": "stderr",
     "output_type": "stream",
     "text": [
      "LOCAL_RANK: 0 - CUDA_VISIBLE_DEVICES: [0]\n"
     ]
    },
    {
     "data": {
      "application/vnd.jupyter.widget-view+json": {
       "model_id": "0558dd3034a24a4082f1679b3610a454",
       "version_major": 2,
       "version_minor": 0
      },
      "text/plain": [
       "Predicting: 0it [00:00, ?it/s]"
      ]
     },
     "metadata": {},
     "output_type": "display_data"
    },
    {
     "name": "stderr",
     "output_type": "stream",
     "text": [
      "Using 16bit native Automatic Mixed Precision (AMP)\n",
      "GPU available: True (cuda), used: True\n",
      "TPU available: False, using: 0 TPU cores\n",
      "IPU available: False, using: 0 IPUs\n",
      "HPU available: False, using: 0 HPUs\n",
      "LOCAL_RANK: 0 - CUDA_VISIBLE_DEVICES: [0]\n"
     ]
    },
    {
     "name": "stdout",
     "output_type": "stream",
     "text": [
      "Done 14!\n"
     ]
    },
    {
     "data": {
      "application/vnd.jupyter.widget-view+json": {
       "model_id": "4dbfde10faa2451dbe3caa0851b40e4e",
       "version_major": 2,
       "version_minor": 0
      },
      "text/plain": [
       "Predicting: 0it [00:00, ?it/s]"
      ]
     },
     "metadata": {},
     "output_type": "display_data"
    },
    {
     "name": "stderr",
     "output_type": "stream",
     "text": [
      "LOCAL_RANK: 0 - CUDA_VISIBLE_DEVICES: [0]\n"
     ]
    },
    {
     "data": {
      "application/vnd.jupyter.widget-view+json": {
       "model_id": "600f156f04104d9ebda7ad435203c7a6",
       "version_major": 2,
       "version_minor": 0
      },
      "text/plain": [
       "Predicting: 0it [00:00, ?it/s]"
      ]
     },
     "metadata": {},
     "output_type": "display_data"
    },
    {
     "name": "stderr",
     "output_type": "stream",
     "text": [
      "Using 16bit native Automatic Mixed Precision (AMP)\n",
      "GPU available: True (cuda), used: True\n",
      "TPU available: False, using: 0 TPU cores\n",
      "IPU available: False, using: 0 IPUs\n",
      "HPU available: False, using: 0 HPUs\n",
      "LOCAL_RANK: 0 - CUDA_VISIBLE_DEVICES: [0]\n"
     ]
    },
    {
     "name": "stdout",
     "output_type": "stream",
     "text": [
      "Done 15!\n"
     ]
    },
    {
     "data": {
      "application/vnd.jupyter.widget-view+json": {
       "model_id": "2225d117126342b485b39c85a4a34a10",
       "version_major": 2,
       "version_minor": 0
      },
      "text/plain": [
       "Predicting: 0it [00:00, ?it/s]"
      ]
     },
     "metadata": {},
     "output_type": "display_data"
    },
    {
     "name": "stderr",
     "output_type": "stream",
     "text": [
      "LOCAL_RANK: 0 - CUDA_VISIBLE_DEVICES: [0]\n"
     ]
    },
    {
     "data": {
      "application/vnd.jupyter.widget-view+json": {
       "model_id": "a82583044f3e4d67959b8dde9f94edab",
       "version_major": 2,
       "version_minor": 0
      },
      "text/plain": [
       "Predicting: 0it [00:00, ?it/s]"
      ]
     },
     "metadata": {},
     "output_type": "display_data"
    },
    {
     "name": "stderr",
     "output_type": "stream",
     "text": [
      "Using 16bit native Automatic Mixed Precision (AMP)\n",
      "GPU available: True (cuda), used: True\n",
      "TPU available: False, using: 0 TPU cores\n",
      "IPU available: False, using: 0 IPUs\n",
      "HPU available: False, using: 0 HPUs\n",
      "LOCAL_RANK: 0 - CUDA_VISIBLE_DEVICES: [0]\n"
     ]
    },
    {
     "name": "stdout",
     "output_type": "stream",
     "text": [
      "Done 16!\n"
     ]
    },
    {
     "data": {
      "application/vnd.jupyter.widget-view+json": {
       "model_id": "758e634ee9254369af723c15e4fc90eb",
       "version_major": 2,
       "version_minor": 0
      },
      "text/plain": [
       "Predicting: 0it [00:00, ?it/s]"
      ]
     },
     "metadata": {},
     "output_type": "display_data"
    },
    {
     "name": "stderr",
     "output_type": "stream",
     "text": [
      "LOCAL_RANK: 0 - CUDA_VISIBLE_DEVICES: [0]\n"
     ]
    },
    {
     "data": {
      "application/vnd.jupyter.widget-view+json": {
       "model_id": "b59afa756a9d463a879466fce84acde9",
       "version_major": 2,
       "version_minor": 0
      },
      "text/plain": [
       "Predicting: 0it [00:00, ?it/s]"
      ]
     },
     "metadata": {},
     "output_type": "display_data"
    },
    {
     "name": "stdout",
     "output_type": "stream",
     "text": [
      "Done 17!\n"
     ]
    }
   ],
   "source": [
    "xs = [800, 400, 200, 100, 50, 25]\n",
    "param_df = pd.read_pickle(\"hyperparameters.pkl\")\n",
    "\n",
    "logger = pl.loggers.CSVLogger(\"\")\n",
    "\n",
    "errors = {}\n",
    "for i in range(6):\n",
    "    model = utils.loadModel(param_df, i)\n",
    "    trainer = pl.Trainer(logger=logger, **utils.TRAINER_ARGS)\n",
    "    train_encodings = torch.cat(trainer.predict(model, train_loader))\n",
    "    test_encodings = torch.cat(trainer.predict(model, test_loader))\n",
    "    train_encodings = utils.numpyConvert(train_encodings)\n",
    "    test_encodings = utils.numpyConvert(test_encodings)\n",
    "    errors[i] = evalModel(test_encodings, train_encodings)\n",
    "    print(f\"Done {i}!\")\n",
    "\n",
    "for i in range(6):\n",
    "    i += 6\n",
    "    model = models.ReductionSpaceConserving.load_from_checkpoint(f\"checkpoints\\\\{i}.ckpt\", model=models.BasicConv)\n",
    "    trainer = pl.Trainer(logger=logger, **utils.TRAINER_ARGS)\n",
    "    train_encodings = torch.cat(trainer.predict(model, train_loader))\n",
    "    test_encodings = torch.cat(trainer.predict(model, test_loader))\n",
    "    train_encodings = utils.numpyConvert(train_encodings)\n",
    "    test_encodings = utils.numpyConvert(test_encodings)\n",
    "    errors[i] = evalModel(test_encodings, train_encodings)\n",
    "    print(f\"Done {i}!\")\n",
    "\n",
    "for i in range(6):\n",
    "    i += 12\n",
    "    model = models.ReductionWeightedSpaceConserving.load_from_checkpoint(f\"checkpoints\\\\{i}.ckpt\", model=models.BasicConv)\n",
    "    trainer = pl.Trainer(logger=logger, **utils.TRAINER_ARGS)\n",
    "    train_encodings = torch.cat(trainer.predict(model, train_loader))\n",
    "    test_encodings = torch.cat(trainer.predict(model, test_loader))\n",
    "    train_encodings = utils.numpyConvert(train_encodings)\n",
    "    test_encodings = utils.numpyConvert(test_encodings)\n",
    "    errors[i] = evalModel(test_encodings, train_encodings)\n",
    "    print(f\"Done {i}!\")"
   ]
  },
  {
   "cell_type": "code",
   "execution_count": 19,
   "metadata": {},
   "outputs": [],
   "source": [
    "aves = [0]*18\n",
    "stds = [0]*18\n",
    "accs = [0]*18\n",
    "for i in range(18):\n",
    "    aves[i] = np.mean(errors[i])\n",
    "    stds[i] = np.std(errors[i])\n",
    "    accs[i] = 100 * np.mean(errors[i] == 0)"
   ]
  },
  {
   "cell_type": "code",
   "execution_count": 20,
   "metadata": {},
   "outputs": [
    {
     "data": {
      "image/png": "[encoded data removed]",
      "text/plain": [
       "<Figure size 640x480 with 1 Axes>"
      ]
     },
     "metadata": {},
     "output_type": "display_data"
    }
   ],
   "source": [
    "plt.errorbar(xs, aves[:6], yerr=stds[:6], label=\"AutoEnc\")\n",
    "plt.errorbar(xs, aves[6:12], yerr=stds[6:12], label=\"Basic\")\n",
    "plt.plot(xs, aves[12:], label=\"Weighted\")\n",
    "plt.legend()\n",
    "plt.show()"
   ]
  },
  {
   "cell_type": "code",
   "execution_count": 21,
   "metadata": {},
   "outputs": [
    {
     "data": {
      "image/png": "[encoded data removed]",
      "text/plain": [
       "<Figure size 640x480 with 1 Axes>"
      ]
     },
     "metadata": {},
     "output_type": "display_data"
    }
   ],
   "source": [
    "plt.plot(xs, accs[:6], label=\"AutoEnc\")\n",
    "plt.plot(xs, accs[6:12], label=\"Basic\")\n",
    "plt.plot(xs, accs[12:], label=\"Weighted\")\n",
    "plt.legend()\n",
    "plt.show()"
   ]
  },
  {
   "attachments": {},
   "cell_type": "markdown",
   "metadata": {},
   "source": [
    "### Benchmark Indices"
   ]
  },
  {
   "cell_type": "code",
   "execution_count": 26,
   "metadata": {},
   "outputs": [
    {
     "name": "stderr",
     "output_type": "stream",
     "text": [
      "Using 16bit native Automatic Mixed Precision (AMP)\n",
      "Trainer already configured with model summary callbacks: [<class 'pytorch_lightning.callbacks.model_summary.ModelSummary'>]. Skipping setting a default `ModelSummary` callback.\n",
      "GPU available: True (cuda), used: True\n",
      "TPU available: False, using: 0 TPU cores\n",
      "IPU available: False, using: 0 IPUs\n",
      "HPU available: False, using: 0 HPUs\n",
      "LOCAL_RANK: 0 - CUDA_VISIBLE_DEVICES: [0]\n",
      "c:\\Users\\James\\anaconda3\\lib\\site-packages\\pytorch_lightning\\trainer\\connectors\\data_connector.py:224: PossibleUserWarning: The dataloader, predict_dataloader 0, does not have many workers which may be a bottleneck. Consider increasing the value of the `num_workers` argument` (try 16 which is the number of cpus on this machine) in the `DataLoader` init to improve performance.\n",
      "  rank_zero_warn(\n"
     ]
    },
    {
     "data": {
      "application/vnd.jupyter.widget-view+json": {
       "model_id": "f0ee7d6bc2d640f98c6c34253fe1cd68",
       "version_major": 2,
       "version_minor": 0
      },
      "text/plain": [
       "Predicting: 0it [00:00, ?it/s]"
      ]
     },
     "metadata": {},
     "output_type": "display_data"
    },
    {
     "name": "stderr",
     "output_type": "stream",
     "text": [
      "Using 16bit native Automatic Mixed Precision (AMP)\n",
      "Trainer already configured with model summary callbacks: [<class 'pytorch_lightning.callbacks.model_summary.ModelSummary'>]. Skipping setting a default `ModelSummary` callback.\n",
      "GPU available: True (cuda), used: True\n"
     ]
    },
    {
     "name": "stdout",
     "output_type": "stream",
     "text": [
      "{'mean': 1.04875, 'std': 4.461655907563917, 'acc': 71.875, 'fail': 0.0, 'idx': 0, 'time': 14.865583181381226}\n"
     ]
    },
    {
     "name": "stderr",
     "output_type": "stream",
     "text": [
      "TPU available: False, using: 0 TPU cores\n",
      "IPU available: False, using: 0 IPUs\n",
      "HPU available: False, using: 0 HPUs\n",
      "LOCAL_RANK: 0 - CUDA_VISIBLE_DEVICES: [0]\n",
      "c:\\Users\\James\\anaconda3\\lib\\site-packages\\pytorch_lightning\\trainer\\connectors\\data_connector.py:224: PossibleUserWarning: The dataloader, predict_dataloader 0, does not have many workers which may be a bottleneck. Consider increasing the value of the `num_workers` argument` (try 16 which is the number of cpus on this machine) in the `DataLoader` init to improve performance.\n",
      "  rank_zero_warn(\n"
     ]
    },
    {
     "data": {
      "application/vnd.jupyter.widget-view+json": {
       "model_id": "d2047c1cfad64dc8a42e522ec1f65562",
       "version_major": 2,
       "version_minor": 0
      },
      "text/plain": [
       "Predicting: 0it [00:00, ?it/s]"
      ]
     },
     "metadata": {},
     "output_type": "display_data"
    },
    {
     "name": "stderr",
     "output_type": "stream",
     "text": [
      "Using 16bit native Automatic Mixed Precision (AMP)\n",
      "Trainer already configured with model summary callbacks: [<class 'pytorch_lightning.callbacks.model_summary.ModelSummary'>]. Skipping setting a default `ModelSummary` callback.\n"
     ]
    },
    {
     "name": "stdout",
     "output_type": "stream",
     "text": [
      "{'mean': 8.307387862796833, 'std': 16.44385099838083, 'acc': 32.58575197889182, 'fail': 5.25, 'idx': 1, 'time': 0.007520198822021484}\n"
     ]
    },
    {
     "name": "stderr",
     "output_type": "stream",
     "text": [
      "GPU available: True (cuda), used: True\n",
      "TPU available: False, using: 0 TPU cores\n",
      "IPU available: False, using: 0 IPUs\n",
      "HPU available: False, using: 0 HPUs\n",
      "LOCAL_RANK: 0 - CUDA_VISIBLE_DEVICES: [0]\n",
      "c:\\Users\\James\\anaconda3\\lib\\site-packages\\pytorch_lightning\\trainer\\connectors\\data_connector.py:224: PossibleUserWarning: The dataloader, predict_dataloader 0, does not have many workers which may be a bottleneck. Consider increasing the value of the `num_workers` argument` (try 16 which is the number of cpus on this machine) in the `DataLoader` init to improve performance.\n",
      "  rank_zero_warn(\n"
     ]
    },
    {
     "data": {
      "application/vnd.jupyter.widget-view+json": {
       "model_id": "1ca277ad38084910935568032c817772",
       "version_major": 2,
       "version_minor": 0
      },
      "text/plain": [
       "Predicting: 0it [00:00, ?it/s]"
      ]
     },
     "metadata": {},
     "output_type": "display_data"
    },
    {
     "name": "stderr",
     "output_type": "stream",
     "text": [
      "Using 16bit native Automatic Mixed Precision (AMP)\n",
      "Trainer already configured with model summary callbacks: [<class 'pytorch_lightning.callbacks.model_summary.ModelSummary'>]. Skipping setting a default `ModelSummary` callback.\n"
     ]
    },
    {
     "name": "stdout",
     "output_type": "stream",
     "text": [
      "{'mean': 4.1038461538461535, 'std': 10.204736737112196, 'acc': 48.333333333333336, 'fail': 2.5, 'idx': 2, 'time': 0.006506919860839844}\n"
     ]
    },
    {
     "name": "stderr",
     "output_type": "stream",
     "text": [
      "GPU available: True (cuda), used: True\n",
      "TPU available: False, using: 0 TPU cores\n",
      "IPU available: False, using: 0 IPUs\n",
      "HPU available: False, using: 0 HPUs\n",
      "LOCAL_RANK: 0 - CUDA_VISIBLE_DEVICES: [0]\n",
      "c:\\Users\\James\\anaconda3\\lib\\site-packages\\pytorch_lightning\\trainer\\connectors\\data_connector.py:224: PossibleUserWarning: The dataloader, predict_dataloader 0, does not have many workers which may be a bottleneck. Consider increasing the value of the `num_workers` argument` (try 16 which is the number of cpus on this machine) in the `DataLoader` init to improve performance.\n",
      "  rank_zero_warn(\n"
     ]
    },
    {
     "data": {
      "application/vnd.jupyter.widget-view+json": {
       "model_id": "a228dddf0511407aaefca75990ecee26",
       "version_major": 2,
       "version_minor": 0
      },
      "text/plain": [
       "Predicting: 0it [00:00, ?it/s]"
      ]
     },
     "metadata": {},
     "output_type": "display_data"
    },
    {
     "name": "stderr",
     "output_type": "stream",
     "text": [
      "Using 16bit native Automatic Mixed Precision (AMP)\n",
      "Trainer already configured with model summary callbacks: [<class 'pytorch_lightning.callbacks.model_summary.ModelSummary'>]. Skipping setting a default `ModelSummary` callback.\n",
      "GPU available: True (cuda), used: True\n"
     ]
    },
    {
     "name": "stdout",
     "output_type": "stream",
     "text": [
      "{'mean': 2.332070707070707, 'std': 7.815555697689536, 'acc': 55.17676767676768, 'fail': 1.0, 'idx': 3, 'time': 0.00751042366027832}\n"
     ]
    },
    {
     "name": "stderr",
     "output_type": "stream",
     "text": [
      "TPU available: False, using: 0 TPU cores\n",
      "IPU available: False, using: 0 IPUs\n",
      "HPU available: False, using: 0 HPUs\n",
      "LOCAL_RANK: 0 - CUDA_VISIBLE_DEVICES: [0]\n",
      "c:\\Users\\James\\anaconda3\\lib\\site-packages\\pytorch_lightning\\trainer\\connectors\\data_connector.py:224: PossibleUserWarning: The dataloader, predict_dataloader 0, does not have many workers which may be a bottleneck. Consider increasing the value of the `num_workers` argument` (try 16 which is the number of cpus on this machine) in the `DataLoader` init to improve performance.\n",
      "  rank_zero_warn(\n"
     ]
    },
    {
     "data": {
      "application/vnd.jupyter.widget-view+json": {
       "model_id": "583e9052d5194506948d84dcc0664d52",
       "version_major": 2,
       "version_minor": 0
      },
      "text/plain": [
       "Predicting: 0it [00:00, ?it/s]"
      ]
     },
     "metadata": {},
     "output_type": "display_data"
    },
    {
     "name": "stderr",
     "output_type": "stream",
     "text": [
      "Using 16bit native Automatic Mixed Precision (AMP)\n",
      "Trainer already configured with model summary callbacks: [<class 'pytorch_lightning.callbacks.model_summary.ModelSummary'>]. Skipping setting a default `ModelSummary` callback.\n",
      "GPU available: True (cuda), used: True\n"
     ]
    },
    {
     "name": "stdout",
     "output_type": "stream",
     "text": [
      "{'mean': 2.0252206809583857, 'std': 8.00437266898134, 'acc': 61.79066834804539, 'fail': 0.8750000000000001, 'idx': 4, 'time': 0.01051950454711914}\n"
     ]
    },
    {
     "name": "stderr",
     "output_type": "stream",
     "text": [
      "TPU available: False, using: 0 TPU cores\n",
      "IPU available: False, using: 0 IPUs\n",
      "HPU available: False, using: 0 HPUs\n",
      "LOCAL_RANK: 0 - CUDA_VISIBLE_DEVICES: [0]\n",
      "c:\\Users\\James\\anaconda3\\lib\\site-packages\\pytorch_lightning\\trainer\\connectors\\data_connector.py:224: PossibleUserWarning: The dataloader, predict_dataloader 0, does not have many workers which may be a bottleneck. Consider increasing the value of the `num_workers` argument` (try 16 which is the number of cpus on this machine) in the `DataLoader` init to improve performance.\n",
      "  rank_zero_warn(\n"
     ]
    },
    {
     "data": {
      "application/vnd.jupyter.widget-view+json": {
       "model_id": "a84b024f35e5404dada7613197db502c",
       "version_major": 2,
       "version_minor": 0
      },
      "text/plain": [
       "Predicting: 0it [00:00, ?it/s]"
      ]
     },
     "metadata": {},
     "output_type": "display_data"
    },
    {
     "name": "stderr",
     "output_type": "stream",
     "text": [
      "Using 16bit native Automatic Mixed Precision (AMP)\n",
      "Trainer already configured with model summary callbacks: [<class 'pytorch_lightning.callbacks.model_summary.ModelSummary'>]. Skipping setting a default `ModelSummary` callback.\n",
      "GPU available: True (cuda), used: True\n"
     ]
    },
    {
     "name": "stdout",
     "output_type": "stream",
     "text": [
      "{'mean': 0.9773869346733668, 'std': 2.875033966332918, 'acc': 66.95979899497488, 'fail': 0.5, 'idx': 5, 'time': 0.04809212684631348}\n"
     ]
    },
    {
     "name": "stderr",
     "output_type": "stream",
     "text": [
      "TPU available: False, using: 0 TPU cores\n",
      "IPU available: False, using: 0 IPUs\n",
      "HPU available: False, using: 0 HPUs\n",
      "LOCAL_RANK: 0 - CUDA_VISIBLE_DEVICES: [0]\n",
      "c:\\Users\\James\\anaconda3\\lib\\site-packages\\pytorch_lightning\\trainer\\connectors\\data_connector.py:224: PossibleUserWarning: The dataloader, predict_dataloader 0, does not have many workers which may be a bottleneck. Consider increasing the value of the `num_workers` argument` (try 16 which is the number of cpus on this machine) in the `DataLoader` init to improve performance.\n",
      "  rank_zero_warn(\n"
     ]
    },
    {
     "data": {
      "application/vnd.jupyter.widget-view+json": {
       "model_id": "97fce88c9e1942cf917afae09f8f8bbc",
       "version_major": 2,
       "version_minor": 0
      },
      "text/plain": [
       "Predicting: 0it [00:00, ?it/s]"
      ]
     },
     "metadata": {},
     "output_type": "display_data"
    },
    {
     "name": "stderr",
     "output_type": "stream",
     "text": [
      "Using 16bit native Automatic Mixed Precision (AMP)\n",
      "Trainer already configured with model summary callbacks: [<class 'pytorch_lightning.callbacks.model_summary.ModelSummary'>]. Skipping setting a default `ModelSummary` callback.\n",
      "GPU available: True (cuda), used: True\n"
     ]
    },
    {
     "name": "stdout",
     "output_type": "stream",
     "text": [
      "{'mean': 1.0237797246558198, 'std': 3.858340799319578, 'acc': 70.08760951188987, 'fail': 0.125, 'idx': 6, 'time': 0.04661130905151367}\n"
     ]
    },
    {
     "name": "stderr",
     "output_type": "stream",
     "text": [
      "TPU available: False, using: 0 TPU cores\n",
      "IPU available: False, using: 0 IPUs\n",
      "HPU available: False, using: 0 HPUs\n",
      "LOCAL_RANK: 0 - CUDA_VISIBLE_DEVICES: [0]\n",
      "c:\\Users\\James\\anaconda3\\lib\\site-packages\\pytorch_lightning\\trainer\\connectors\\data_connector.py:224: PossibleUserWarning: The dataloader, predict_dataloader 0, does not have many workers which may be a bottleneck. Consider increasing the value of the `num_workers` argument` (try 16 which is the number of cpus on this machine) in the `DataLoader` init to improve performance.\n",
      "  rank_zero_warn(\n"
     ]
    },
    {
     "data": {
      "application/vnd.jupyter.widget-view+json": {
       "model_id": "fcf5b05a5707428dbc4f3ef18ee3402e",
       "version_major": 2,
       "version_minor": 0
      },
      "text/plain": [
       "Predicting: 0it [00:00, ?it/s]"
      ]
     },
     "metadata": {},
     "output_type": "display_data"
    },
    {
     "name": "stderr",
     "output_type": "stream",
     "text": [
      "Using 16bit native Automatic Mixed Precision (AMP)\n",
      "Trainer already configured with model summary callbacks: [<class 'pytorch_lightning.callbacks.model_summary.ModelSummary'>]. Skipping setting a default `ModelSummary` callback.\n",
      "GPU available: True (cuda), used: True\n"
     ]
    },
    {
     "name": "stdout",
     "output_type": "stream",
     "text": [
      "{'mean': 0.9962358845671268, 'std': 3.6587477387593514, 'acc': 70.38895859473023, 'fail': 0.375, 'idx': 7, 'time': 0.046582698822021484}\n"
     ]
    },
    {
     "name": "stderr",
     "output_type": "stream",
     "text": [
      "TPU available: False, using: 0 TPU cores\n",
      "IPU available: False, using: 0 IPUs\n",
      "HPU available: False, using: 0 HPUs\n",
      "LOCAL_RANK: 0 - CUDA_VISIBLE_DEVICES: [0]\n",
      "c:\\Users\\James\\anaconda3\\lib\\site-packages\\pytorch_lightning\\trainer\\connectors\\data_connector.py:224: PossibleUserWarning: The dataloader, predict_dataloader 0, does not have many workers which may be a bottleneck. Consider increasing the value of the `num_workers` argument` (try 16 which is the number of cpus on this machine) in the `DataLoader` init to improve performance.\n",
      "  rank_zero_warn(\n"
     ]
    },
    {
     "data": {
      "application/vnd.jupyter.widget-view+json": {
       "model_id": "d54cbb91871c423eaa36b8e252f9f8b8",
       "version_major": 2,
       "version_minor": 0
      },
      "text/plain": [
       "Predicting: 0it [00:00, ?it/s]"
      ]
     },
     "metadata": {},
     "output_type": "display_data"
    },
    {
     "name": "stderr",
     "output_type": "stream",
     "text": [
      "Using 16bit native Automatic Mixed Precision (AMP)\n",
      "Trainer already configured with model summary callbacks: [<class 'pytorch_lightning.callbacks.model_summary.ModelSummary'>]. Skipping setting a default `ModelSummary` callback.\n"
     ]
    },
    {
     "name": "stdout",
     "output_type": "stream",
     "text": [
      "{'mean': 1.0902255639097744, 'std': 4.348465543234748, 'acc': 68.67167919799499, 'fail': 0.25, 'idx': 8, 'time': 0.04660463333129883}\n"
     ]
    },
    {
     "name": "stderr",
     "output_type": "stream",
     "text": [
      "GPU available: True (cuda), used: True\n",
      "TPU available: False, using: 0 TPU cores\n",
      "IPU available: False, using: 0 IPUs\n",
      "HPU available: False, using: 0 HPUs\n",
      "LOCAL_RANK: 0 - CUDA_VISIBLE_DEVICES: [0]\n",
      "c:\\Users\\James\\anaconda3\\lib\\site-packages\\pytorch_lightning\\trainer\\connectors\\data_connector.py:224: PossibleUserWarning: The dataloader, predict_dataloader 0, does not have many workers which may be a bottleneck. Consider increasing the value of the `num_workers` argument` (try 16 which is the number of cpus on this machine) in the `DataLoader` init to improve performance.\n",
      "  rank_zero_warn(\n"
     ]
    },
    {
     "data": {
      "application/vnd.jupyter.widget-view+json": {
       "model_id": "2cbe1b0387e2457bb1e339b74346061a",
       "version_major": 2,
       "version_minor": 0
      },
      "text/plain": [
       "Predicting: 0it [00:00, ?it/s]"
      ]
     },
     "metadata": {},
     "output_type": "display_data"
    },
    {
     "name": "stderr",
     "output_type": "stream",
     "text": [
      "Using 16bit native Automatic Mixed Precision (AMP)\n",
      "Trainer already configured with model summary callbacks: [<class 'pytorch_lightning.callbacks.model_summary.ModelSummary'>]. Skipping setting a default `ModelSummary` callback.\n"
     ]
    },
    {
     "name": "stdout",
     "output_type": "stream",
     "text": [
      "{'mean': 1.7277289836888332, 'std': 5.912146142210228, 'acc': 62.86072772898369, 'fail': 0.375, 'idx': 9, 'time': 4.322429895401001}\n"
     ]
    },
    {
     "name": "stderr",
     "output_type": "stream",
     "text": [
      "GPU available: True (cuda), used: True\n",
      "TPU available: False, using: 0 TPU cores\n",
      "IPU available: False, using: 0 IPUs\n",
      "HPU available: False, using: 0 HPUs\n",
      "LOCAL_RANK: 0 - CUDA_VISIBLE_DEVICES: [0]\n",
      "c:\\Users\\James\\anaconda3\\lib\\site-packages\\pytorch_lightning\\trainer\\connectors\\data_connector.py:224: PossibleUserWarning: The dataloader, predict_dataloader 0, does not have many workers which may be a bottleneck. Consider increasing the value of the `num_workers` argument` (try 16 which is the number of cpus on this machine) in the `DataLoader` init to improve performance.\n",
      "  rank_zero_warn(\n"
     ]
    },
    {
     "data": {
      "application/vnd.jupyter.widget-view+json": {
       "model_id": "88bdc83763b242b2bd4ceca5132d04b7",
       "version_major": 2,
       "version_minor": 0
      },
      "text/plain": [
       "Predicting: 0it [00:00, ?it/s]"
      ]
     },
     "metadata": {},
     "output_type": "display_data"
    },
    {
     "name": "stderr",
     "output_type": "stream",
     "text": [
      "Using 16bit native Automatic Mixed Precision (AMP)\n",
      "Trainer already configured with model summary callbacks: [<class 'pytorch_lightning.callbacks.model_summary.ModelSummary'>]. Skipping setting a default `ModelSummary` callback.\n",
      "GPU available: True (cuda), used: True\n",
      "TPU available: False, using: 0 TPU cores\n",
      "IPU available: False, using: 0 IPUs\n",
      "HPU available: False, using: 0 HPUs\n",
      "LOCAL_RANK: 0 - CUDA_VISIBLE_DEVICES: [0]\n"
     ]
    },
    {
     "name": "stdout",
     "output_type": "stream",
     "text": [
      "{'mean': 7.472074468085107, 'std': 14.707042275899418, 'acc': 33.244680851063826, 'fail': 6.0, 'idx': 10, 'time': 0.003004789352416992}\n"
     ]
    },
    {
     "name": "stderr",
     "output_type": "stream",
     "text": [
      "c:\\Users\\James\\anaconda3\\lib\\site-packages\\pytorch_lightning\\trainer\\connectors\\data_connector.py:224: PossibleUserWarning: The dataloader, predict_dataloader 0, does not have many workers which may be a bottleneck. Consider increasing the value of the `num_workers` argument` (try 16 which is the number of cpus on this machine) in the `DataLoader` init to improve performance.\n",
      "  rank_zero_warn(\n"
     ]
    },
    {
     "data": {
      "application/vnd.jupyter.widget-view+json": {
       "model_id": "54fd2d0dbc44474b93e22fa8b8de8153",
       "version_major": 2,
       "version_minor": 0
      },
      "text/plain": [
       "Predicting: 0it [00:00, ?it/s]"
      ]
     },
     "metadata": {},
     "output_type": "display_data"
    },
    {
     "name": "stderr",
     "output_type": "stream",
     "text": [
      "Using 16bit native Automatic Mixed Precision (AMP)\n",
      "Trainer already configured with model summary callbacks: [<class 'pytorch_lightning.callbacks.model_summary.ModelSummary'>]. Skipping setting a default `ModelSummary` callback.\n",
      "GPU available: True (cuda), used: True\n"
     ]
    },
    {
     "name": "stdout",
     "output_type": "stream",
     "text": [
      "{'mean': 4.9055627425614485, 'std': 12.415828173626103, 'acc': 46.57179818887451, 'fail': 3.375, 'idx': 11, 'time': 0.0035185813903808594}\n"
     ]
    },
    {
     "name": "stderr",
     "output_type": "stream",
     "text": [
      "TPU available: False, using: 0 TPU cores\n",
      "IPU available: False, using: 0 IPUs\n",
      "HPU available: False, using: 0 HPUs\n",
      "LOCAL_RANK: 0 - CUDA_VISIBLE_DEVICES: [0]\n",
      "c:\\Users\\James\\anaconda3\\lib\\site-packages\\pytorch_lightning\\trainer\\connectors\\data_connector.py:224: PossibleUserWarning: The dataloader, predict_dataloader 0, does not have many workers which may be a bottleneck. Consider increasing the value of the `num_workers` argument` (try 16 which is the number of cpus on this machine) in the `DataLoader` init to improve performance.\n",
      "  rank_zero_warn(\n"
     ]
    },
    {
     "data": {
      "application/vnd.jupyter.widget-view+json": {
       "model_id": "6d17333ed5024ba5afb839cc3bc47881",
       "version_major": 2,
       "version_minor": 0
      },
      "text/plain": [
       "Predicting: 0it [00:00, ?it/s]"
      ]
     },
     "metadata": {},
     "output_type": "display_data"
    },
    {
     "name": "stderr",
     "output_type": "stream",
     "text": [
      "Using 16bit native Automatic Mixed Precision (AMP)\n",
      "Trainer already configured with model summary callbacks: [<class 'pytorch_lightning.callbacks.model_summary.ModelSummary'>]. Skipping setting a default `ModelSummary` callback.\n",
      "GPU available: True (cuda), used: True\n"
     ]
    },
    {
     "name": "stdout",
     "output_type": "stream",
     "text": [
      "{'mean': 2.8430379746835444, 'std': 7.7554828876958215, 'acc': 53.79746835443038, 'fail': 1.25, 'idx': 12, 'time': 0.0040018558502197266}\n"
     ]
    },
    {
     "name": "stderr",
     "output_type": "stream",
     "text": [
      "TPU available: False, using: 0 TPU cores\n",
      "IPU available: False, using: 0 IPUs\n",
      "HPU available: False, using: 0 HPUs\n",
      "LOCAL_RANK: 0 - CUDA_VISIBLE_DEVICES: [0]\n",
      "c:\\Users\\James\\anaconda3\\lib\\site-packages\\pytorch_lightning\\trainer\\connectors\\data_connector.py:224: PossibleUserWarning: The dataloader, predict_dataloader 0, does not have many workers which may be a bottleneck. Consider increasing the value of the `num_workers` argument` (try 16 which is the number of cpus on this machine) in the `DataLoader` init to improve performance.\n",
      "  rank_zero_warn(\n"
     ]
    },
    {
     "data": {
      "application/vnd.jupyter.widget-view+json": {
       "model_id": "7c6d01f988d74e31b5848860e00ab6a5",
       "version_major": 2,
       "version_minor": 0
      },
      "text/plain": [
       "Predicting: 0it [00:00, ?it/s]"
      ]
     },
     "metadata": {},
     "output_type": "display_data"
    },
    {
     "name": "stderr",
     "output_type": "stream",
     "text": [
      "Using 16bit native Automatic Mixed Precision (AMP)\n",
      "Trainer already configured with model summary callbacks: [<class 'pytorch_lightning.callbacks.model_summary.ModelSummary'>]. Skipping setting a default `ModelSummary` callback.\n",
      "GPU available: True (cuda), used: True\n"
     ]
    },
    {
     "name": "stdout",
     "output_type": "stream",
     "text": [
      "{'mean': 2.0641509433962266, 'std': 5.899123514672925, 'acc': 57.23270440251572, 'fail': 0.625, 'idx': 13, 'time': 0.004523754119873047}\n"
     ]
    },
    {
     "name": "stderr",
     "output_type": "stream",
     "text": [
      "TPU available: False, using: 0 TPU cores\n",
      "IPU available: False, using: 0 IPUs\n",
      "HPU available: False, using: 0 HPUs\n",
      "LOCAL_RANK: 0 - CUDA_VISIBLE_DEVICES: [0]\n",
      "c:\\Users\\James\\anaconda3\\lib\\site-packages\\pytorch_lightning\\trainer\\connectors\\data_connector.py:224: PossibleUserWarning: The dataloader, predict_dataloader 0, does not have many workers which may be a bottleneck. Consider increasing the value of the `num_workers` argument` (try 16 which is the number of cpus on this machine) in the `DataLoader` init to improve performance.\n",
      "  rank_zero_warn(\n"
     ]
    },
    {
     "data": {
      "application/vnd.jupyter.widget-view+json": {
       "model_id": "09b684bcacfd488a85be2aa28cb0a21c",
       "version_major": 2,
       "version_minor": 0
      },
      "text/plain": [
       "Predicting: 0it [00:00, ?it/s]"
      ]
     },
     "metadata": {},
     "output_type": "display_data"
    },
    {
     "name": "stderr",
     "output_type": "stream",
     "text": [
      "Using 16bit native Automatic Mixed Precision (AMP)\n",
      "Trainer already configured with model summary callbacks: [<class 'pytorch_lightning.callbacks.model_summary.ModelSummary'>]. Skipping setting a default `ModelSummary` callback.\n",
      "GPU available: True (cuda), used: True\n"
     ]
    },
    {
     "name": "stdout",
     "output_type": "stream",
     "text": [
      "{'mean': 1.9520807061790668, 'std': 6.37125669015914, 'acc': 63.43001261034048, 'fail': 0.8750000000000001, 'idx': 14, 'time': 0.0075397491455078125}\n"
     ]
    },
    {
     "name": "stderr",
     "output_type": "stream",
     "text": [
      "TPU available: False, using: 0 TPU cores\n",
      "IPU available: False, using: 0 IPUs\n",
      "HPU available: False, using: 0 HPUs\n",
      "LOCAL_RANK: 0 - CUDA_VISIBLE_DEVICES: [0]\n",
      "c:\\Users\\James\\anaconda3\\lib\\site-packages\\pytorch_lightning\\trainer\\connectors\\data_connector.py:224: PossibleUserWarning: The dataloader, predict_dataloader 0, does not have many workers which may be a bottleneck. Consider increasing the value of the `num_workers` argument` (try 16 which is the number of cpus on this machine) in the `DataLoader` init to improve performance.\n",
      "  rank_zero_warn(\n"
     ]
    },
    {
     "data": {
      "application/vnd.jupyter.widget-view+json": {
       "model_id": "b39ed2e751454efd8449a1fc61465e68",
       "version_major": 2,
       "version_minor": 0
      },
      "text/plain": [
       "Predicting: 0it [00:00, ?it/s]"
      ]
     },
     "metadata": {},
     "output_type": "display_data"
    },
    {
     "name": "stderr",
     "output_type": "stream",
     "text": [
      "Using 16bit native Automatic Mixed Precision (AMP)\n",
      "Trainer already configured with model summary callbacks: [<class 'pytorch_lightning.callbacks.model_summary.ModelSummary'>]. Skipping setting a default `ModelSummary` callback.\n",
      "GPU available: True (cuda), used: True\n"
     ]
    },
    {
     "name": "stdout",
     "output_type": "stream",
     "text": [
      "{'mean': 1.5823899371069183, 'std': 5.097212638112887, 'acc': 63.14465408805031, 'fail': 0.625, 'idx': 15, 'time': 0.009523153305053711}\n"
     ]
    },
    {
     "name": "stderr",
     "output_type": "stream",
     "text": [
      "TPU available: False, using: 0 TPU cores\n",
      "IPU available: False, using: 0 IPUs\n",
      "HPU available: False, using: 0 HPUs\n",
      "LOCAL_RANK: 0 - CUDA_VISIBLE_DEVICES: [0]\n",
      "c:\\Users\\James\\anaconda3\\lib\\site-packages\\pytorch_lightning\\trainer\\connectors\\data_connector.py:224: PossibleUserWarning: The dataloader, predict_dataloader 0, does not have many workers which may be a bottleneck. Consider increasing the value of the `num_workers` argument` (try 16 which is the number of cpus on this machine) in the `DataLoader` init to improve performance.\n",
      "  rank_zero_warn(\n"
     ]
    },
    {
     "data": {
      "application/vnd.jupyter.widget-view+json": {
       "model_id": "1779ebaab9d44cd09ba7bc8b2a4ed5af",
       "version_major": 2,
       "version_minor": 0
      },
      "text/plain": [
       "Predicting: 0it [00:00, ?it/s]"
      ]
     },
     "metadata": {},
     "output_type": "display_data"
    },
    {
     "name": "stderr",
     "output_type": "stream",
     "text": [
      "Using 16bit native Automatic Mixed Precision (AMP)\n",
      "Trainer already configured with model summary callbacks: [<class 'pytorch_lightning.callbacks.model_summary.ModelSummary'>]. Skipping setting a default `ModelSummary` callback.\n",
      "GPU available: True (cuda), used: True\n"
     ]
    },
    {
     "name": "stdout",
     "output_type": "stream",
     "text": [
      "{'mean': 1.8083756345177664, 'std': 6.271973021688393, 'acc': 64.9746192893401, 'fail': 1.5, 'idx': 16, 'time': 0.01353144645690918}\n"
     ]
    },
    {
     "name": "stderr",
     "output_type": "stream",
     "text": [
      "TPU available: False, using: 0 TPU cores\n",
      "IPU available: False, using: 0 IPUs\n",
      "HPU available: False, using: 0 HPUs\n",
      "LOCAL_RANK: 0 - CUDA_VISIBLE_DEVICES: [0]\n",
      "c:\\Users\\James\\anaconda3\\lib\\site-packages\\pytorch_lightning\\trainer\\connectors\\data_connector.py:224: PossibleUserWarning: The dataloader, predict_dataloader 0, does not have many workers which may be a bottleneck. Consider increasing the value of the `num_workers` argument` (try 16 which is the number of cpus on this machine) in the `DataLoader` init to improve performance.\n",
      "  rank_zero_warn(\n"
     ]
    },
    {
     "data": {
      "application/vnd.jupyter.widget-view+json": {
       "model_id": "13470f1a42a243049987debf985dae6b",
       "version_major": 2,
       "version_minor": 0
      },
      "text/plain": [
       "Predicting: 0it [00:00, ?it/s]"
      ]
     },
     "metadata": {},
     "output_type": "display_data"
    },
    {
     "name": "stderr",
     "output_type": "stream",
     "text": [
      "Using 16bit native Automatic Mixed Precision (AMP)\n",
      "Trainer already configured with model summary callbacks: [<class 'pytorch_lightning.callbacks.model_summary.ModelSummary'>]. Skipping setting a default `ModelSummary` callback.\n",
      "GPU available: True (cuda), used: True\n"
     ]
    },
    {
     "name": "stdout",
     "output_type": "stream",
     "text": [
      "{'mean': 1.4591194968553458, 'std': 5.319883360858759, 'acc': 64.27672955974842, 'fail': 0.625, 'idx': 17, 'time': 0.008521556854248047}\n"
     ]
    },
    {
     "name": "stderr",
     "output_type": "stream",
     "text": [
      "TPU available: False, using: 0 TPU cores\n",
      "IPU available: False, using: 0 IPUs\n",
      "HPU available: False, using: 0 HPUs\n",
      "LOCAL_RANK: 0 - CUDA_VISIBLE_DEVICES: [0]\n",
      "c:\\Users\\James\\anaconda3\\lib\\site-packages\\pytorch_lightning\\trainer\\connectors\\data_connector.py:224: PossibleUserWarning: The dataloader, predict_dataloader 0, does not have many workers which may be a bottleneck. Consider increasing the value of the `num_workers` argument` (try 16 which is the number of cpus on this machine) in the `DataLoader` init to improve performance.\n",
      "  rank_zero_warn(\n"
     ]
    },
    {
     "data": {
      "application/vnd.jupyter.widget-view+json": {
       "model_id": "649db42bf8a34910ac2f009d35229dd5",
       "version_major": 2,
       "version_minor": 0
      },
      "text/plain": [
       "Predicting: 0it [00:00, ?it/s]"
      ]
     },
     "metadata": {},
     "output_type": "display_data"
    },
    {
     "name": "stderr",
     "output_type": "stream",
     "text": [
      "Using 16bit native Automatic Mixed Precision (AMP)\n",
      "Trainer already configured with model summary callbacks: [<class 'pytorch_lightning.callbacks.model_summary.ModelSummary'>]. Skipping setting a default `ModelSummary` callback.\n",
      "GPU available: True (cuda), used: True\n"
     ]
    },
    {
     "name": "stdout",
     "output_type": "stream",
     "text": [
      "{'mean': 3.8072445019404917, 'std': 9.723225381124637, 'acc': 49.159120310478656, 'fail': 3.375, 'idx': 18, 'time': 0.36591100692749023}\n"
     ]
    },
    {
     "name": "stderr",
     "output_type": "stream",
     "text": [
      "TPU available: False, using: 0 TPU cores\n",
      "IPU available: False, using: 0 IPUs\n",
      "HPU available: False, using: 0 HPUs\n",
      "LOCAL_RANK: 0 - CUDA_VISIBLE_DEVICES: [0]\n",
      "c:\\Users\\James\\anaconda3\\lib\\site-packages\\pytorch_lightning\\trainer\\connectors\\data_connector.py:224: PossibleUserWarning: The dataloader, predict_dataloader 0, does not have many workers which may be a bottleneck. Consider increasing the value of the `num_workers` argument` (try 16 which is the number of cpus on this machine) in the `DataLoader` init to improve performance.\n",
      "  rank_zero_warn(\n"
     ]
    },
    {
     "data": {
      "application/vnd.jupyter.widget-view+json": {
       "model_id": "89a8aa75dcb04486acf9a765e7d15b6d",
       "version_major": 2,
       "version_minor": 0
      },
      "text/plain": [
       "Predicting: 0it [00:00, ?it/s]"
      ]
     },
     "metadata": {},
     "output_type": "display_data"
    },
    {
     "name": "stderr",
     "output_type": "stream",
     "text": [
      "Using 16bit native Automatic Mixed Precision (AMP)\n",
      "Trainer already configured with model summary callbacks: [<class 'pytorch_lightning.callbacks.model_summary.ModelSummary'>]. Skipping setting a default `ModelSummary` callback.\n",
      "GPU available: True (cuda), used: True\n",
      "TPU available: False, using: 0 TPU cores\n",
      "IPU available: False, using: 0 IPUs\n",
      "HPU available: False, using: 0 HPUs\n"
     ]
    },
    {
     "name": "stdout",
     "output_type": "stream",
     "text": [
      "{'mean': 10.874822190611665, 'std': 18.1869141658089, 'acc': 29.72972972972973, 'fail': 12.125, 'idx': 19, 'time': 0.0020062923431396484}\n"
     ]
    },
    {
     "name": "stderr",
     "output_type": "stream",
     "text": [
      "LOCAL_RANK: 0 - CUDA_VISIBLE_DEVICES: [0]\n",
      "c:\\Users\\James\\anaconda3\\lib\\site-packages\\pytorch_lightning\\trainer\\connectors\\data_connector.py:224: PossibleUserWarning: The dataloader, predict_dataloader 0, does not have many workers which may be a bottleneck. Consider increasing the value of the `num_workers` argument` (try 16 which is the number of cpus on this machine) in the `DataLoader` init to improve performance.\n",
      "  rank_zero_warn(\n"
     ]
    },
    {
     "data": {
      "application/vnd.jupyter.widget-view+json": {
       "model_id": "8e6c6f2a8a154a3c8c990cabf98f2ae5",
       "version_major": 2,
       "version_minor": 0
      },
      "text/plain": [
       "Predicting: 0it [00:00, ?it/s]"
      ]
     },
     "metadata": {},
     "output_type": "display_data"
    },
    {
     "name": "stderr",
     "output_type": "stream",
     "text": [
      "Using 16bit native Automatic Mixed Precision (AMP)\n",
      "Trainer already configured with model summary callbacks: [<class 'pytorch_lightning.callbacks.model_summary.ModelSummary'>]. Skipping setting a default `ModelSummary` callback.\n",
      "GPU available: True (cuda), used: True\n"
     ]
    },
    {
     "name": "stdout",
     "output_type": "stream",
     "text": [
      "{'mean': 7.993351063829787, 'std': 16.02785834182753, 'acc': 35.1063829787234, 'fail': 6.0, 'idx': 20, 'time': 0.0020020008087158203}\n"
     ]
    },
    {
     "name": "stderr",
     "output_type": "stream",
     "text": [
      "TPU available: False, using: 0 TPU cores\n",
      "IPU available: False, using: 0 IPUs\n",
      "HPU available: False, using: 0 HPUs\n",
      "LOCAL_RANK: 0 - CUDA_VISIBLE_DEVICES: [0]\n",
      "c:\\Users\\James\\anaconda3\\lib\\site-packages\\pytorch_lightning\\trainer\\connectors\\data_connector.py:224: PossibleUserWarning: The dataloader, predict_dataloader 0, does not have many workers which may be a bottleneck. Consider increasing the value of the `num_workers` argument` (try 16 which is the number of cpus on this machine) in the `DataLoader` init to improve performance.\n",
      "  rank_zero_warn(\n"
     ]
    },
    {
     "data": {
      "application/vnd.jupyter.widget-view+json": {
       "model_id": "4f71b5d813c5405fae4980fd10249cb3",
       "version_major": 2,
       "version_minor": 0
      },
      "text/plain": [
       "Predicting: 0it [00:00, ?it/s]"
      ]
     },
     "metadata": {},
     "output_type": "display_data"
    },
    {
     "name": "stderr",
     "output_type": "stream",
     "text": [
      "Using 16bit native Automatic Mixed Precision (AMP)\n",
      "Trainer already configured with model summary callbacks: [<class 'pytorch_lightning.callbacks.model_summary.ModelSummary'>]. Skipping setting a default `ModelSummary` callback.\n",
      "GPU available: True (cuda), used: True\n",
      "TPU available: False, using: 0 TPU cores\n",
      "IPU available: False, using: 0 IPUs\n",
      "HPU available: False, using: 0 HPUs\n",
      "LOCAL_RANK: 0 - CUDA_VISIBLE_DEVICES: [0]\n"
     ]
    },
    {
     "name": "stdout",
     "output_type": "stream",
     "text": [
      "{'mean': 6.7175066312997345, 'std': 14.30210372537696, 'acc': 38.9920424403183, 'fail': 5.75, 'idx': 21, 'time': 0.0024902820587158203}\n"
     ]
    },
    {
     "name": "stderr",
     "output_type": "stream",
     "text": [
      "c:\\Users\\James\\anaconda3\\lib\\site-packages\\pytorch_lightning\\trainer\\connectors\\data_connector.py:224: PossibleUserWarning: The dataloader, predict_dataloader 0, does not have many workers which may be a bottleneck. Consider increasing the value of the `num_workers` argument` (try 16 which is the number of cpus on this machine) in the `DataLoader` init to improve performance.\n",
      "  rank_zero_warn(\n"
     ]
    },
    {
     "data": {
      "application/vnd.jupyter.widget-view+json": {
       "model_id": "287dc3df820e47fe8fbdc4ba94724dca",
       "version_major": 2,
       "version_minor": 0
      },
      "text/plain": [
       "Predicting: 0it [00:00, ?it/s]"
      ]
     },
     "metadata": {},
     "output_type": "display_data"
    },
    {
     "name": "stderr",
     "output_type": "stream",
     "text": [
      "Using 16bit native Automatic Mixed Precision (AMP)\n",
      "Trainer already configured with model summary callbacks: [<class 'pytorch_lightning.callbacks.model_summary.ModelSummary'>]. Skipping setting a default `ModelSummary` callback.\n",
      "GPU available: True (cuda), used: True\n"
     ]
    },
    {
     "name": "stdout",
     "output_type": "stream",
     "text": [
      "{'mean': 5.37109375, 'std': 12.753841245367777, 'acc': 44.66145833333333, 'fail': 4.0, 'idx': 22, 'time': 0.0029976367950439453}\n"
     ]
    },
    {
     "name": "stderr",
     "output_type": "stream",
     "text": [
      "TPU available: False, using: 0 TPU cores\n",
      "IPU available: False, using: 0 IPUs\n",
      "HPU available: False, using: 0 HPUs\n",
      "LOCAL_RANK: 0 - CUDA_VISIBLE_DEVICES: [0]\n",
      "c:\\Users\\James\\anaconda3\\lib\\site-packages\\pytorch_lightning\\trainer\\connectors\\data_connector.py:224: PossibleUserWarning: The dataloader, predict_dataloader 0, does not have many workers which may be a bottleneck. Consider increasing the value of the `num_workers` argument` (try 16 which is the number of cpus on this machine) in the `DataLoader` init to improve performance.\n",
      "  rank_zero_warn(\n"
     ]
    },
    {
     "data": {
      "application/vnd.jupyter.widget-view+json": {
       "model_id": "bf27522815e5416aa6c4914aefbee3cc",
       "version_major": 2,
       "version_minor": 0
      },
      "text/plain": [
       "Predicting: 0it [00:00, ?it/s]"
      ]
     },
     "metadata": {},
     "output_type": "display_data"
    },
    {
     "name": "stderr",
     "output_type": "stream",
     "text": [
      "Using 16bit native Automatic Mixed Precision (AMP)\n",
      "Trainer already configured with model summary callbacks: [<class 'pytorch_lightning.callbacks.model_summary.ModelSummary'>]. Skipping setting a default `ModelSummary` callback.\n",
      "GPU available: True (cuda), used: True\n",
      "TPU available: False, using: 0 TPU cores\n"
     ]
    },
    {
     "name": "stdout",
     "output_type": "stream",
     "text": [
      "{'mean': 4.723294723294723, 'std': 11.465325059503895, 'acc': 49.67824967824968, 'fail': 2.875, 'idx': 23, 'time': 0.004006862640380859}\n"
     ]
    },
    {
     "name": "stderr",
     "output_type": "stream",
     "text": [
      "IPU available: False, using: 0 IPUs\n",
      "HPU available: False, using: 0 HPUs\n",
      "LOCAL_RANK: 0 - CUDA_VISIBLE_DEVICES: [0]\n",
      "c:\\Users\\James\\anaconda3\\lib\\site-packages\\pytorch_lightning\\trainer\\connectors\\data_connector.py:224: PossibleUserWarning: The dataloader, predict_dataloader 0, does not have many workers which may be a bottleneck. Consider increasing the value of the `num_workers` argument` (try 16 which is the number of cpus on this machine) in the `DataLoader` init to improve performance.\n",
      "  rank_zero_warn(\n"
     ]
    },
    {
     "data": {
      "application/vnd.jupyter.widget-view+json": {
       "model_id": "bb0eaffd7af148be8180f0e8948ce7f6",
       "version_major": 2,
       "version_minor": 0
      },
      "text/plain": [
       "Predicting: 0it [00:00, ?it/s]"
      ]
     },
     "metadata": {},
     "output_type": "display_data"
    },
    {
     "name": "stderr",
     "output_type": "stream",
     "text": [
      "Using 16bit native Automatic Mixed Precision (AMP)\n",
      "Trainer already configured with model summary callbacks: [<class 'pytorch_lightning.callbacks.model_summary.ModelSummary'>]. Skipping setting a default `ModelSummary` callback.\n",
      "GPU available: True (cuda), used: True\n",
      "TPU available: False, using: 0 TPU cores\n",
      "IPU available: False, using: 0 IPUs\n",
      "HPU available: False, using: 0 HPUs\n",
      "LOCAL_RANK: 0 - CUDA_VISIBLE_DEVICES: [0]\n"
     ]
    },
    {
     "name": "stdout",
     "output_type": "stream",
     "text": [
      "{'mean': 4.2578125, 'std': 10.581341253113603, 'acc': 48.828125, 'fail': 4.0, 'idx': 24, 'time': 0.005005359649658203}\n"
     ]
    },
    {
     "name": "stderr",
     "output_type": "stream",
     "text": [
      "c:\\Users\\James\\anaconda3\\lib\\site-packages\\pytorch_lightning\\trainer\\connectors\\data_connector.py:224: PossibleUserWarning: The dataloader, predict_dataloader 0, does not have many workers which may be a bottleneck. Consider increasing the value of the `num_workers` argument` (try 16 which is the number of cpus on this machine) in the `DataLoader` init to improve performance.\n",
      "  rank_zero_warn(\n"
     ]
    },
    {
     "data": {
      "application/vnd.jupyter.widget-view+json": {
       "model_id": "4b14a9f258f34471ba2121a4efd7d74b",
       "version_major": 2,
       "version_minor": 0
      },
      "text/plain": [
       "Predicting: 0it [00:00, ?it/s]"
      ]
     },
     "metadata": {},
     "output_type": "display_data"
    },
    {
     "name": "stderr",
     "output_type": "stream",
     "text": [
      "Using 16bit native Automatic Mixed Precision (AMP)\n",
      "Trainer already configured with model summary callbacks: [<class 'pytorch_lightning.callbacks.model_summary.ModelSummary'>]. Skipping setting a default `ModelSummary` callback.\n",
      "GPU available: True (cuda), used: True\n"
     ]
    },
    {
     "name": "stdout",
     "output_type": "stream",
     "text": [
      "{'mean': 4.807040417209909, 'std': 11.15070650305492, 'acc': 45.63233376792699, 'fail': 4.125, 'idx': 25, 'time': 0.004517078399658203}\n"
     ]
    },
    {
     "name": "stderr",
     "output_type": "stream",
     "text": [
      "TPU available: False, using: 0 TPU cores\n",
      "IPU available: False, using: 0 IPUs\n",
      "HPU available: False, using: 0 HPUs\n",
      "LOCAL_RANK: 0 - CUDA_VISIBLE_DEVICES: [0]\n",
      "c:\\Users\\James\\anaconda3\\lib\\site-packages\\pytorch_lightning\\trainer\\connectors\\data_connector.py:224: PossibleUserWarning: The dataloader, predict_dataloader 0, does not have many workers which may be a bottleneck. Consider increasing the value of the `num_workers` argument` (try 16 which is the number of cpus on this machine) in the `DataLoader` init to improve performance.\n",
      "  rank_zero_warn(\n"
     ]
    },
    {
     "data": {
      "application/vnd.jupyter.widget-view+json": {
       "model_id": "3b0792d15e4e4d8b990da92e3ba56e1b",
       "version_major": 2,
       "version_minor": 0
      },
      "text/plain": [
       "Predicting: 0it [00:00, ?it/s]"
      ]
     },
     "metadata": {},
     "output_type": "display_data"
    },
    {
     "name": "stdout",
     "output_type": "stream",
     "text": [
      "{'mean': 4.404669260700389, 'std': 11.444658652010533, 'acc': 47.85992217898833, 'fail': 3.6249999999999996, 'idx': 26, 'time': 0.006064653396606445}\n"
     ]
    },
    {
     "name": "stderr",
     "output_type": "stream",
     "text": [
      "Using 16bit native Automatic Mixed Precision (AMP)\n",
      "Trainer already configured with model summary callbacks: [<class 'pytorch_lightning.callbacks.model_summary.ModelSummary'>]. Skipping setting a default `ModelSummary` callback.\n",
      "GPU available: True (cuda), used: True\n",
      "TPU available: False, using: 0 TPU cores\n",
      "IPU available: False, using: 0 IPUs\n",
      "HPU available: False, using: 0 HPUs\n",
      "LOCAL_RANK: 0 - CUDA_VISIBLE_DEVICES: [0]\n",
      "c:\\Users\\James\\anaconda3\\lib\\site-packages\\pytorch_lightning\\trainer\\connectors\\data_connector.py:224: PossibleUserWarning: The dataloader, predict_dataloader 0, does not have many workers which may be a bottleneck. Consider increasing the value of the `num_workers` argument` (try 16 which is the number of cpus on this machine) in the `DataLoader` init to improve performance.\n",
      "  rank_zero_warn(\n"
     ]
    },
    {
     "data": {
      "application/vnd.jupyter.widget-view+json": {
       "model_id": "97e600fd73114c93aeb37eadf8636ab7",
       "version_major": 2,
       "version_minor": 0
      },
      "text/plain": [
       "Predicting: 0it [00:00, ?it/s]"
      ]
     },
     "metadata": {},
     "output_type": "display_data"
    },
    {
     "name": "stdout",
     "output_type": "stream",
     "text": [
      "{'mean': 0.69, 'std': 2.041176131547692, 'acc': 72.125, 'fail': 0.0, 'idx': 27, 'time': 85.75858950614929}\n"
     ]
    },
    {
     "name": "stderr",
     "output_type": "stream",
     "text": [
      "Using 16bit native Automatic Mixed Precision (AMP)\n",
      "Trainer already configured with model summary callbacks: [<class 'pytorch_lightning.callbacks.model_summary.ModelSummary'>]. Skipping setting a default `ModelSummary` callback.\n",
      "GPU available: True (cuda), used: True\n",
      "TPU available: False, using: 0 TPU cores\n",
      "IPU available: False, using: 0 IPUs\n",
      "HPU available: False, using: 0 HPUs\n",
      "LOCAL_RANK: 0 - CUDA_VISIBLE_DEVICES: [0]\n",
      "c:\\Users\\James\\anaconda3\\lib\\site-packages\\pytorch_lightning\\trainer\\connectors\\data_connector.py:224: PossibleUserWarning: The dataloader, predict_dataloader 0, does not have many workers which may be a bottleneck. Consider increasing the value of the `num_workers` argument` (try 16 which is the number of cpus on this machine) in the `DataLoader` init to improve performance.\n",
      "  rank_zero_warn(\n"
     ]
    },
    {
     "data": {
      "application/vnd.jupyter.widget-view+json": {
       "model_id": "2a9736a85e784a37afdb83051dcc4433",
       "version_major": 2,
       "version_minor": 0
      },
      "text/plain": [
       "Predicting: 0it [00:00, ?it/s]"
      ]
     },
     "metadata": {},
     "output_type": "display_data"
    },
    {
     "name": "stdout",
     "output_type": "stream",
     "text": [
      "{'mean': 20.955932203389832, 'std': 24.991756411620543, 'acc': 16.101694915254235, 'fail': 26.25, 'idx': 28, 'time': 0.00500035285949707}\n"
     ]
    },
    {
     "name": "stderr",
     "output_type": "stream",
     "text": [
      "Using 16bit native Automatic Mixed Precision (AMP)\n",
      "Trainer already configured with model summary callbacks: [<class 'pytorch_lightning.callbacks.model_summary.ModelSummary'>]. Skipping setting a default `ModelSummary` callback.\n",
      "GPU available: True (cuda), used: True\n",
      "TPU available: False, using: 0 TPU cores\n",
      "IPU available: False, using: 0 IPUs\n",
      "HPU available: False, using: 0 HPUs\n",
      "LOCAL_RANK: 0 - CUDA_VISIBLE_DEVICES: [0]\n",
      "c:\\Users\\James\\anaconda3\\lib\\site-packages\\pytorch_lightning\\trainer\\connectors\\data_connector.py:224: PossibleUserWarning: The dataloader, predict_dataloader 0, does not have many workers which may be a bottleneck. Consider increasing the value of the `num_workers` argument` (try 16 which is the number of cpus on this machine) in the `DataLoader` init to improve performance.\n",
      "  rank_zero_warn(\n"
     ]
    },
    {
     "data": {
      "application/vnd.jupyter.widget-view+json": {
       "model_id": "c99c25d92c7f41528db04e0b3d1e0a9e",
       "version_major": 2,
       "version_minor": 0
      },
      "text/plain": [
       "Predicting: 0it [00:00, ?it/s]"
      ]
     },
     "metadata": {},
     "output_type": "display_data"
    },
    {
     "name": "stdout",
     "output_type": "stream",
     "text": [
      "{'mean': 14.332417582417582, 'std': 20.62590507321706, 'acc': 21.84065934065934, 'fail': 9.0, 'idx': 29, 'time': 0.006052494049072266}\n"
     ]
    },
    {
     "name": "stderr",
     "output_type": "stream",
     "text": [
      "Using 16bit native Automatic Mixed Precision (AMP)\n",
      "Trainer already configured with model summary callbacks: [<class 'pytorch_lightning.callbacks.model_summary.ModelSummary'>]. Skipping setting a default `ModelSummary` callback.\n",
      "GPU available: True (cuda), used: True\n",
      "TPU available: False, using: 0 TPU cores\n",
      "IPU available: False, using: 0 IPUs\n",
      "HPU available: False, using: 0 HPUs\n",
      "LOCAL_RANK: 0 - CUDA_VISIBLE_DEVICES: [0]\n",
      "c:\\Users\\James\\anaconda3\\lib\\site-packages\\pytorch_lightning\\trainer\\connectors\\data_connector.py:224: PossibleUserWarning: The dataloader, predict_dataloader 0, does not have many workers which may be a bottleneck. Consider increasing the value of the `num_workers` argument` (try 16 which is the number of cpus on this machine) in the `DataLoader` init to improve performance.\n",
      "  rank_zero_warn(\n"
     ]
    },
    {
     "data": {
      "application/vnd.jupyter.widget-view+json": {
       "model_id": "cc50be8c58054380bd5185cfa196c71f",
       "version_major": 2,
       "version_minor": 0
      },
      "text/plain": [
       "Predicting: 0it [00:00, ?it/s]"
      ]
     },
     "metadata": {},
     "output_type": "display_data"
    },
    {
     "name": "stdout",
     "output_type": "stream",
     "text": [
      "{'mean': 6.175483870967742, 'std': 12.758305792751356, 'acc': 37.67741935483871, 'fail': 3.125, 'idx': 30, 'time': 0.008505821228027344}\n"
     ]
    },
    {
     "name": "stderr",
     "output_type": "stream",
     "text": [
      "Using 16bit native Automatic Mixed Precision (AMP)\n",
      "Trainer already configured with model summary callbacks: [<class 'pytorch_lightning.callbacks.model_summary.ModelSummary'>]. Skipping setting a default `ModelSummary` callback.\n",
      "GPU available: True (cuda), used: True\n",
      "TPU available: False, using: 0 TPU cores\n",
      "IPU available: False, using: 0 IPUs\n",
      "HPU available: False, using: 0 HPUs\n",
      "LOCAL_RANK: 0 - CUDA_VISIBLE_DEVICES: [0]\n",
      "c:\\Users\\James\\anaconda3\\lib\\site-packages\\pytorch_lightning\\trainer\\connectors\\data_connector.py:224: PossibleUserWarning: The dataloader, predict_dataloader 0, does not have many workers which may be a bottleneck. Consider increasing the value of the `num_workers` argument` (try 16 which is the number of cpus on this machine) in the `DataLoader` init to improve performance.\n",
      "  rank_zero_warn(\n"
     ]
    },
    {
     "data": {
      "application/vnd.jupyter.widget-view+json": {
       "model_id": "34188b4dccac49dbbb7fcee7851a4516",
       "version_major": 2,
       "version_minor": 0
      },
      "text/plain": [
       "Predicting: 0it [00:00, ?it/s]"
      ]
     },
     "metadata": {},
     "output_type": "display_data"
    },
    {
     "name": "stdout",
     "output_type": "stream",
     "text": [
      "{'mean': 3.6670886075949367, 'std': 8.228035148798904, 'acc': 43.291139240506325, 'fail': 1.25, 'idx': 31, 'time': 0.010430574417114258}\n"
     ]
    },
    {
     "name": "stderr",
     "output_type": "stream",
     "text": [
      "Using 16bit native Automatic Mixed Precision (AMP)\n",
      "Trainer already configured with model summary callbacks: [<class 'pytorch_lightning.callbacks.model_summary.ModelSummary'>]. Skipping setting a default `ModelSummary` callback.\n",
      "GPU available: True (cuda), used: True\n",
      "TPU available: False, using: 0 TPU cores\n",
      "IPU available: False, using: 0 IPUs\n",
      "HPU available: False, using: 0 HPUs\n",
      "LOCAL_RANK: 0 - CUDA_VISIBLE_DEVICES: [0]\n",
      "c:\\Users\\James\\anaconda3\\lib\\site-packages\\pytorch_lightning\\trainer\\connectors\\data_connector.py:224: PossibleUserWarning: The dataloader, predict_dataloader 0, does not have many workers which may be a bottleneck. Consider increasing the value of the `num_workers` argument` (try 16 which is the number of cpus on this machine) in the `DataLoader` init to improve performance.\n",
      "  rank_zero_warn(\n"
     ]
    },
    {
     "data": {
      "application/vnd.jupyter.widget-view+json": {
       "model_id": "9edc65b7e50d436fb015dfd2505ac2bd",
       "version_major": 2,
       "version_minor": 0
      },
      "text/plain": [
       "Predicting: 0it [00:00, ?it/s]"
      ]
     },
     "metadata": {},
     "output_type": "display_data"
    },
    {
     "name": "stdout",
     "output_type": "stream",
     "text": [
      "{'mean': 1.21125, 'std': 3.225929856258502, 'acc': 63.625, 'fail': 0.0, 'idx': 32, 'time': 0.029563188552856445}\n"
     ]
    },
    {
     "name": "stderr",
     "output_type": "stream",
     "text": [
      "Using 16bit native Automatic Mixed Precision (AMP)\n",
      "Trainer already configured with model summary callbacks: [<class 'pytorch_lightning.callbacks.model_summary.ModelSummary'>]. Skipping setting a default `ModelSummary` callback.\n",
      "GPU available: True (cuda), used: True\n",
      "TPU available: False, using: 0 TPU cores\n",
      "IPU available: False, using: 0 IPUs\n",
      "HPU available: False, using: 0 HPUs\n",
      "LOCAL_RANK: 0 - CUDA_VISIBLE_DEVICES: [0]\n",
      "c:\\Users\\James\\anaconda3\\lib\\site-packages\\pytorch_lightning\\trainer\\connectors\\data_connector.py:224: PossibleUserWarning: The dataloader, predict_dataloader 0, does not have many workers which may be a bottleneck. Consider increasing the value of the `num_workers` argument` (try 16 which is the number of cpus on this machine) in the `DataLoader` init to improve performance.\n",
      "  rank_zero_warn(\n"
     ]
    },
    {
     "data": {
      "application/vnd.jupyter.widget-view+json": {
       "model_id": "91857a7054504dc8b9f965820a19fdc9",
       "version_major": 2,
       "version_minor": 0
      },
      "text/plain": [
       "Predicting: 0it [00:00, ?it/s]"
      ]
     },
     "metadata": {},
     "output_type": "display_data"
    },
    {
     "name": "stdout",
     "output_type": "stream",
     "text": [
      "{'mean': 1.2731829573934836, 'std': 3.103972334726446, 'acc': 62.531328320802004, 'fail': 0.25, 'idx': 33, 'time': 0.02330946922302246}\n"
     ]
    },
    {
     "name": "stderr",
     "output_type": "stream",
     "text": [
      "Using 16bit native Automatic Mixed Precision (AMP)\n",
      "Trainer already configured with model summary callbacks: [<class 'pytorch_lightning.callbacks.model_summary.ModelSummary'>]. Skipping setting a default `ModelSummary` callback.\n",
      "GPU available: True (cuda), used: True\n",
      "TPU available: False, using: 0 TPU cores\n",
      "IPU available: False, using: 0 IPUs\n",
      "HPU available: False, using: 0 HPUs\n",
      "LOCAL_RANK: 0 - CUDA_VISIBLE_DEVICES: [0]\n",
      "c:\\Users\\James\\anaconda3\\lib\\site-packages\\pytorch_lightning\\trainer\\connectors\\data_connector.py:224: PossibleUserWarning: The dataloader, predict_dataloader 0, does not have many workers which may be a bottleneck. Consider increasing the value of the `num_workers` argument` (try 16 which is the number of cpus on this machine) in the `DataLoader` init to improve performance.\n",
      "  rank_zero_warn(\n"
     ]
    },
    {
     "data": {
      "application/vnd.jupyter.widget-view+json": {
       "model_id": "127de5dc4fa14ec1954611b263ac3514",
       "version_major": 2,
       "version_minor": 0
      },
      "text/plain": [
       "Predicting: 0it [00:00, ?it/s]"
      ]
     },
     "metadata": {},
     "output_type": "display_data"
    },
    {
     "name": "stdout",
     "output_type": "stream",
     "text": [
      "{'mean': 1.4593241551939924, 'std': 3.874829405594242, 'acc': 62.3279098873592, 'fail': 0.125, 'idx': 34, 'time': 0.028567075729370117}\n"
     ]
    },
    {
     "name": "stderr",
     "output_type": "stream",
     "text": [
      "Using 16bit native Automatic Mixed Precision (AMP)\n",
      "Trainer already configured with model summary callbacks: [<class 'pytorch_lightning.callbacks.model_summary.ModelSummary'>]. Skipping setting a default `ModelSummary` callback.\n",
      "GPU available: True (cuda), used: True\n",
      "TPU available: False, using: 0 TPU cores\n",
      "IPU available: False, using: 0 IPUs\n",
      "HPU available: False, using: 0 HPUs\n",
      "LOCAL_RANK: 0 - CUDA_VISIBLE_DEVICES: [0]\n",
      "c:\\Users\\James\\anaconda3\\lib\\site-packages\\pytorch_lightning\\trainer\\connectors\\data_connector.py:224: PossibleUserWarning: The dataloader, predict_dataloader 0, does not have many workers which may be a bottleneck. Consider increasing the value of the `num_workers` argument` (try 16 which is the number of cpus on this machine) in the `DataLoader` init to improve performance.\n",
      "  rank_zero_warn(\n"
     ]
    },
    {
     "data": {
      "application/vnd.jupyter.widget-view+json": {
       "model_id": "8615161a34a54a59ab1b67ebad0c3e71",
       "version_major": 2,
       "version_minor": 0
      },
      "text/plain": [
       "Predicting: 0it [00:00, ?it/s]"
      ]
     },
     "metadata": {},
     "output_type": "display_data"
    },
    {
     "name": "stdout",
     "output_type": "stream",
     "text": [
      "{'mean': 1.5056320400500627, 'std': 3.991813377065788, 'acc': 63.20400500625782, 'fail': 0.125, 'idx': 35, 'time': 0.030066251754760742}\n"
     ]
    },
    {
     "name": "stderr",
     "output_type": "stream",
     "text": [
      "Using 16bit native Automatic Mixed Precision (AMP)\n",
      "Trainer already configured with model summary callbacks: [<class 'pytorch_lightning.callbacks.model_summary.ModelSummary'>]. Skipping setting a default `ModelSummary` callback.\n",
      "GPU available: True (cuda), used: True\n",
      "TPU available: False, using: 0 TPU cores\n",
      "IPU available: False, using: 0 IPUs\n",
      "HPU available: False, using: 0 HPUs\n",
      "LOCAL_RANK: 0 - CUDA_VISIBLE_DEVICES: [0]\n",
      "c:\\Users\\James\\anaconda3\\lib\\site-packages\\pytorch_lightning\\trainer\\connectors\\data_connector.py:224: PossibleUserWarning: The dataloader, predict_dataloader 0, does not have many workers which may be a bottleneck. Consider increasing the value of the `num_workers` argument` (try 16 which is the number of cpus on this machine) in the `DataLoader` init to improve performance.\n",
      "  rank_zero_warn(\n"
     ]
    },
    {
     "data": {
      "application/vnd.jupyter.widget-view+json": {
       "model_id": "25d1ef8639004a418fd9c917804d7e01",
       "version_major": 2,
       "version_minor": 0
      },
      "text/plain": [
       "Predicting: 0it [00:00, ?it/s]"
      ]
     },
     "metadata": {},
     "output_type": "display_data"
    },
    {
     "name": "stdout",
     "output_type": "stream",
     "text": [
      "{'mean': 7.295483870967742, 'std': 14.191652893959994, 'acc': 39.225806451612904, 'fail': 3.125, 'idx': 36, 'time': 47.60998511314392}\n"
     ]
    },
    {
     "name": "stderr",
     "output_type": "stream",
     "text": [
      "Using 16bit native Automatic Mixed Precision (AMP)\n",
      "Trainer already configured with model summary callbacks: [<class 'pytorch_lightning.callbacks.model_summary.ModelSummary'>]. Skipping setting a default `ModelSummary` callback.\n",
      "GPU available: True (cuda), used: True\n",
      "TPU available: False, using: 0 TPU cores\n",
      "IPU available: False, using: 0 IPUs\n",
      "HPU available: False, using: 0 HPUs\n",
      "LOCAL_RANK: 0 - CUDA_VISIBLE_DEVICES: [0]\n",
      "c:\\Users\\James\\anaconda3\\lib\\site-packages\\pytorch_lightning\\trainer\\connectors\\data_connector.py:224: PossibleUserWarning: The dataloader, predict_dataloader 0, does not have many workers which may be a bottleneck. Consider increasing the value of the `num_workers` argument` (try 16 which is the number of cpus on this machine) in the `DataLoader` init to improve performance.\n",
      "  rank_zero_warn(\n"
     ]
    },
    {
     "data": {
      "application/vnd.jupyter.widget-view+json": {
       "model_id": "999f390ba4384a5e9f4699a336dde04c",
       "version_major": 2,
       "version_minor": 0
      },
      "text/plain": [
       "Predicting: 0it [00:00, ?it/s]"
      ]
     },
     "metadata": {},
     "output_type": "display_data"
    },
    {
     "name": "stdout",
     "output_type": "stream",
     "text": [
      "{'mean': 23.302272727272726, 'std': 27.146186645276078, 'acc': 15.909090909090908, 'fail': 45.0, 'idx': 37, 'time': 0.004004716873168945}\n"
     ]
    },
    {
     "name": "stderr",
     "output_type": "stream",
     "text": [
      "Using 16bit native Automatic Mixed Precision (AMP)\n",
      "Trainer already configured with model summary callbacks: [<class 'pytorch_lightning.callbacks.model_summary.ModelSummary'>]. Skipping setting a default `ModelSummary` callback.\n",
      "GPU available: True (cuda), used: True\n",
      "TPU available: False, using: 0 TPU cores\n",
      "IPU available: False, using: 0 IPUs\n",
      "HPU available: False, using: 0 HPUs\n",
      "LOCAL_RANK: 0 - CUDA_VISIBLE_DEVICES: [0]\n",
      "c:\\Users\\James\\anaconda3\\lib\\site-packages\\pytorch_lightning\\trainer\\connectors\\data_connector.py:224: PossibleUserWarning: The dataloader, predict_dataloader 0, does not have many workers which may be a bottleneck. Consider increasing the value of the `num_workers` argument` (try 16 which is the number of cpus on this machine) in the `DataLoader` init to improve performance.\n",
      "  rank_zero_warn(\n"
     ]
    },
    {
     "data": {
      "application/vnd.jupyter.widget-view+json": {
       "model_id": "56b4bfa5125246c9b437256596702bba",
       "version_major": 2,
       "version_minor": 0
      },
      "text/plain": [
       "Predicting: 0it [00:00, ?it/s]"
      ]
     },
     "metadata": {},
     "output_type": "display_data"
    },
    {
     "name": "stdout",
     "output_type": "stream",
     "text": [
      "{'mean': 18.64051094890511, 'std': 24.145626489512505, 'acc': 18.795620437956202, 'fail': 31.5, 'idx': 38, 'time': 0.0050084590911865234}\n"
     ]
    },
    {
     "name": "stderr",
     "output_type": "stream",
     "text": [
      "Using 16bit native Automatic Mixed Precision (AMP)\n",
      "Trainer already configured with model summary callbacks: [<class 'pytorch_lightning.callbacks.model_summary.ModelSummary'>]. Skipping setting a default `ModelSummary` callback.\n",
      "GPU available: True (cuda), used: True\n",
      "TPU available: False, using: 0 TPU cores\n",
      "IPU available: False, using: 0 IPUs\n",
      "HPU available: False, using: 0 HPUs\n",
      "LOCAL_RANK: 0 - CUDA_VISIBLE_DEVICES: [0]\n",
      "c:\\Users\\James\\anaconda3\\lib\\site-packages\\pytorch_lightning\\trainer\\connectors\\data_connector.py:224: PossibleUserWarning: The dataloader, predict_dataloader 0, does not have many workers which may be a bottleneck. Consider increasing the value of the `num_workers` argument` (try 16 which is the number of cpus on this machine) in the `DataLoader` init to improve performance.\n",
      "  rank_zero_warn(\n"
     ]
    },
    {
     "data": {
      "application/vnd.jupyter.widget-view+json": {
       "model_id": "e55270dbccd34de7bc62e86b3116ac93",
       "version_major": 2,
       "version_minor": 0
      },
      "text/plain": [
       "Predicting: 0it [00:00, ?it/s]"
      ]
     },
     "metadata": {},
     "output_type": "display_data"
    },
    {
     "name": "stdout",
     "output_type": "stream",
     "text": [
      "{'mean': 14.109970674486803, 'std': 21.996692373302604, 'acc': 26.392961876832842, 'fail': 14.75, 'idx': 39, 'time': 0.006507396697998047}\n"
     ]
    },
    {
     "name": "stderr",
     "output_type": "stream",
     "text": [
      "Using 16bit native Automatic Mixed Precision (AMP)\n",
      "Trainer already configured with model summary callbacks: [<class 'pytorch_lightning.callbacks.model_summary.ModelSummary'>]. Skipping setting a default `ModelSummary` callback.\n",
      "GPU available: True (cuda), used: True\n",
      "TPU available: False, using: 0 TPU cores\n",
      "IPU available: False, using: 0 IPUs\n",
      "HPU available: False, using: 0 HPUs\n",
      "LOCAL_RANK: 0 - CUDA_VISIBLE_DEVICES: [0]\n",
      "c:\\Users\\James\\anaconda3\\lib\\site-packages\\pytorch_lightning\\trainer\\connectors\\data_connector.py:224: PossibleUserWarning: The dataloader, predict_dataloader 0, does not have many workers which may be a bottleneck. Consider increasing the value of the `num_workers` argument` (try 16 which is the number of cpus on this machine) in the `DataLoader` init to improve performance.\n",
      "  rank_zero_warn(\n"
     ]
    },
    {
     "data": {
      "application/vnd.jupyter.widget-view+json": {
       "model_id": "6e4d6efdd2ce42f880378b1555f83638",
       "version_major": 2,
       "version_minor": 0
      },
      "text/plain": [
       "Predicting: 0it [00:00, ?it/s]"
      ]
     },
     "metadata": {},
     "output_type": "display_data"
    },
    {
     "name": "stdout",
     "output_type": "stream",
     "text": [
      "{'mean': 11.714685314685315, 'std': 19.575273249767704, 'acc': 31.18881118881119, 'fail': 10.625, 'idx': 40, 'time': 0.007515907287597656}\n"
     ]
    },
    {
     "name": "stderr",
     "output_type": "stream",
     "text": [
      "Using 16bit native Automatic Mixed Precision (AMP)\n",
      "Trainer already configured with model summary callbacks: [<class 'pytorch_lightning.callbacks.model_summary.ModelSummary'>]. Skipping setting a default `ModelSummary` callback.\n",
      "GPU available: True (cuda), used: True\n",
      "TPU available: False, using: 0 TPU cores\n",
      "IPU available: False, using: 0 IPUs\n",
      "HPU available: False, using: 0 HPUs\n",
      "LOCAL_RANK: 0 - CUDA_VISIBLE_DEVICES: [0]\n",
      "c:\\Users\\James\\anaconda3\\lib\\site-packages\\pytorch_lightning\\trainer\\connectors\\data_connector.py:224: PossibleUserWarning: The dataloader, predict_dataloader 0, does not have many workers which may be a bottleneck. Consider increasing the value of the `num_workers` argument` (try 16 which is the number of cpus on this machine) in the `DataLoader` init to improve performance.\n",
      "  rank_zero_warn(\n"
     ]
    },
    {
     "data": {
      "application/vnd.jupyter.widget-view+json": {
       "model_id": "33495ad98e6f4f62944bf6459605fdc2",
       "version_major": 2,
       "version_minor": 0
      },
      "text/plain": [
       "Predicting: 0it [00:00, ?it/s]"
      ]
     },
     "metadata": {},
     "output_type": "display_data"
    },
    {
     "name": "stdout",
     "output_type": "stream",
     "text": [
      "{'mean': 8.906455862977602, 'std': 16.737387179599764, 'acc': 34.78260869565217, 'fail': 5.125, 'idx': 41, 'time': 0.019698619842529297}\n"
     ]
    },
    {
     "name": "stderr",
     "output_type": "stream",
     "text": [
      "Using 16bit native Automatic Mixed Precision (AMP)\n",
      "Trainer already configured with model summary callbacks: [<class 'pytorch_lightning.callbacks.model_summary.ModelSummary'>]. Skipping setting a default `ModelSummary` callback.\n",
      "GPU available: True (cuda), used: True\n",
      "TPU available: False, using: 0 TPU cores\n",
      "IPU available: False, using: 0 IPUs\n",
      "HPU available: False, using: 0 HPUs\n",
      "LOCAL_RANK: 0 - CUDA_VISIBLE_DEVICES: [0]\n",
      "c:\\Users\\James\\anaconda3\\lib\\site-packages\\pytorch_lightning\\trainer\\connectors\\data_connector.py:224: PossibleUserWarning: The dataloader, predict_dataloader 0, does not have many workers which may be a bottleneck. Consider increasing the value of the `num_workers` argument` (try 16 which is the number of cpus on this machine) in the `DataLoader` init to improve performance.\n",
      "  rank_zero_warn(\n"
     ]
    },
    {
     "data": {
      "application/vnd.jupyter.widget-view+json": {
       "model_id": "4a83d35ac48f417aa40678385eae28fb",
       "version_major": 2,
       "version_minor": 0
      },
      "text/plain": [
       "Predicting: 0it [00:00, ?it/s]"
      ]
     },
     "metadata": {},
     "output_type": "display_data"
    },
    {
     "name": "stdout",
     "output_type": "stream",
     "text": [
      "{'mean': 9.67871485943775, 'std': 17.40481443981591, 'acc': 33.86880856760375, 'fail': 6.625, 'idx': 42, 'time': 0.01903223991394043}\n"
     ]
    },
    {
     "name": "stderr",
     "output_type": "stream",
     "text": [
      "Using 16bit native Automatic Mixed Precision (AMP)\n",
      "Trainer already configured with model summary callbacks: [<class 'pytorch_lightning.callbacks.model_summary.ModelSummary'>]. Skipping setting a default `ModelSummary` callback.\n",
      "GPU available: True (cuda), used: True\n",
      "TPU available: False, using: 0 TPU cores\n",
      "IPU available: False, using: 0 IPUs\n",
      "HPU available: False, using: 0 HPUs\n",
      "LOCAL_RANK: 0 - CUDA_VISIBLE_DEVICES: [0]\n",
      "c:\\Users\\James\\anaconda3\\lib\\site-packages\\pytorch_lightning\\trainer\\connectors\\data_connector.py:224: PossibleUserWarning: The dataloader, predict_dataloader 0, does not have many workers which may be a bottleneck. Consider increasing the value of the `num_workers` argument` (try 16 which is the number of cpus on this machine) in the `DataLoader` init to improve performance.\n",
      "  rank_zero_warn(\n"
     ]
    },
    {
     "data": {
      "application/vnd.jupyter.widget-view+json": {
       "model_id": "a5c6d58e06004b85950b51354d2da1a4",
       "version_major": 2,
       "version_minor": 0
      },
      "text/plain": [
       "Predicting: 0it [00:00, ?it/s]"
      ]
     },
     "metadata": {},
     "output_type": "display_data"
    },
    {
     "name": "stdout",
     "output_type": "stream",
     "text": [
      "{'mean': 8.517333333333333, 'std': 15.785025590378016, 'acc': 36.4, 'fail': 6.25, 'idx': 43, 'time': 0.01756572723388672}\n"
     ]
    },
    {
     "name": "stderr",
     "output_type": "stream",
     "text": [
      "Using 16bit native Automatic Mixed Precision (AMP)\n",
      "Trainer already configured with model summary callbacks: [<class 'pytorch_lightning.callbacks.model_summary.ModelSummary'>]. Skipping setting a default `ModelSummary` callback.\n",
      "GPU available: True (cuda), used: True\n",
      "TPU available: False, using: 0 TPU cores\n",
      "IPU available: False, using: 0 IPUs\n",
      "HPU available: False, using: 0 HPUs\n",
      "LOCAL_RANK: 0 - CUDA_VISIBLE_DEVICES: [0]\n",
      "c:\\Users\\James\\anaconda3\\lib\\site-packages\\pytorch_lightning\\trainer\\connectors\\data_connector.py:224: PossibleUserWarning: The dataloader, predict_dataloader 0, does not have many workers which may be a bottleneck. Consider increasing the value of the `num_workers` argument` (try 16 which is the number of cpus on this machine) in the `DataLoader` init to improve performance.\n",
      "  rank_zero_warn(\n"
     ]
    },
    {
     "data": {
      "application/vnd.jupyter.widget-view+json": {
       "model_id": "bad98b39a8da41eca70e7784199cc617",
       "version_major": 2,
       "version_minor": 0
      },
      "text/plain": [
       "Predicting: 0it [00:00, ?it/s]"
      ]
     },
     "metadata": {},
     "output_type": "display_data"
    },
    {
     "name": "stdout",
     "output_type": "stream",
     "text": [
      "{'mean': 8.913101604278076, 'std': 16.917831920908633, 'acc': 34.22459893048128, 'fail': 6.5, 'idx': 44, 'time': 0.018038034439086914}\n"
     ]
    },
    {
     "name": "stderr",
     "output_type": "stream",
     "text": [
      "Using 16bit native Automatic Mixed Precision (AMP)\n",
      "Trainer already configured with model summary callbacks: [<class 'pytorch_lightning.callbacks.model_summary.ModelSummary'>]. Skipping setting a default `ModelSummary` callback.\n",
      "GPU available: True (cuda), used: True\n",
      "TPU available: False, using: 0 TPU cores\n",
      "IPU available: False, using: 0 IPUs\n",
      "HPU available: False, using: 0 HPUs\n",
      "LOCAL_RANK: 0 - CUDA_VISIBLE_DEVICES: [0]\n",
      "c:\\Users\\James\\anaconda3\\lib\\site-packages\\pytorch_lightning\\trainer\\connectors\\data_connector.py:224: PossibleUserWarning: The dataloader, predict_dataloader 0, does not have many workers which may be a bottleneck. Consider increasing the value of the `num_workers` argument` (try 16 which is the number of cpus on this machine) in the `DataLoader` init to improve performance.\n",
      "  rank_zero_warn(\n"
     ]
    },
    {
     "data": {
      "application/vnd.jupyter.widget-view+json": {
       "model_id": "3a03305fca784fa68f85e4aa3b30b053",
       "version_major": 2,
       "version_minor": 0
      },
      "text/plain": [
       "Predicting: 0it [00:00, ?it/s]"
      ]
     },
     "metadata": {},
     "output_type": "display_data"
    },
    {
     "name": "stdout",
     "output_type": "stream",
     "text": [
      "{'mean': 12.476858345021038, 'std': 20.078662561790726, 'acc': 30.15427769985975, 'fail': 10.875, 'idx': 45, 'time': 14.014236688613892}\n"
     ]
    },
    {
     "name": "stderr",
     "output_type": "stream",
     "text": [
      "Using 16bit native Automatic Mixed Precision (AMP)\n",
      "Trainer already configured with model summary callbacks: [<class 'pytorch_lightning.callbacks.model_summary.ModelSummary'>]. Skipping setting a default `ModelSummary` callback.\n",
      "GPU available: True (cuda), used: True\n",
      "TPU available: False, using: 0 TPU cores\n",
      "IPU available: False, using: 0 IPUs\n",
      "HPU available: False, using: 0 HPUs\n",
      "LOCAL_RANK: 0 - CUDA_VISIBLE_DEVICES: [0]\n",
      "c:\\Users\\James\\anaconda3\\lib\\site-packages\\pytorch_lightning\\trainer\\connectors\\data_connector.py:224: PossibleUserWarning: The dataloader, predict_dataloader 0, does not have many workers which may be a bottleneck. Consider increasing the value of the `num_workers` argument` (try 16 which is the number of cpus on this machine) in the `DataLoader` init to improve performance.\n",
      "  rank_zero_warn(\n"
     ]
    },
    {
     "data": {
      "application/vnd.jupyter.widget-view+json": {
       "model_id": "44a55746a98e4957b565524250bf57ec",
       "version_major": 2,
       "version_minor": 0
      },
      "text/plain": [
       "Predicting: 0it [00:00, ?it/s]"
      ]
     },
     "metadata": {},
     "output_type": "display_data"
    },
    {
     "name": "stdout",
     "output_type": "stream",
     "text": [
      "{'mean': 23.437340153452684, 'std': 26.768793853721107, 'acc': 15.34526854219949, 'fail': 51.125, 'idx': 46, 'time': 0.004256486892700195}\n"
     ]
    },
    {
     "name": "stderr",
     "output_type": "stream",
     "text": [
      "Using 16bit native Automatic Mixed Precision (AMP)\n",
      "Trainer already configured with model summary callbacks: [<class 'pytorch_lightning.callbacks.model_summary.ModelSummary'>]. Skipping setting a default `ModelSummary` callback.\n",
      "GPU available: True (cuda), used: True\n",
      "TPU available: False, using: 0 TPU cores\n",
      "IPU available: False, using: 0 IPUs\n",
      "HPU available: False, using: 0 HPUs\n",
      "LOCAL_RANK: 0 - CUDA_VISIBLE_DEVICES: [0]\n",
      "c:\\Users\\James\\anaconda3\\lib\\site-packages\\pytorch_lightning\\trainer\\connectors\\data_connector.py:224: PossibleUserWarning: The dataloader, predict_dataloader 0, does not have many workers which may be a bottleneck. Consider increasing the value of the `num_workers` argument` (try 16 which is the number of cpus on this machine) in the `DataLoader` init to improve performance.\n",
      "  rank_zero_warn(\n"
     ]
    },
    {
     "data": {
      "application/vnd.jupyter.widget-view+json": {
       "model_id": "f7f5c3c610dc429fa5cfcc3d46134033",
       "version_major": 2,
       "version_minor": 0
      },
      "text/plain": [
       "Predicting: 0it [00:00, ?it/s]"
      ]
     },
     "metadata": {},
     "output_type": "display_data"
    },
    {
     "name": "stdout",
     "output_type": "stream",
     "text": [
      "{'mean': 20.62121212121212, 'std': 25.40574261536398, 'acc': 16.883116883116884, 'fail': 42.25, 'idx': 47, 'time': 0.003998517990112305}\n"
     ]
    },
    {
     "name": "stderr",
     "output_type": "stream",
     "text": [
      "Using 16bit native Automatic Mixed Precision (AMP)\n",
      "Trainer already configured with model summary callbacks: [<class 'pytorch_lightning.callbacks.model_summary.ModelSummary'>]. Skipping setting a default `ModelSummary` callback.\n",
      "GPU available: True (cuda), used: True\n",
      "TPU available: False, using: 0 TPU cores\n",
      "IPU available: False, using: 0 IPUs\n",
      "HPU available: False, using: 0 HPUs\n",
      "LOCAL_RANK: 0 - CUDA_VISIBLE_DEVICES: [0]\n",
      "c:\\Users\\James\\anaconda3\\lib\\site-packages\\pytorch_lightning\\trainer\\connectors\\data_connector.py:224: PossibleUserWarning: The dataloader, predict_dataloader 0, does not have many workers which may be a bottleneck. Consider increasing the value of the `num_workers` argument` (try 16 which is the number of cpus on this machine) in the `DataLoader` init to improve performance.\n",
      "  rank_zero_warn(\n"
     ]
    },
    {
     "data": {
      "application/vnd.jupyter.widget-view+json": {
       "model_id": "02605252a20647bca70eb636c5d3bcf6",
       "version_major": 2,
       "version_minor": 0
      },
      "text/plain": [
       "Predicting: 0it [00:00, ?it/s]"
      ]
     },
     "metadata": {},
     "output_type": "display_data"
    },
    {
     "name": "stdout",
     "output_type": "stream",
     "text": [
      "{'mean': 16.817133443163097, 'std': 23.185687719191055, 'acc': 21.4168039538715, 'fail': 24.125, 'idx': 48, 'time': 0.005006074905395508}\n"
     ]
    },
    {
     "name": "stderr",
     "output_type": "stream",
     "text": [
      "Using 16bit native Automatic Mixed Precision (AMP)\n",
      "Trainer already configured with model summary callbacks: [<class 'pytorch_lightning.callbacks.model_summary.ModelSummary'>]. Skipping setting a default `ModelSummary` callback.\n",
      "GPU available: True (cuda), used: True\n",
      "TPU available: False, using: 0 TPU cores\n",
      "IPU available: False, using: 0 IPUs\n",
      "HPU available: False, using: 0 HPUs\n",
      "LOCAL_RANK: 0 - CUDA_VISIBLE_DEVICES: [0]\n",
      "c:\\Users\\James\\anaconda3\\lib\\site-packages\\pytorch_lightning\\trainer\\connectors\\data_connector.py:224: PossibleUserWarning: The dataloader, predict_dataloader 0, does not have many workers which may be a bottleneck. Consider increasing the value of the `num_workers` argument` (try 16 which is the number of cpus on this machine) in the `DataLoader` init to improve performance.\n",
      "  rank_zero_warn(\n"
     ]
    },
    {
     "data": {
      "application/vnd.jupyter.widget-view+json": {
       "model_id": "aca47a6e464f49cb80cfb50778390fc8",
       "version_major": 2,
       "version_minor": 0
      },
      "text/plain": [
       "Predicting: 0it [00:00, ?it/s]"
      ]
     },
     "metadata": {},
     "output_type": "display_data"
    },
    {
     "name": "stdout",
     "output_type": "stream",
     "text": [
      "{'mean': 15.4739336492891, 'std': 22.218782168491813, 'acc': 25.434439178515007, 'fail': 20.875, 'idx': 49, 'time': 0.005994319915771484}\n"
     ]
    },
    {
     "name": "stderr",
     "output_type": "stream",
     "text": [
      "Using 16bit native Automatic Mixed Precision (AMP)\n",
      "Trainer already configured with model summary callbacks: [<class 'pytorch_lightning.callbacks.model_summary.ModelSummary'>]. Skipping setting a default `ModelSummary` callback.\n",
      "GPU available: True (cuda), used: True\n",
      "TPU available: False, using: 0 TPU cores\n",
      "IPU available: False, using: 0 IPUs\n",
      "HPU available: False, using: 0 HPUs\n",
      "LOCAL_RANK: 0 - CUDA_VISIBLE_DEVICES: [0]\n",
      "c:\\Users\\James\\anaconda3\\lib\\site-packages\\pytorch_lightning\\trainer\\connectors\\data_connector.py:224: PossibleUserWarning: The dataloader, predict_dataloader 0, does not have many workers which may be a bottleneck. Consider increasing the value of the `num_workers` argument` (try 16 which is the number of cpus on this machine) in the `DataLoader` init to improve performance.\n",
      "  rank_zero_warn(\n"
     ]
    },
    {
     "data": {
      "application/vnd.jupyter.widget-view+json": {
       "model_id": "a49f5da593e8465dab53b10f346a837a",
       "version_major": 2,
       "version_minor": 0
      },
      "text/plain": [
       "Predicting: 0it [00:00, ?it/s]"
      ]
     },
     "metadata": {},
     "output_type": "display_data"
    },
    {
     "name": "stdout",
     "output_type": "stream",
     "text": [
      "{'mean': 13.580152671755725, 'std': 21.089252064699853, 'acc': 25.34351145038168, 'fail': 18.125, 'idx': 50, 'time': 0.008528709411621094}\n"
     ]
    },
    {
     "name": "stderr",
     "output_type": "stream",
     "text": [
      "Using 16bit native Automatic Mixed Precision (AMP)\n",
      "Trainer already configured with model summary callbacks: [<class 'pytorch_lightning.callbacks.model_summary.ModelSummary'>]. Skipping setting a default `ModelSummary` callback.\n",
      "GPU available: True (cuda), used: True\n",
      "TPU available: False, using: 0 TPU cores\n",
      "IPU available: False, using: 0 IPUs\n",
      "HPU available: False, using: 0 HPUs\n",
      "LOCAL_RANK: 0 - CUDA_VISIBLE_DEVICES: [0]\n",
      "c:\\Users\\James\\anaconda3\\lib\\site-packages\\pytorch_lightning\\trainer\\connectors\\data_connector.py:224: PossibleUserWarning: The dataloader, predict_dataloader 0, does not have many workers which may be a bottleneck. Consider increasing the value of the `num_workers` argument` (try 16 which is the number of cpus on this machine) in the `DataLoader` init to improve performance.\n",
      "  rank_zero_warn(\n"
     ]
    },
    {
     "data": {
      "application/vnd.jupyter.widget-view+json": {
       "model_id": "f0c5724865a14b34903bf416c07b88ed",
       "version_major": 2,
       "version_minor": 0
      },
      "text/plain": [
       "Predicting: 0it [00:00, ?it/s]"
      ]
     },
     "metadata": {},
     "output_type": "display_data"
    },
    {
     "name": "stdout",
     "output_type": "stream",
     "text": [
      "{'mean': 12.72884012539185, 'std': 20.839365079080622, 'acc': 28.683385579937305, 'fail': 20.25, 'idx': 51, 'time': 0.00750732421875}\n"
     ]
    },
    {
     "name": "stderr",
     "output_type": "stream",
     "text": [
      "Using 16bit native Automatic Mixed Precision (AMP)\n",
      "Trainer already configured with model summary callbacks: [<class 'pytorch_lightning.callbacks.model_summary.ModelSummary'>]. Skipping setting a default `ModelSummary` callback.\n",
      "GPU available: True (cuda), used: True\n",
      "TPU available: False, using: 0 TPU cores\n",
      "IPU available: False, using: 0 IPUs\n",
      "HPU available: False, using: 0 HPUs\n",
      "LOCAL_RANK: 0 - CUDA_VISIBLE_DEVICES: [0]\n",
      "c:\\Users\\James\\anaconda3\\lib\\site-packages\\pytorch_lightning\\trainer\\connectors\\data_connector.py:224: PossibleUserWarning: The dataloader, predict_dataloader 0, does not have many workers which may be a bottleneck. Consider increasing the value of the `num_workers` argument` (try 16 which is the number of cpus on this machine) in the `DataLoader` init to improve performance.\n",
      "  rank_zero_warn(\n"
     ]
    },
    {
     "data": {
      "application/vnd.jupyter.widget-view+json": {
       "model_id": "2f9b8940ba404643adf595f0108da19a",
       "version_major": 2,
       "version_minor": 0
      },
      "text/plain": [
       "Predicting: 0it [00:00, ?it/s]"
      ]
     },
     "metadata": {},
     "output_type": "display_data"
    },
    {
     "name": "stdout",
     "output_type": "stream",
     "text": [
      "{'mean': 12.931851851851851, 'std': 20.562996797922853, 'acc': 26.814814814814813, 'fail': 15.625, 'idx': 52, 'time': 0.007515907287597656}\n"
     ]
    },
    {
     "name": "stderr",
     "output_type": "stream",
     "text": [
      "Using 16bit native Automatic Mixed Precision (AMP)\n",
      "Trainer already configured with model summary callbacks: [<class 'pytorch_lightning.callbacks.model_summary.ModelSummary'>]. Skipping setting a default `ModelSummary` callback.\n",
      "GPU available: True (cuda), used: True\n",
      "TPU available: False, using: 0 TPU cores\n",
      "IPU available: False, using: 0 IPUs\n",
      "HPU available: False, using: 0 HPUs\n",
      "LOCAL_RANK: 0 - CUDA_VISIBLE_DEVICES: [0]\n",
      "c:\\Users\\James\\anaconda3\\lib\\site-packages\\pytorch_lightning\\trainer\\connectors\\data_connector.py:224: PossibleUserWarning: The dataloader, predict_dataloader 0, does not have many workers which may be a bottleneck. Consider increasing the value of the `num_workers` argument` (try 16 which is the number of cpus on this machine) in the `DataLoader` init to improve performance.\n",
      "  rank_zero_warn(\n"
     ]
    },
    {
     "data": {
      "application/vnd.jupyter.widget-view+json": {
       "model_id": "dba5096f95d943059920a8c570207f94",
       "version_major": 2,
       "version_minor": 0
      },
      "text/plain": [
       "Predicting: 0it [00:00, ?it/s]"
      ]
     },
     "metadata": {},
     "output_type": "display_data"
    },
    {
     "name": "stdout",
     "output_type": "stream",
     "text": [
      "{'mean': 12.927007299270073, 'std': 21.05454682814695, 'acc': 29.635036496350363, 'fail': 14.374999999999998, 'idx': 53, 'time': 0.00809168815612793}\n"
     ]
    }
   ],
   "source": [
    "query_count = 800\n",
    "\n",
    "def executeIndex(df, idx, queries, k):\n",
    "    row = df.iloc[idx]\n",
    "    kind = row[\"index\"]\n",
    "    with open(os.path.join(\"indices\", f\"{idx}.pkl\"), \"rb\") as indexfile:\n",
    "        index = pickle.load(indexfile)\n",
    "\n",
    "    start = time.time()\n",
    "    if kind == \"kdtree\":\n",
    "        results = index.query(queries, k=k, return_distance=False)\n",
    "    elif kind == \"pynn\":\n",
    "        results = index.query(queries, k=k)[0]\n",
    "    elif kind == \"hnsw\":\n",
    "        results = index.knn_query(queries, k=k)[0]\n",
    "    stop = time.time()\n",
    "\n",
    "    return results, stop-start\n",
    "\n",
    "def benchmarkIndex(df, idx, dataset=None, query_embeddings=None, query_idxs=None):\n",
    "    results, delta = executeIndex(df, idx, query_embeddings)\n",
    "\n",
    "    stats = analyseResults(dataset, query_idxs, results)\n",
    "    stats[\"idx\"] = idx\n",
    "    stats[\"time\"] = delta\n",
    "\n",
    "    return stats\n",
    "\n",
    "model_df = pd.read_pickle(\"hyperparameters.pkl\")\n",
    "index_df = pd.read_pickle(\"indices.pkl\").join(model_df, on=\"reduction_model\", rsuffix=\"_model\")\n",
    "result_df = pd.DataFrame()\n",
    "\n",
    "for idx, row in index_df.iterrows():\n",
    "    dataset = utils.loadH5Dataset(utils.DATASETS[row[\"dataset\"]])\n",
    "    \n",
    "    query_idxs = np.arange(len(dataset.test))\n",
    "    np.random.shuffle(query_idxs)\n",
    "    query_idxs = query_idxs[:min(query_count, len(query_idxs))]\n",
    "\n",
    "    model = utils.loadModel(model_df, row[\"reduction_model\"])\n",
    "    trainer = pl.Trainer(logger=False, **utils.TRAINER_ARGS)\n",
    "    test_loader = utils.createDataLoader(dataset.test)\n",
    "    test_embeddings = utils.numpyConvert(torch.cat(trainer.predict(model, test_loader)))\n",
    "    query_embeddings = test_embeddings[query_idxs]\n",
    "\n",
    "    stats = benchmarkIndex(index_df, idx, dataset=dataset, query_embeddings=query_embeddings, query_idxs=query_idxs)\n",
    "    print(stats)\n",
    "    row = pd.DataFrame(stats, index=[0])\n",
    "    result_df = pd.concat([result_df, row], ignore_index=True)"
   ]
  },
  {
   "cell_type": "code",
   "execution_count": 27,
   "metadata": {},
   "outputs": [
    {
     "name": "stdout",
     "output_type": "stream",
     "text": [
      "         mean        std        acc    fail  idx       time   index  \\\n",
      "0    1.048750   4.461656  71.875000   0.000    0  14.865583  kdtree   \n",
      "1    8.307388  16.443851  32.585752   5.250    1   0.007520    pynn   \n",
      "2    4.103846  10.204737  48.333333   2.500    2   0.006507    pynn   \n",
      "3    2.332071   7.815556  55.176768   1.000    3   0.007510    pynn   \n",
      "4    2.025221   8.004373  61.790668   0.875    4   0.010520    pynn   \n",
      "5    0.977387   2.875034  66.959799   0.500    5   0.048092    hnsw   \n",
      "6    1.023780   3.858341  70.087610   0.125    6   0.046611    hnsw   \n",
      "7    0.996236   3.658748  70.388959   0.375    7   0.046583    hnsw   \n",
      "8    1.090226   4.348466  68.671679   0.250    8   0.046605    hnsw   \n",
      "9    1.727729   5.912146  62.860728   0.375    9   4.322430  kdtree   \n",
      "10   7.472074  14.707042  33.244681   6.000   10   0.003005    pynn   \n",
      "11   4.905563  12.415828  46.571798   3.375   11   0.003519    pynn   \n",
      "12   2.843038   7.755483  53.797468   1.250   12   0.004002    pynn   \n",
      "13   2.064151   5.899124  57.232704   0.625   13   0.004524    pynn   \n",
      "14   1.952081   6.371257  63.430013   0.875   14   0.007540    hnsw   \n",
      "15   1.582390   5.097213  63.144654   0.625   15   0.009523    hnsw   \n",
      "16   1.808376   6.271973  64.974619   1.500   16   0.013531    hnsw   \n",
      "17   1.459119   5.319883  64.276730   0.625   17   0.008522    hnsw   \n",
      "18   3.807245   9.723225  49.159120   3.375   18   0.365911  kdtree   \n",
      "19  10.874822  18.186914  29.729730  12.125   19   0.002006    pynn   \n",
      "20   7.993351  16.027858  35.106383   6.000   20   0.002002    pynn   \n",
      "21   6.717507  14.302104  38.992042   5.750   21   0.002490    pynn   \n",
      "22   5.371094  12.753841  44.661458   4.000   22   0.002998    pynn   \n",
      "23   4.723295  11.465325  49.678250   2.875   23   0.004007    hnsw   \n",
      "24   4.257812  10.581341  48.828125   4.000   24   0.005005    hnsw   \n",
      "25   4.807040  11.150707  45.632334   4.125   25   0.004517    hnsw   \n",
      "26   4.404669  11.444659  47.859922   3.625   26   0.006065    hnsw   \n",
      "27   0.690000   2.041176  72.125000   0.000   27  85.758590  kdtree   \n",
      "28  20.955932  24.991756  16.101695  26.250   28   0.005000    pynn   \n",
      "29  14.332418  20.625905  21.840659   9.000   29   0.006052    pynn   \n",
      "30   6.175484  12.758306  37.677419   3.125   30   0.008506    pynn   \n",
      "31   3.667089   8.228035  43.291139   1.250   31   0.010431    pynn   \n",
      "32   1.211250   3.225930  63.625000   0.000   32   0.029563    hnsw   \n",
      "33   1.273183   3.103972  62.531328   0.250   33   0.023309    hnsw   \n",
      "34   1.459324   3.874829  62.327910   0.125   34   0.028567    hnsw   \n",
      "35   1.505632   3.991813  63.204005   0.125   35   0.030066    hnsw   \n",
      "36   7.295484  14.191653  39.225806   3.125   36  47.609985  kdtree   \n",
      "37  23.302273  27.146187  15.909091  45.000   37   0.004005    pynn   \n",
      "38  18.640511  24.145626  18.795620  31.500   38   0.005008    pynn   \n",
      "39  14.109971  21.996692  26.392962  14.750   39   0.006507    pynn   \n",
      "40  11.714685  19.575273  31.188811  10.625   40   0.007516    pynn   \n",
      "41   8.906456  16.737387  34.782609   5.125   41   0.019699    hnsw   \n",
      "42   9.678715  17.404814  33.868809   6.625   42   0.019032    hnsw   \n",
      "43   8.517333  15.785026  36.400000   6.250   43   0.017566    hnsw   \n",
      "44   8.913102  16.917832  34.224599   6.500   44   0.018038    hnsw   \n",
      "45  12.476858  20.078663  30.154278  10.875   45  14.014237  kdtree   \n",
      "46  23.437340  26.768794  15.345269  51.125   46   0.004256    pynn   \n",
      "47  20.621212  25.405743  16.883117  42.250   47   0.003999    pynn   \n",
      "48  16.817133  23.185688  21.416804  24.125   48   0.005006    pynn   \n",
      "49  15.473934  22.218782  25.434439  20.875   49   0.005994    pynn   \n",
      "50  13.580153  21.089252  25.343511  18.125   50   0.008529    hnsw   \n",
      "51  12.728840  20.839365  28.683386  20.250   51   0.007507    hnsw   \n",
      "52  12.931852  20.562997  26.814815  15.625   52   0.007516    hnsw   \n",
      "53  12.927007  21.054547  29.635036  14.375   53   0.008092    hnsw   \n",
      "\n",
      "    index_param  reduction_model                 time_index  dimensions  \\\n",
      "0            -1                7 2023-04-25 04:19:37.172964         400   \n",
      "1             5                7 2023-04-25 04:19:59.489945         400   \n",
      "2            10                7 2023-04-25 04:20:30.324162         400   \n",
      "3            25                7 2023-04-25 04:21:02.891798         400   \n",
      "4            50                7 2023-04-25 04:21:40.618108         400   \n",
      "5             5                7 2023-04-25 04:22:24.425375         400   \n",
      "6            10                7 2023-04-25 04:22:57.641592         400   \n",
      "7            25                7 2023-04-25 04:23:31.262171         400   \n",
      "8            50                7 2023-04-25 04:24:04.715073         400   \n",
      "9            -1                9 2023-04-25 04:24:16.523735         100   \n",
      "10            5                9 2023-04-25 04:24:37.658273         100   \n",
      "11           10                9 2023-04-25 04:25:08.766737         100   \n",
      "12           25                9 2023-04-25 04:25:40.391001         100   \n",
      "13           50                9 2023-04-25 04:26:16.033556         100   \n",
      "14            5                9 2023-04-25 04:26:40.014881         100   \n",
      "15           10                9 2023-04-25 04:26:53.237781         100   \n",
      "16           25                9 2023-04-25 04:27:06.191443         100   \n",
      "17           50                9 2023-04-25 04:27:19.252722         100   \n",
      "18           -1               11 2023-04-25 04:27:30.255508          25   \n",
      "19            5               11 2023-04-25 04:27:51.788277          25   \n",
      "20           10               11 2023-04-25 04:28:22.376692          25   \n",
      "21           25               11 2023-04-25 04:28:54.216830          25   \n",
      "22           50               11 2023-04-25 04:29:30.647329          25   \n",
      "23            5               11 2023-04-25 04:29:52.811406          25   \n",
      "24           10               11 2023-04-25 04:30:04.192006          25   \n",
      "25           25               11 2023-04-25 04:30:15.581578          25   \n",
      "26           50               11 2023-04-25 04:30:26.964515          25   \n",
      "27           -1               19 2023-04-25 04:31:19.122652          88   \n",
      "28            5               19 2023-04-25 04:32:19.011646          88   \n",
      "29           10               19 2023-04-25 04:34:03.155230          88   \n",
      "30           25               19 2023-04-25 04:36:09.151669          88   \n",
      "31           50               19 2023-04-25 04:39:13.493291          88   \n",
      "32            5               19 2023-04-25 04:42:42.416383          88   \n",
      "33           10               19 2023-04-25 04:44:46.047315          88   \n",
      "34           25               19 2023-04-25 04:46:50.136853          88   \n",
      "35           50               19 2023-04-25 04:48:54.381638          88   \n",
      "36           -1               21 2023-04-25 04:49:37.533746          44   \n",
      "37            5               21 2023-04-25 04:50:34.151522          44   \n",
      "38           10               21 2023-04-25 04:52:14.401304          44   \n",
      "39           25               21 2023-04-25 04:54:13.359414          44   \n",
      "40           50               21 2023-04-25 04:57:09.155892          44   \n",
      "41            5               21 2023-04-25 04:59:38.927184          44   \n",
      "42           10               21 2023-04-25 05:00:42.802666          44   \n",
      "43           25               21 2023-04-25 05:01:47.430763          44   \n",
      "44           50               21 2023-04-25 05:02:55.707692          44   \n",
      "45           -1               23 2023-04-25 05:03:34.507249          24   \n",
      "46            5               23 2023-04-25 05:04:30.882451          24   \n",
      "47           10               23 2023-04-25 05:06:10.677384          24   \n",
      "48           25               23 2023-04-25 05:08:08.318582          24   \n",
      "49           50               23 2023-04-25 05:10:57.728361          24   \n",
      "50            5               23 2023-04-25 05:13:07.289090          24   \n",
      "51           10               23 2023-04-25 05:13:50.588336          24   \n",
      "52           25               23 2023-04-25 05:14:34.659580          24   \n",
      "53           50               23 2023-04-25 05:15:29.620406          24   \n",
      "\n",
      "         dataset    model     type                 time_model  \n",
      "0   fashionmnist  basicnn  autoenc 2023-04-17 19:42:51.196482  \n",
      "1   fashionmnist  basicnn  autoenc 2023-04-17 19:42:51.196482  \n",
      "2   fashionmnist  basicnn  autoenc 2023-04-17 19:42:51.196482  \n",
      "3   fashionmnist  basicnn  autoenc 2023-04-17 19:42:51.196482  \n",
      "4   fashionmnist  basicnn  autoenc 2023-04-17 19:42:51.196482  \n",
      "5   fashionmnist  basicnn  autoenc 2023-04-17 19:42:51.196482  \n",
      "6   fashionmnist  basicnn  autoenc 2023-04-17 19:42:51.196482  \n",
      "7   fashionmnist  basicnn  autoenc 2023-04-17 19:42:51.196482  \n",
      "8   fashionmnist  basicnn  autoenc 2023-04-17 19:42:51.196482  \n",
      "9   fashionmnist  basicnn  autoenc 2023-04-17 19:46:26.261599  \n",
      "10  fashionmnist  basicnn  autoenc 2023-04-17 19:46:26.261599  \n",
      "11  fashionmnist  basicnn  autoenc 2023-04-17 19:46:26.261599  \n",
      "12  fashionmnist  basicnn  autoenc 2023-04-17 19:46:26.261599  \n",
      "13  fashionmnist  basicnn  autoenc 2023-04-17 19:46:26.261599  \n",
      "14  fashionmnist  basicnn  autoenc 2023-04-17 19:46:26.261599  \n",
      "15  fashionmnist  basicnn  autoenc 2023-04-17 19:46:26.261599  \n",
      "16  fashionmnist  basicnn  autoenc 2023-04-17 19:46:26.261599  \n",
      "17  fashionmnist  basicnn  autoenc 2023-04-17 19:46:26.261599  \n",
      "18  fashionmnist  basicnn  autoenc 2023-04-17 19:49:44.874378  \n",
      "19  fashionmnist  basicnn  autoenc 2023-04-17 19:49:44.874378  \n",
      "20  fashionmnist  basicnn  autoenc 2023-04-17 19:49:44.874378  \n",
      "21  fashionmnist  basicnn  autoenc 2023-04-17 19:49:44.874378  \n",
      "22  fashionmnist  basicnn  autoenc 2023-04-17 19:49:44.874378  \n",
      "23  fashionmnist  basicnn  autoenc 2023-04-17 19:49:44.874378  \n",
      "24  fashionmnist  basicnn  autoenc 2023-04-17 19:49:44.874378  \n",
      "25  fashionmnist  basicnn  autoenc 2023-04-17 19:49:44.874378  \n",
      "26  fashionmnist  basicnn  autoenc 2023-04-17 19:49:44.874378  \n",
      "27          sift  basicnn  autoenc 2023-04-17 21:32:11.315895  \n",
      "28          sift  basicnn  autoenc 2023-04-17 21:32:11.315895  \n",
      "29          sift  basicnn  autoenc 2023-04-17 21:32:11.315895  \n",
      "30          sift  basicnn  autoenc 2023-04-17 21:32:11.315895  \n",
      "31          sift  basicnn  autoenc 2023-04-17 21:32:11.315895  \n",
      "32          sift  basicnn  autoenc 2023-04-17 21:32:11.315895  \n",
      "33          sift  basicnn  autoenc 2023-04-17 21:32:11.315895  \n",
      "34          sift  basicnn  autoenc 2023-04-17 21:32:11.315895  \n",
      "35          sift  basicnn  autoenc 2023-04-17 21:32:11.315895  \n",
      "36          sift  basicnn  autoenc 2023-04-17 22:06:18.648677  \n",
      "37          sift  basicnn  autoenc 2023-04-17 22:06:18.648677  \n",
      "38          sift  basicnn  autoenc 2023-04-17 22:06:18.648677  \n",
      "39          sift  basicnn  autoenc 2023-04-17 22:06:18.648677  \n",
      "40          sift  basicnn  autoenc 2023-04-17 22:06:18.648677  \n",
      "41          sift  basicnn  autoenc 2023-04-17 22:06:18.648677  \n",
      "42          sift  basicnn  autoenc 2023-04-17 22:06:18.648677  \n",
      "43          sift  basicnn  autoenc 2023-04-17 22:06:18.648677  \n",
      "44          sift  basicnn  autoenc 2023-04-17 22:06:18.648677  \n",
      "45          sift  basicnn  autoenc 2023-04-17 22:39:06.665695  \n",
      "46          sift  basicnn  autoenc 2023-04-17 22:39:06.665695  \n",
      "47          sift  basicnn  autoenc 2023-04-17 22:39:06.665695  \n",
      "48          sift  basicnn  autoenc 2023-04-17 22:39:06.665695  \n",
      "49          sift  basicnn  autoenc 2023-04-17 22:39:06.665695  \n",
      "50          sift  basicnn  autoenc 2023-04-17 22:39:06.665695  \n",
      "51          sift  basicnn  autoenc 2023-04-17 22:39:06.665695  \n",
      "52          sift  basicnn  autoenc 2023-04-17 22:39:06.665695  \n",
      "53          sift  basicnn  autoenc 2023-04-17 22:39:06.665695  \n"
     ]
    }
   ],
   "source": [
    "print(result_df.join(index_df, on=\"idx\", rsuffix=\"_index\"))"
   ]
  }
 ],
 "metadata": {
  "kernelspec": {
   "display_name": "base",
   "language": "python",
   "name": "python3"
  },
  "language_info": {
   "codemirror_mode": {
    "name": "ipython",
    "version": 3
   },
   "file_extension": ".py",
   "mimetype": "text/x-python",
   "name": "python",
   "nbconvert_exporter": "python",
   "pygments_lexer": "ipython3",
   "version": "3.9.13"
  },
  "orig_nbformat": 4,
  "vscode": {
   "interpreter": {
    "hash": "02e30a1944b2587bb1294f2383a42da531eec4184971017897223c044f6bc1ae"
   }
  }
 },
 "nbformat": 4,
 "nbformat_minor": 2
}
